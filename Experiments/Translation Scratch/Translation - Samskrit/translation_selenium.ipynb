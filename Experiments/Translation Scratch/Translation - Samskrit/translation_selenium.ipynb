{
 "cells": [
  {
   "cell_type": "code",
   "execution_count": 1,
   "metadata": {
    "ExecuteTime": {
     "end_time": "2021-12-24T16:22:24.272196Z",
     "start_time": "2021-12-24T16:22:14.968134Z"
    },
    "executionInfo": {
     "elapsed": 39995,
     "status": "ok",
     "timestamp": 1640193282900,
     "user": {
      "displayName": "Sarthak Rastogi",
      "photoUrl": "https://lh3.googleusercontent.com/a-/AOh14GgjV2l0bM183bdefu3PYpY3V0EEWbr7EAUJZfSsQyA=s64",
      "userId": "13011506269675720653"
     },
     "user_tz": -330
    },
    "id": "hZaNoWNG6UOW"
   },
   "outputs": [],
   "source": [
    "%%capture\n",
    "!pip install selenium\n",
    "!apt-get update # to update ubuntu to correctly run apt install\n",
    "!apt install chromium-chromedriver\n",
    "!cp /usr/lib/chromium-browser/chromedriver /usr/bin\n"
   ]
  },
  {
   "cell_type": "code",
   "execution_count": 1,
   "metadata": {
    "ExecuteTime": {
     "end_time": "2021-12-30T10:46:08.550197Z",
     "start_time": "2021-12-30T10:46:08.247207Z"
    }
   },
   "outputs": [],
   "source": [
    "import sys\n",
    "sys.path.insert(0,'/usr/lib/chromium-browser/chromedriver')\n",
    "from selenium import webdriver\n",
    "chrome_options = webdriver.ChromeOptions()\n",
    "chrome_options.add_argument('--headless')\n",
    "chrome_options.add_argument('--no-sandbox')\n",
    "chrome_options.add_argument('--disable-dev-shm-usage')\n"
   ]
  },
  {
   "cell_type": "code",
   "execution_count": 17,
   "metadata": {
    "ExecuteTime": {
     "end_time": "2021-12-30T10:54:34.008797Z",
     "start_time": "2021-12-30T10:54:33.987775Z"
    },
    "colab": {
     "base_uri": "https://localhost:8080/"
    },
    "executionInfo": {
     "elapsed": 722,
     "status": "ok",
     "timestamp": 1640193283604,
     "user": {
      "displayName": "Sarthak Rastogi",
      "photoUrl": "https://lh3.googleusercontent.com/a-/AOh14GgjV2l0bM183bdefu3PYpY3V0EEWbr7EAUJZfSsQyA=s64",
      "userId": "13011506269675720653"
     },
     "user_tz": -330
    },
    "id": "2ICUPTqK7SVb",
    "outputId": "c9067179-677a-4295-a595-04166db3f2fa"
   },
   "outputs": [],
   "source": [
    "import requests\n",
    "from bs4 import BeautifulSoup\n",
    "from tqdm.notebook import tqdm\n",
    "import random\n",
    "import json\n",
    "import pandas as pd\n",
    "import time\n",
    "import warnings\n",
    "from selenium import webdriver\n",
    "import re\n",
    "from selenium.webdriver.common.keys import Keys\n",
    "warnings.filterwarnings(\"ignore\", category=DeprecationWarning) \n",
    "from itertools import cycle"
   ]
  },
  {
   "cell_type": "code",
   "execution_count": 3,
   "metadata": {
    "ExecuteTime": {
     "end_time": "2021-12-30T10:46:11.995688Z",
     "start_time": "2021-12-30T10:46:11.982666Z"
    },
    "executionInfo": {
     "elapsed": 14,
     "status": "ok",
     "timestamp": 1640193283607,
     "user": {
      "displayName": "Sarthak Rastogi",
      "photoUrl": "https://lh3.googleusercontent.com/a-/AOh14GgjV2l0bM183bdefu3PYpY3V0EEWbr7EAUJZfSsQyA=s64",
      "userId": "13011506269675720653"
     },
     "user_tz": -330
    },
    "id": "5flYwdAC7VNw"
   },
   "outputs": [],
   "source": [
    "headers = {'User-Agent': 'Mozilla/5.0 (Windows NT 10.0; Win64; x64) AppleWebKit/537.36 (KHTML, like Gecko) Chrome/89.0.4389.82 Safari/537.36'}"
   ]
  },
  {
   "cell_type": "code",
   "execution_count": 4,
   "metadata": {
    "ExecuteTime": {
     "end_time": "2021-12-30T10:46:15.635323Z",
     "start_time": "2021-12-30T10:46:15.607325Z"
    },
    "colab": {
     "base_uri": "https://localhost:8080/"
    },
    "executionInfo": {
     "elapsed": 19456,
     "status": "ok",
     "timestamp": 1640193303050,
     "user": {
      "displayName": "Sarthak Rastogi",
      "photoUrl": "https://lh3.googleusercontent.com/a-/AOh14GgjV2l0bM183bdefu3PYpY3V0EEWbr7EAUJZfSsQyA=s64",
      "userId": "13011506269675720653"
     },
     "user_tz": -330
    },
    "id": "GBhbtna97i6T",
    "outputId": "2e2e09a2-a8b6-4117-84db-07a3e3eee159"
   },
   "outputs": [
    {
     "data": {
      "text/plain": [
       "'\\nfrom google.colab import drive\\ndrive.mount(\\'/content/drive\\')\\n\\nproject_path = \"/content/drive/MyDrive/Colab Notebooks/Projects/PIE/\"\\n'"
      ]
     },
     "execution_count": 4,
     "metadata": {},
     "output_type": "execute_result"
    }
   ],
   "source": [
    "'''\n",
    "from google.colab import drive\n",
    "drive.mount('/content/drive')\n",
    "\n",
    "project_path = \"/content/drive/MyDrive/Colab Notebooks/Projects/PIE/\"\n",
    "'''"
   ]
  },
  {
   "cell_type": "code",
   "execution_count": 5,
   "metadata": {
    "ExecuteTime": {
     "end_time": "2021-12-30T10:46:16.420750Z",
     "start_time": "2021-12-30T10:46:16.324640Z"
    },
    "executionInfo": {
     "elapsed": 1496,
     "status": "ok",
     "timestamp": 1640193304531,
     "user": {
      "displayName": "Sarthak Rastogi",
      "photoUrl": "https://lh3.googleusercontent.com/a-/AOh14GgjV2l0bM183bdefu3PYpY3V0EEWbr7EAUJZfSsQyA=s64",
      "userId": "13011506269675720653"
     },
     "user_tz": -330
    },
    "id": "KiC1yCd8hpMj"
   },
   "outputs": [],
   "source": [
    "with open(\"C:/Users/hp/Google Drive/Colab Notebooks/Projects/PIE/Translated_Embeddings/keys_nl/\" + \"en\"+\".txt\", encoding='utf-8') as file_in:\n",
    "    lines = []\n",
    "    for line in file_in:\n",
    "        lines.append(line.rstrip())\n",
    "en_keys = lines"
   ]
  },
  {
   "cell_type": "code",
   "execution_count": 6,
   "metadata": {
    "ExecuteTime": {
     "end_time": "2021-12-30T10:46:17.550534Z",
     "start_time": "2021-12-30T10:46:17.533590Z"
    }
   },
   "outputs": [
    {
     "data": {
      "text/plain": [
       "['have', 'not', 'also', 'year', 'there']"
      ]
     },
     "execution_count": 6,
     "metadata": {},
     "output_type": "execute_result"
    }
   ],
   "source": [
    "en_keys[:5]"
   ]
  },
  {
   "cell_type": "code",
   "execution_count": 20,
   "metadata": {
    "ExecuteTime": {
     "end_time": "2021-12-30T10:56:34.122955Z",
     "start_time": "2021-12-30T10:56:34.033992Z"
    }
   },
   "outputs": [
    {
     "name": "stderr",
     "output_type": "stream",
     "text": [
      "'wget' is not recognized as an internal or external command,\n",
      "operable program or batch file.\n"
     ]
    }
   ],
   "source": [
    "!wget https://raw.githubusercontent.com/jetkai/proxy-list/main/online-proxies/txt/proxies-https.txt"
   ]
  },
  {
   "cell_type": "code",
   "execution_count": 22,
   "metadata": {
    "ExecuteTime": {
     "end_time": "2021-12-30T10:58:31.358486Z",
     "start_time": "2021-12-30T10:58:31.316493Z"
    }
   },
   "outputs": [],
   "source": [
    "with open(\"proxies.txt\", encoding='utf-8') as file_in:\n",
    "    lines = []\n",
    "    for line in file_in:\n",
    "        lines.append(line.rstrip())\n",
    "proxies = lines"
   ]
  },
  {
   "cell_type": "code",
   "execution_count": 23,
   "metadata": {
    "ExecuteTime": {
     "end_time": "2021-12-30T10:58:32.230471Z",
     "start_time": "2021-12-30T10:58:32.202471Z"
    }
   },
   "outputs": [
    {
     "data": {
      "text/plain": [
       "6998"
      ]
     },
     "execution_count": 23,
     "metadata": {},
     "output_type": "execute_result"
    }
   ],
   "source": [
    "len(proxies)"
   ]
  },
  {
   "cell_type": "code",
   "execution_count": 13,
   "metadata": {
    "ExecuteTime": {
     "end_time": "2021-12-30T10:50:34.962976Z",
     "start_time": "2021-12-30T10:50:34.950003Z"
    }
   },
   "outputs": [],
   "source": [
    "\n",
    "#proxies = to_get_proxies()\n",
    " \n",
    "# to rotate through the list of IPs\n",
    "proxyPool = cycle(proxies) \n",
    " "
   ]
  },
  {
   "cell_type": "code",
   "execution_count": null,
   "metadata": {},
   "outputs": [],
   "source": [
    "for i in range(1,11):\n",
    "    #Get a proxy from the pool\n",
    "    proxy = next(proxyPool)\n",
    "    print(\"Request #%d\"%i)\n",
    "    try:\n",
    "        response = requests.get(url,proxies={\"http\": proxy, \"https\": proxy})\n",
    "        print(response.json())\n",
    "    except: print(\"Skipping. Connnection error\")\n"
   ]
  },
  {
   "cell_type": "code",
   "execution_count": 12,
   "metadata": {
    "ExecuteTime": {
     "end_time": "2021-12-24T16:22:27.365504Z",
     "start_time": "2021-12-24T16:22:27.342481Z"
    }
   },
   "outputs": [],
   "source": [
    "import random"
   ]
  },
  {
   "cell_type": "code",
   "execution_count": 19,
   "metadata": {
    "ExecuteTime": {
     "end_time": "2021-12-30T10:55:15.954285Z",
     "start_time": "2021-12-30T10:55:14.225671Z"
    },
    "scrolled": true
   },
   "outputs": [
    {
     "data": {
      "application/vnd.jupyter.widget-view+json": {
       "model_id": "092b53bc3b88455ca6a8802a09109740",
       "version_major": 2,
       "version_minor": 0
      },
      "text/plain": [
       "HBox(children=(HTML(value=''), FloatProgress(value=0.0, max=6000.0), HTML(value='')))"
      ]
     },
     "metadata": {},
     "output_type": "display_data"
    },
    {
     "name": "stdout",
     "output_type": "stream",
     "text": [
      "\n"
     ]
    },
    {
     "ename": "AttributeError",
     "evalue": "'itertools.cycle' object has no attribute 'get'",
     "output_type": "error",
     "traceback": [
      "\u001b[1;31m---------------------------------------------------------------------------\u001b[0m",
      "\u001b[1;31mAttributeError\u001b[0m                            Traceback (most recent call last)",
      "\u001b[1;32m<ipython-input-19-b32ceb0da280>\u001b[0m in \u001b[0;36m<module>\u001b[1;34m\u001b[0m\n\u001b[0;32m     12\u001b[0m     \u001b[1;31m#driver.get(url1)\u001b[0m\u001b[1;33m\u001b[0m\u001b[1;33m\u001b[0m\u001b[1;33m\u001b[0m\u001b[0m\n\u001b[0;32m     13\u001b[0m     \u001b[1;31m#driver\u001b[0m\u001b[1;33m\u001b[0m\u001b[1;33m\u001b[0m\u001b[1;33m\u001b[0m\u001b[0m\n\u001b[1;32m---> 14\u001b[1;33m     \u001b[0mr\u001b[0m \u001b[1;33m=\u001b[0m \u001b[0mrequests\u001b[0m\u001b[1;33m.\u001b[0m\u001b[0mget\u001b[0m\u001b[1;33m(\u001b[0m\u001b[1;34m\"https://www.shabdkosh.com/dictionary/english-sanskrit/\"\u001b[0m\u001b[1;33m,\u001b[0m \u001b[0mproxies\u001b[0m\u001b[1;33m=\u001b[0m\u001b[0mproxyPool\u001b[0m\u001b[1;33m)\u001b[0m\u001b[1;33m\u001b[0m\u001b[1;33m\u001b[0m\u001b[0m\n\u001b[0m\u001b[0;32m     15\u001b[0m \u001b[1;33m\u001b[0m\u001b[0m\n\u001b[0;32m     16\u001b[0m     \u001b[0mm\u001b[0m \u001b[1;33m=\u001b[0m \u001b[0mdriver\u001b[0m\u001b[1;33m.\u001b[0m\u001b[0mfind_element_by_name\u001b[0m\u001b[1;33m(\u001b[0m\u001b[1;34m\"e\"\u001b[0m\u001b[1;33m)\u001b[0m\u001b[1;33m\u001b[0m\u001b[1;33m\u001b[0m\u001b[0m\n",
      "\u001b[1;32mC:\\ProgramData\\Anaconda3\\lib\\site-packages\\requests\\api.py\u001b[0m in \u001b[0;36mget\u001b[1;34m(url, params, **kwargs)\u001b[0m\n\u001b[0;32m     74\u001b[0m \u001b[1;33m\u001b[0m\u001b[0m\n\u001b[0;32m     75\u001b[0m     \u001b[0mkwargs\u001b[0m\u001b[1;33m.\u001b[0m\u001b[0msetdefault\u001b[0m\u001b[1;33m(\u001b[0m\u001b[1;34m'allow_redirects'\u001b[0m\u001b[1;33m,\u001b[0m \u001b[1;32mTrue\u001b[0m\u001b[1;33m)\u001b[0m\u001b[1;33m\u001b[0m\u001b[1;33m\u001b[0m\u001b[0m\n\u001b[1;32m---> 76\u001b[1;33m     \u001b[1;32mreturn\u001b[0m \u001b[0mrequest\u001b[0m\u001b[1;33m(\u001b[0m\u001b[1;34m'get'\u001b[0m\u001b[1;33m,\u001b[0m \u001b[0murl\u001b[0m\u001b[1;33m,\u001b[0m \u001b[0mparams\u001b[0m\u001b[1;33m=\u001b[0m\u001b[0mparams\u001b[0m\u001b[1;33m,\u001b[0m \u001b[1;33m**\u001b[0m\u001b[0mkwargs\u001b[0m\u001b[1;33m)\u001b[0m\u001b[1;33m\u001b[0m\u001b[1;33m\u001b[0m\u001b[0m\n\u001b[0m\u001b[0;32m     77\u001b[0m \u001b[1;33m\u001b[0m\u001b[0m\n\u001b[0;32m     78\u001b[0m \u001b[1;33m\u001b[0m\u001b[0m\n",
      "\u001b[1;32mC:\\ProgramData\\Anaconda3\\lib\\site-packages\\requests\\api.py\u001b[0m in \u001b[0;36mrequest\u001b[1;34m(method, url, **kwargs)\u001b[0m\n\u001b[0;32m     59\u001b[0m     \u001b[1;31m# cases, and look like a memory leak in others.\u001b[0m\u001b[1;33m\u001b[0m\u001b[1;33m\u001b[0m\u001b[1;33m\u001b[0m\u001b[0m\n\u001b[0;32m     60\u001b[0m     \u001b[1;32mwith\u001b[0m \u001b[0msessions\u001b[0m\u001b[1;33m.\u001b[0m\u001b[0mSession\u001b[0m\u001b[1;33m(\u001b[0m\u001b[1;33m)\u001b[0m \u001b[1;32mas\u001b[0m \u001b[0msession\u001b[0m\u001b[1;33m:\u001b[0m\u001b[1;33m\u001b[0m\u001b[1;33m\u001b[0m\u001b[0m\n\u001b[1;32m---> 61\u001b[1;33m         \u001b[1;32mreturn\u001b[0m \u001b[0msession\u001b[0m\u001b[1;33m.\u001b[0m\u001b[0mrequest\u001b[0m\u001b[1;33m(\u001b[0m\u001b[0mmethod\u001b[0m\u001b[1;33m=\u001b[0m\u001b[0mmethod\u001b[0m\u001b[1;33m,\u001b[0m \u001b[0murl\u001b[0m\u001b[1;33m=\u001b[0m\u001b[0murl\u001b[0m\u001b[1;33m,\u001b[0m \u001b[1;33m**\u001b[0m\u001b[0mkwargs\u001b[0m\u001b[1;33m)\u001b[0m\u001b[1;33m\u001b[0m\u001b[1;33m\u001b[0m\u001b[0m\n\u001b[0m\u001b[0;32m     62\u001b[0m \u001b[1;33m\u001b[0m\u001b[0m\n\u001b[0;32m     63\u001b[0m \u001b[1;33m\u001b[0m\u001b[0m\n",
      "\u001b[1;32mC:\\ProgramData\\Anaconda3\\lib\\site-packages\\requests\\sessions.py\u001b[0m in \u001b[0;36mrequest\u001b[1;34m(self, method, url, params, data, headers, cookies, files, auth, timeout, allow_redirects, proxies, hooks, stream, verify, cert, json)\u001b[0m\n\u001b[0;32m    518\u001b[0m         \u001b[0mproxies\u001b[0m \u001b[1;33m=\u001b[0m \u001b[0mproxies\u001b[0m \u001b[1;32mor\u001b[0m \u001b[1;33m{\u001b[0m\u001b[1;33m}\u001b[0m\u001b[1;33m\u001b[0m\u001b[1;33m\u001b[0m\u001b[0m\n\u001b[0;32m    519\u001b[0m \u001b[1;33m\u001b[0m\u001b[0m\n\u001b[1;32m--> 520\u001b[1;33m         settings = self.merge_environment_settings(\n\u001b[0m\u001b[0;32m    521\u001b[0m             \u001b[0mprep\u001b[0m\u001b[1;33m.\u001b[0m\u001b[0murl\u001b[0m\u001b[1;33m,\u001b[0m \u001b[0mproxies\u001b[0m\u001b[1;33m,\u001b[0m \u001b[0mstream\u001b[0m\u001b[1;33m,\u001b[0m \u001b[0mverify\u001b[0m\u001b[1;33m,\u001b[0m \u001b[0mcert\u001b[0m\u001b[1;33m\u001b[0m\u001b[1;33m\u001b[0m\u001b[0m\n\u001b[0;32m    522\u001b[0m         )\n",
      "\u001b[1;32mC:\\ProgramData\\Anaconda3\\lib\\site-packages\\requests\\sessions.py\u001b[0m in \u001b[0;36mmerge_environment_settings\u001b[1;34m(self, url, proxies, stream, verify, cert)\u001b[0m\n\u001b[0;32m    696\u001b[0m         \u001b[1;32mif\u001b[0m \u001b[0mself\u001b[0m\u001b[1;33m.\u001b[0m\u001b[0mtrust_env\u001b[0m\u001b[1;33m:\u001b[0m\u001b[1;33m\u001b[0m\u001b[1;33m\u001b[0m\u001b[0m\n\u001b[0;32m    697\u001b[0m             \u001b[1;31m# Set environment's proxies.\u001b[0m\u001b[1;33m\u001b[0m\u001b[1;33m\u001b[0m\u001b[1;33m\u001b[0m\u001b[0m\n\u001b[1;32m--> 698\u001b[1;33m             \u001b[0mno_proxy\u001b[0m \u001b[1;33m=\u001b[0m \u001b[0mproxies\u001b[0m\u001b[1;33m.\u001b[0m\u001b[0mget\u001b[0m\u001b[1;33m(\u001b[0m\u001b[1;34m'no_proxy'\u001b[0m\u001b[1;33m)\u001b[0m \u001b[1;32mif\u001b[0m \u001b[0mproxies\u001b[0m \u001b[1;32mis\u001b[0m \u001b[1;32mnot\u001b[0m \u001b[1;32mNone\u001b[0m \u001b[1;32melse\u001b[0m \u001b[1;32mNone\u001b[0m\u001b[1;33m\u001b[0m\u001b[1;33m\u001b[0m\u001b[0m\n\u001b[0m\u001b[0;32m    699\u001b[0m             \u001b[0menv_proxies\u001b[0m \u001b[1;33m=\u001b[0m \u001b[0mget_environ_proxies\u001b[0m\u001b[1;33m(\u001b[0m\u001b[0murl\u001b[0m\u001b[1;33m,\u001b[0m \u001b[0mno_proxy\u001b[0m\u001b[1;33m=\u001b[0m\u001b[0mno_proxy\u001b[0m\u001b[1;33m)\u001b[0m\u001b[1;33m\u001b[0m\u001b[1;33m\u001b[0m\u001b[0m\n\u001b[0;32m    700\u001b[0m             \u001b[1;32mfor\u001b[0m \u001b[1;33m(\u001b[0m\u001b[0mk\u001b[0m\u001b[1;33m,\u001b[0m \u001b[0mv\u001b[0m\u001b[1;33m)\u001b[0m \u001b[1;32min\u001b[0m \u001b[0menv_proxies\u001b[0m\u001b[1;33m.\u001b[0m\u001b[0mitems\u001b[0m\u001b[1;33m(\u001b[0m\u001b[1;33m)\u001b[0m\u001b[1;33m:\u001b[0m\u001b[1;33m\u001b[0m\u001b[1;33m\u001b[0m\u001b[0m\n",
      "\u001b[1;31mAttributeError\u001b[0m: 'itertools.cycle' object has no attribute 'get'"
     ]
    }
   ],
   "source": [
    "sa_keys = []\n",
    "    \n",
    "driver = webdriver.Chrome(\"chromedriver\",chrome_options=chrome_options)\n",
    "driver.implicitly_wait(0.5)\n",
    "\n",
    "for word in tqdm(en_keys[:6000]):\n",
    "    #proxy = next(proxyPool)\n",
    "\n",
    "    #url = \"https://www.shabdkosh.com/search-dictionary?lc=sa&sl=en&tl=sa&e=\"+word\n",
    "    #url1 = \"http://webcache.googleusercontent.com/search?q=cache:\"+url\n",
    "    \n",
    "    #driver.get(url1)\n",
    "    #driver4\n",
    "    for i in range(1,11):\n",
    "    #Get a proxy from the pool\n",
    "    proxy = next(proxyPool)\n",
    "    print(\"Request #%d\"%i)\n",
    "    try:\n",
    "        response = requests.get(url,proxies={\"http\": proxy, \"https\": proxy})\n",
    "        print(response.json())\n",
    " \n",
    "    #r = requests.get(\"https://www.shabdkosh.com/dictionary/english-sanskrit/\", proxies=proxyPool)\n",
    "        r = requests.get(url, pproxies={\"http\": proxy, \"https\": proxy})\n",
    "    except: print(\"Skipping. Connnection error\")\n",
    "\n",
    "    \n",
    "    m = driver.find_element_by_name(\"e\")\n",
    "    m.send_keys(word)\n",
    "    time.sleep(0.2)\n",
    "    m.send_keys(Keys.ENTER)\n",
    "    time.sleep(0.2)\n",
    "    #b = driver.find_element_by_name(\"Submit1\")\n",
    "    #b.click()\n",
    "    soup = BeautifulSoup(r, 'html.parser')    \n",
    "\n",
    "    \n",
    "    #r = requests.get(url1, proxies={\"http\": proxy, \"https\": proxy})#proxies=urllib.request.getproxies())# headers=headers)\n",
    "    #soup = BeautifulSoup(driver.page_source, 'html.parser')\n",
    "    #soup = BeautifulSoup(r.content, 'html.parser')\n",
    "    try:\n",
    "        divcontents = soup.find(\"ol\", {\"class\": \"eirol\"}).text\n",
    "        search_results = re.finditer(r'\\[.*?\\]', divcontents) \n",
    "        translations = [item.group(0).replace(\"[\", \"\").replace(\"]\", \"\") for item in search_results]\n",
    "        sa_keys.append(translations)\n",
    "        print(word, translations)\n",
    "    except AttributeError:\n",
    "        sa_keys.append([None])\n",
    "        print(word, ' : no translation')\n",
    "    time.sleep(random.uniform(0, 2))"
   ]
  },
  {
   "cell_type": "code",
   "execution_count": null,
   "metadata": {
    "ExecuteTime": {
     "end_time": "2021-12-24T16:23:00.613547Z",
     "start_time": "2021-12-24T16:22:15.065Z"
    },
    "executionInfo": {
     "elapsed": 27,
     "status": "aborted",
     "timestamp": 1640193326838,
     "user": {
      "displayName": "Sarthak Rastogi",
      "photoUrl": "https://lh3.googleusercontent.com/a-/AOh14GgjV2l0bM183bdefu3PYpY3V0EEWbr7EAUJZfSsQyA=s64",
      "userId": "13011506269675720653"
     },
     "user_tz": -330
    },
    "id": "oq3C0YUXRhAE"
   },
   "outputs": [],
   "source": [
    "driver = webdriver.Chrome(\"chromedriver\",chrome_options=chrome_options)\n",
    "driver.implicitly_wait(0.5)\n",
    "driver.get(\"https://www.shabdkosh.com/search-dictionary?lc=sa&sl=en&tl=sa&e=content\"+word)        #http://dictionary.tamilcube.com/sanskrit-dictionary.aspx\")\n",
    "'''\n",
    "m = driver.find_element_by_name(\"name\")\n",
    "m.send_keys(word)\n",
    "time.sleep(0.2)\n",
    "m.send_keys(Keys.ENTER)\n",
    "time.sleep(0.2)\n",
    "b = driver.find_element_by_name(\"Submit1\")\n",
    "b.click()\n",
    "'''"
   ]
  },
  {
   "cell_type": "code",
   "execution_count": null,
   "metadata": {
    "ExecuteTime": {
     "end_time": "2021-12-24T16:23:00.615551Z",
     "start_time": "2021-12-24T16:22:15.074Z"
    },
    "executionInfo": {
     "elapsed": 31,
     "status": "aborted",
     "timestamp": 1640193326842,
     "user": {
      "displayName": "Sarthak Rastogi",
      "photoUrl": "https://lh3.googleusercontent.com/a-/AOh14GgjV2l0bM183bdefu3PYpY3V0EEWbr7EAUJZfSsQyA=s64",
      "userId": "13011506269675720653"
     },
     "user_tz": -330
    },
    "id": "ccdodaWdSix_"
   },
   "outputs": [],
   "source": [
    "soup = BeautifulSoup(driver.page_source, 'html.parser')"
   ]
  },
  {
   "cell_type": "code",
   "execution_count": null,
   "metadata": {
    "ExecuteTime": {
     "end_time": "2021-12-24T16:23:00.617549Z",
     "start_time": "2021-12-24T16:22:15.081Z"
    },
    "executionInfo": {
     "elapsed": 33,
     "status": "aborted",
     "timestamp": 1640193326844,
     "user": {
      "displayName": "Sarthak Rastogi",
      "photoUrl": "https://lh3.googleusercontent.com/a-/AOh14GgjV2l0bM183bdefu3PYpY3V0EEWbr7EAUJZfSsQyA=s64",
      "userId": "13011506269675720653"
     },
     "user_tz": -330
    },
    "id": "boWjsIpBmMMf"
   },
   "outputs": [],
   "source": [
    "divcontents = soup.find(\"div\", {\"id\": \"hlight\"}).text.replace('\\n', '').replace('\\t', '')\n",
    "a = 'Close Match and Related Words'"
   ]
  },
  {
   "cell_type": "code",
   "execution_count": null,
   "metadata": {
    "ExecuteTime": {
     "end_time": "2021-12-24T16:23:00.619549Z",
     "start_time": "2021-12-24T16:22:15.090Z"
    },
    "executionInfo": {
     "elapsed": 34,
     "status": "aborted",
     "timestamp": 1640193326846,
     "user": {
      "displayName": "Sarthak Rastogi",
      "photoUrl": "https://lh3.googleusercontent.com/a-/AOh14GgjV2l0bM183bdefu3PYpY3V0EEWbr7EAUJZfSsQyA=s64",
      "userId": "13011506269675720653"
     },
     "user_tz": -330
    },
    "id": "qOxO8gJei-j5"
   },
   "outputs": [],
   "source": [
    "divcontents = divcontents[29:]"
   ]
  },
  {
   "cell_type": "code",
   "execution_count": null,
   "metadata": {
    "ExecuteTime": {
     "end_time": "2021-12-24T16:23:00.622551Z",
     "start_time": "2021-12-24T16:22:15.096Z"
    },
    "executionInfo": {
     "elapsed": 36,
     "status": "aborted",
     "timestamp": 1640193326848,
     "user": {
      "displayName": "Sarthak Rastogi",
      "photoUrl": "https://lh3.googleusercontent.com/a-/AOh14GgjV2l0bM183bdefu3PYpY3V0EEWbr7EAUJZfSsQyA=s64",
      "userId": "13011506269675720653"
     },
     "user_tz": -330
    },
    "id": "kyV-iQutEcjN"
   },
   "outputs": [],
   "source": [
    "divcontents"
   ]
  },
  {
   "cell_type": "code",
   "execution_count": null,
   "metadata": {
    "ExecuteTime": {
     "end_time": "2021-12-24T16:23:00.623549Z",
     "start_time": "2021-12-24T16:22:15.100Z"
    },
    "executionInfo": {
     "elapsed": 39,
     "status": "aborted",
     "timestamp": 1640193326851,
     "user": {
      "displayName": "Sarthak Rastogi",
      "photoUrl": "https://lh3.googleusercontent.com/a-/AOh14GgjV2l0bM183bdefu3PYpY3V0EEWbr7EAUJZfSsQyA=s64",
      "userId": "13011506269675720653"
     },
     "user_tz": -330
    },
    "id": "z4BX2IJjEx1v"
   },
   "outputs": [],
   "source": [
    "if word+\" :\" in divcontents:\n",
    "    at = divcontents.index(word+\" :\")\n",
    "elif \": \"+word in divcontents:\n",
    "    at = divcontents.index(\": \"+word)\n",
    "\n",
    "divcontents[1004:1050]"
   ]
  },
  {
   "cell_type": "code",
   "execution_count": null,
   "metadata": {
    "ExecuteTime": {
     "end_time": "2021-12-24T16:23:00.626552Z",
     "start_time": "2021-12-24T16:22:15.104Z"
    },
    "executionInfo": {
     "elapsed": 41,
     "status": "aborted",
     "timestamp": 1640193326853,
     "user": {
      "displayName": "Sarthak Rastogi",
      "photoUrl": "https://lh3.googleusercontent.com/a-/AOh14GgjV2l0bM183bdefu3PYpY3V0EEWbr7EAUJZfSsQyA=s64",
      "userId": "13011506269675720653"
     },
     "user_tz": -330
    },
    "id": "F7mzAtCei3n7"
   },
   "outputs": [],
   "source": [
    "if divcontents[29:].split(\" \")[0] == word and divcontents[29:].split(\" \")[1] == \":\":\n",
    "   print(divcontents[29:].split(\" \")[2])\n",
    "  \n",
    "elif divcontents[29:].split(\" \")[3] == word and divcontents[29:].split(\" \")[1] == \":\":\n",
    "   print(divcontents[29:].split(\" \")[0])"
   ]
  },
  {
   "cell_type": "code",
   "execution_count": null,
   "metadata": {
    "ExecuteTime": {
     "end_time": "2021-12-24T16:23:00.635550Z",
     "start_time": "2021-12-24T16:22:15.107Z"
    },
    "executionInfo": {
     "elapsed": 43,
     "status": "aborted",
     "timestamp": 1640193326856,
     "user": {
      "displayName": "Sarthak Rastogi",
      "photoUrl": "https://lh3.googleusercontent.com/a-/AOh14GgjV2l0bM183bdefu3PYpY3V0EEWbr7EAUJZfSsQyA=s64",
      "userId": "13011506269675720653"
     },
     "user_tz": -330
    },
    "id": "lNDEw4_rhIBm"
   },
   "outputs": [],
   "source": [
    "divcontents[29:].split(\" \")"
   ]
  },
  {
   "cell_type": "code",
   "execution_count": 19,
   "metadata": {
    "ExecuteTime": {
     "end_time": "2021-12-24T16:28:23.808208Z",
     "start_time": "2021-12-24T16:28:09.947137Z"
    }
   },
   "outputs": [
    {
     "data": {
      "text/plain": [
       "<html lang=\"en\" translate=\"no\"><head><script src=\"https://pagead2.googlesyndication.com/pagead/managed/js/adsense/m202112060101/reactive_library.js\"></script><script async=\"\" src=\"https://securepubads.g.doubleclick.net/tag/js/gpt.js\"></script><script async=\"\" src=\"//securepubads.g.doubleclick.net/tag/js/gpt.js\"></script><script async=\"\" src=\"https://cdn4-hbs.affinitymatrix.com/app/pbjs/prebid4.21.0-adk-adt-app-biz-con-one-pub-sov-val-yie-gdpr-ccpa.js\"></script><script async=\"\" src=\"https://cdn4-hbs.affinitymatrix.com/hvrlib/shabdkosh.com/1628676187/v2.js\"></script><script async=\"\" src=\"https://hbs.ph.affinity.com/v5/shabdkosh.com/index.php?t=241121\"></script><script async=\"\" src=\"https://cdn4-hbs.affinitymatrix.com/hbcnf/hvr_man_shabdkosh.com/241121/affhb.data.js?t=241121\"></script><script src=\"https://partner.googleadservices.com/gampad/cookie.js?domain=www.shabdkosh.com&amp;callback=_gfp_s_&amp;client=ca-pub-2804136533585134&amp;cookie=ID%3D686e932df5163ce7-2236bb5986cf0066%3AT%3D1640363294%3AS%3DALNI_MYRLyy2ZqqRSgXlIdrFtb9rwYS4vw\"></script>\n",
       "<meta charset=\"utf-8\"/>\n",
       "<meta content=\"IE=edge,chrome=1\" http-equiv=\"X-UA-Compatible\"/>\n",
       "<title>again - Meaning in Sanskrit</title>\n",
       "<meta content=\"width=device-width,initial-scale=1,shrink-to-fit=no\" name=\"viewport\"/>\n",
       "<meta content=\"index,follow,noarchive\" name=\"robots\"/>\n",
       "<meta content=\"notranslate\" name=\"google\"/>\n",
       "<meta content=\"nopagereadaloud\" name=\"google\"/>\n",
       "<meta content=\"again - Meaning in Sanskrit, what is the meaning of again in Sanskrit dictionary, pronunciation, synonyms, usage examples and definitions of again in Sanskrit and English. \" name=\"description\"/>\n",
       "<meta content=\"again, meaning of again, English and Sanskrit for again, translation, definition, pronunciation\" name=\"keywords\"/>\n",
       "<meta content=\"english-sanskrit\" name=\"dict\"/>\n",
       "<link href=\"/manifest.json\" rel=\"manifest\"/>\n",
       "<meta content=\"SHABDKOSH.COM.Shabdkosh\" name=\"msApplication-ID\"/>\n",
       "<meta content=\"SHABDKOSH.COM.Shabdkosh_p3zta6c2bqxsr\" name=\"msApplication-PackageFamilyName\"/>\n",
       "<meta content=\"Shabdkosh.com\" name=\"author\"/>\n",
       "<meta content=\"app-id=544007664\" name=\"mwapp\"/>\n",
       "<meta content=\"app-id=863035886\" name=\"apple-itunes-app\"/>\n",
       "<meta content=\"app-id=com.shabdkosh.android\" name=\"google-play-app\"/>\n",
       "<link href=\"https://www.shabdkosh.com/dictionary/english-sanskrit/again/again-meaning-in-sanskrit\" rel=\"canonical\"/>\n",
       "<link href=\"//www.shabdkosh.net/r152/css/sk.css\" rel=\"stylesheet\"/>\n",
       "<link href=\"//www.shabdkosh.net/r152a/css/main.css\" rel=\"stylesheet\"/>\n",
       "<style type=\"text/css\">\n",
       "  @charset \"UTF-8\";\n",
       "  .psc {--psc: calc(var(--ps) / 5 * 100%); display: inline-block; line-height: 1;}\n",
       "  .dsc {--dsc: calc(var(--ds) / 5 * 100%); display: inline-block; line-height: 1;}\n",
       "  .psc::before { font-size:16px; letter-spacing: 0px;}\n",
       "  .dsc::before { font-size:16px; letter-spacing: 0px;}\n",
       "  #pscore::before {content: '★★★★★'; background: linear-gradient(90deg, #1D4ED8 var(--psc), #BFDBFE var(--psc)); -webkit-background-clip: text; -webkit-text-fill-color: transparent;}\n",
       "  #dscore::before {content: '●●●●●'; background: linear-gradient(90deg, #DC2626 var(--dsc), #FECACA var(--dsc)); -webkit-background-clip: text; -webkit-text-fill-color: transparent; }\n",
       "  .stars {--percent: calc(var(--rating) / 5 * 100%); display: inline-block; font-size: 1em; line-height: 1;}\n",
       "  .stars::before {  content: '★★★★★'; letter-spacing: 10px; background: linear-gradient(90deg, #fc0 var(--percent), #ddd var(--percent));\n",
       "    -webkit-background-clip: text; -webkit-text-fill-color: transparent; }\n",
       "  .dl-btn {background-size:contain;background-position:50% 50%;background-repeat:no-repeat;padding:1.5em 3em;border-radius:1.5em;background-color:#000;text-decoration:none;}\n",
       "  .playstore-dl {background-image: url(//www.shabdkosh.net/images/playstore_black.svg);}\n",
       "  .appstore-dl {background-image: url(//www.shabdkosh.net/images/appstore_black.svg);}\n",
       "  </style>\n",
       "<link href=\"https://adservice.google.com\" rel=\"preconnect\"/>\n",
       "<link href=\"https://www.gstatic.com\" rel=\"preconnect\"/>\n",
       "<link href=\"https://adservice.google.co.in\" rel=\"preconnect\"/>\n",
       "<script id=\"google_shimpl\" src=\"https://pagead2.googlesyndication.com/pagead/managed/js/adsense/m202112060101/show_ads_impl.js\"></script><script>window.ga=window.ga||function(){(ga.q=ga.q||[]).push(arguments)};ga.l=+new Date;ga('create', 'UA-255300-1', 'auto');ga('send', 'pageview');</script>\n",
       "<script async=\"\" src=\"https://www.google-analytics.com/analytics.js\"></script>\n",
       "<meta content=\"AxujKG9INjsZ8/gUq8+dTruNvk7RjZQ1oFhhgQbcTJKDnZfbzSTE81wvC2Hzaf3TW4avA76LTZEMdiedF1vIbA4AAABueyJvcmlnaW4iOiJodHRwczovL2ltYXNkay5nb29nbGVhcGlzLmNvbTo0NDMiLCJmZWF0dXJlIjoiVHJ1c3RUb2tlbnMiLCJleHBpcnkiOjE2NTI3NzQ0MDAsImlzVGhpcmRQYXJ0eSI6dHJ1ZX0=\" http-equiv=\"origin-trial\"/><meta content=\"Azuce85ORtSnWe1MZDTv68qpaW3iHyfL9YbLRy0cwcCZwVnePnOmkUJlG8HGikmOwhZU22dElCcfrfX2HhrBPAkAAAB7eyJvcmlnaW4iOiJodHRwczovL2RvdWJsZWNsaWNrLm5ldDo0NDMiLCJmZWF0dXJlIjoiVHJ1c3RUb2tlbnMiLCJleHBpcnkiOjE2NTI3NzQ0MDAsImlzU3ViZG9tYWluIjp0cnVlLCJpc1RoaXJkUGFydHkiOnRydWV9\" http-equiv=\"origin-trial\"/><meta content=\"A16nvcdeoOAqrJcmjLRpl1I6f3McDD8EfofAYTt/P/H4/AWwB99nxiPp6kA0fXoiZav908Z8etuL16laFPUdfQsAAACBeyJvcmlnaW4iOiJodHRwczovL2dvb2dsZXRhZ3NlcnZpY2VzLmNvbTo0NDMiLCJmZWF0dXJlIjoiVHJ1c3RUb2tlbnMiLCJleHBpcnkiOjE2NTI3NzQ0MDAsImlzU3ViZG9tYWluIjp0cnVlLCJpc1RoaXJkUGFydHkiOnRydWV9\" http-equiv=\"origin-trial\"/><meta content=\"AxBHdr0J44vFBQtZUqX9sjiqf5yWZ/OcHRcRMN3H9TH+t90V/j3ENW6C8+igBZFXMJ7G3Pr8Dd13632aLng42wgAAACBeyJvcmlnaW4iOiJodHRwczovL2dvb2dsZXN5bmRpY2F0aW9uLmNvbTo0NDMiLCJmZWF0dXJlIjoiVHJ1c3RUb2tlbnMiLCJleHBpcnkiOjE2NTI3NzQ0MDAsImlzU3ViZG9tYWluIjp0cnVlLCJpc1RoaXJkUGFydHkiOnRydWV9\" http-equiv=\"origin-trial\"/><meta content=\"A88BWHFjcawUfKU3lIejLoryXoyjooBXLgWmGh+hNcqMK44cugvsI5YZbNarYvi3roc1fYbHA1AVbhAtuHZflgEAAAB2eyJvcmlnaW4iOiJodHRwczovL2dvb2dsZS5jb206NDQzIiwiZmVhdHVyZSI6IlRydXN0VG9rZW5zIiwiZXhwaXJ5IjoxNjUyNzc0NDAwLCJpc1N1YmRvbWFpbiI6dHJ1ZSwiaXNUaGlyZFBhcnR5Ijp0cnVlfQ==\" http-equiv=\"origin-trial\"/><meta content=\"A8FHS1NmdCwGqD9DwOicnHHY+y27kdWfxKa0YHSGDfv0CSpDKRHTQdQmZVPDUdaFWUsxdgVxlwAd6o+dhJykPA0AAACWeyJvcmlnaW4iOiJodHRwczovL2RvdWJsZWNsaWNrLm5ldDo0NDMiLCJmZWF0dXJlIjoiQ29udmVyc2lvbk1lYXN1cmVtZW50IiwiZXhwaXJ5IjoxNjQzMTU1MTk5LCJpc1N1YmRvbWFpbiI6dHJ1ZSwiaXNUaGlyZFBhcnR5Ijp0cnVlLCJ1c2FnZSI6InN1YnNldCJ9\" http-equiv=\"origin-trial\"/><meta content=\"A8zdXi6dr1hwXEUjQrYiyYQGlU3557y5QWDnN0Lwgj9ePt66XMEvNkVWOEOWPd7TP9sBQ25X0Q15Lr1Nn4oGFQkAAACceyJvcmlnaW4iOiJodHRwczovL2dvb2dsZXN5bmRpY2F0aW9uLmNvbTo0NDMiLCJmZWF0dXJlIjoiQ29udmVyc2lvbk1lYXN1cmVtZW50IiwiZXhwaXJ5IjoxNjQzMTU1MTk5LCJpc1N1YmRvbWFpbiI6dHJ1ZSwiaXNUaGlyZFBhcnR5Ijp0cnVlLCJ1c2FnZSI6InN1YnNldCJ9\" http-equiv=\"origin-trial\"/><meta content=\"A4/Htern2udN9w3yJK9QgWQxQFruxOXsXL7cW60DyCl0EZFGCSme/J33Q/WzF7bBkVvhEWDlcBiUyZaim5CpFQwAAACceyJvcmlnaW4iOiJodHRwczovL2dvb2dsZXRhZ3NlcnZpY2VzLmNvbTo0NDMiLCJmZWF0dXJlIjoiQ29udmVyc2lvbk1lYXN1cmVtZW50IiwiZXhwaXJ5IjoxNjQzMTU1MTk5LCJpc1N1YmRvbWFpbiI6dHJ1ZSwiaXNUaGlyZFBhcnR5Ijp0cnVlLCJ1c2FnZSI6InN1YnNldCJ9\" http-equiv=\"origin-trial\"/><meta content=\"AxujKG9INjsZ8/gUq8+dTruNvk7RjZQ1oFhhgQbcTJKDnZfbzSTE81wvC2Hzaf3TW4avA76LTZEMdiedF1vIbA4AAABueyJvcmlnaW4iOiJodHRwczovL2ltYXNkay5nb29nbGVhcGlzLmNvbTo0NDMiLCJmZWF0dXJlIjoiVHJ1c3RUb2tlbnMiLCJleHBpcnkiOjE2NTI3NzQ0MDAsImlzVGhpcmRQYXJ0eSI6dHJ1ZX0=\" http-equiv=\"origin-trial\"/><meta content=\"Azuce85ORtSnWe1MZDTv68qpaW3iHyfL9YbLRy0cwcCZwVnePnOmkUJlG8HGikmOwhZU22dElCcfrfX2HhrBPAkAAAB7eyJvcmlnaW4iOiJodHRwczovL2RvdWJsZWNsaWNrLm5ldDo0NDMiLCJmZWF0dXJlIjoiVHJ1c3RUb2tlbnMiLCJleHBpcnkiOjE2NTI3NzQ0MDAsImlzU3ViZG9tYWluIjp0cnVlLCJpc1RoaXJkUGFydHkiOnRydWV9\" http-equiv=\"origin-trial\"/><meta content=\"A16nvcdeoOAqrJcmjLRpl1I6f3McDD8EfofAYTt/P/H4/AWwB99nxiPp6kA0fXoiZav908Z8etuL16laFPUdfQsAAACBeyJvcmlnaW4iOiJodHRwczovL2dvb2dsZXRhZ3NlcnZpY2VzLmNvbTo0NDMiLCJmZWF0dXJlIjoiVHJ1c3RUb2tlbnMiLCJleHBpcnkiOjE2NTI3NzQ0MDAsImlzU3ViZG9tYWluIjp0cnVlLCJpc1RoaXJkUGFydHkiOnRydWV9\" http-equiv=\"origin-trial\"/><meta content=\"AxBHdr0J44vFBQtZUqX9sjiqf5yWZ/OcHRcRMN3H9TH+t90V/j3ENW6C8+igBZFXMJ7G3Pr8Dd13632aLng42wgAAACBeyJvcmlnaW4iOiJodHRwczovL2dvb2dsZXN5bmRpY2F0aW9uLmNvbTo0NDMiLCJmZWF0dXJlIjoiVHJ1c3RUb2tlbnMiLCJleHBpcnkiOjE2NTI3NzQ0MDAsImlzU3ViZG9tYWluIjp0cnVlLCJpc1RoaXJkUGFydHkiOnRydWV9\" http-equiv=\"origin-trial\"/><meta content=\"A88BWHFjcawUfKU3lIejLoryXoyjooBXLgWmGh+hNcqMK44cugvsI5YZbNarYvi3roc1fYbHA1AVbhAtuHZflgEAAAB2eyJvcmlnaW4iOiJodHRwczovL2dvb2dsZS5jb206NDQzIiwiZmVhdHVyZSI6IlRydXN0VG9rZW5zIiwiZXhwaXJ5IjoxNjUyNzc0NDAwLCJpc1N1YmRvbWFpbiI6dHJ1ZSwiaXNUaGlyZFBhcnR5Ijp0cnVlfQ==\" http-equiv=\"origin-trial\"/><meta content=\"A8FHS1NmdCwGqD9DwOicnHHY+y27kdWfxKa0YHSGDfv0CSpDKRHTQdQmZVPDUdaFWUsxdgVxlwAd6o+dhJykPA0AAACWeyJvcmlnaW4iOiJodHRwczovL2RvdWJsZWNsaWNrLm5ldDo0NDMiLCJmZWF0dXJlIjoiQ29udmVyc2lvbk1lYXN1cmVtZW50IiwiZXhwaXJ5IjoxNjQzMTU1MTk5LCJpc1N1YmRvbWFpbiI6dHJ1ZSwiaXNUaGlyZFBhcnR5Ijp0cnVlLCJ1c2FnZSI6InN1YnNldCJ9\" http-equiv=\"origin-trial\"/><meta content=\"A8zdXi6dr1hwXEUjQrYiyYQGlU3557y5QWDnN0Lwgj9ePt66XMEvNkVWOEOWPd7TP9sBQ25X0Q15Lr1Nn4oGFQkAAACceyJvcmlnaW4iOiJodHRwczovL2dvb2dsZXN5bmRpY2F0aW9uLmNvbTo0NDMiLCJmZWF0dXJlIjoiQ29udmVyc2lvbk1lYXN1cmVtZW50IiwiZXhwaXJ5IjoxNjQzMTU1MTk5LCJpc1N1YmRvbWFpbiI6dHJ1ZSwiaXNUaGlyZFBhcnR5Ijp0cnVlLCJ1c2FnZSI6InN1YnNldCJ9\" http-equiv=\"origin-trial\"/><meta content=\"A4/Htern2udN9w3yJK9QgWQxQFruxOXsXL7cW60DyCl0EZFGCSme/J33Q/WzF7bBkVvhEWDlcBiUyZaim5CpFQwAAACceyJvcmlnaW4iOiJodHRwczovL2dvb2dsZXRhZ3NlcnZpY2VzLmNvbTo0NDMiLCJmZWF0dXJlIjoiQ29udmVyc2lvbk1lYXN1cmVtZW50IiwiZXhwaXJ5IjoxNjQzMTU1MTk5LCJpc1N1YmRvbWFpbiI6dHJ1ZSwiaXNUaGlyZFBhcnR5Ijp0cnVlLCJ1c2FnZSI6InN1YnNldCJ9\" http-equiv=\"origin-trial\"/><meta content=\"AxujKG9INjsZ8/gUq8+dTruNvk7RjZQ1oFhhgQbcTJKDnZfbzSTE81wvC2Hzaf3TW4avA76LTZEMdiedF1vIbA4AAABueyJvcmlnaW4iOiJodHRwczovL2ltYXNkay5nb29nbGVhcGlzLmNvbTo0NDMiLCJmZWF0dXJlIjoiVHJ1c3RUb2tlbnMiLCJleHBpcnkiOjE2NTI3NzQ0MDAsImlzVGhpcmRQYXJ0eSI6dHJ1ZX0=\" http-equiv=\"origin-trial\"/><meta content=\"Azuce85ORtSnWe1MZDTv68qpaW3iHyfL9YbLRy0cwcCZwVnePnOmkUJlG8HGikmOwhZU22dElCcfrfX2HhrBPAkAAAB7eyJvcmlnaW4iOiJodHRwczovL2RvdWJsZWNsaWNrLm5ldDo0NDMiLCJmZWF0dXJlIjoiVHJ1c3RUb2tlbnMiLCJleHBpcnkiOjE2NTI3NzQ0MDAsImlzU3ViZG9tYWluIjp0cnVlLCJpc1RoaXJkUGFydHkiOnRydWV9\" http-equiv=\"origin-trial\"/><meta content=\"A16nvcdeoOAqrJcmjLRpl1I6f3McDD8EfofAYTt/P/H4/AWwB99nxiPp6kA0fXoiZav908Z8etuL16laFPUdfQsAAACBeyJvcmlnaW4iOiJodHRwczovL2dvb2dsZXRhZ3NlcnZpY2VzLmNvbTo0NDMiLCJmZWF0dXJlIjoiVHJ1c3RUb2tlbnMiLCJleHBpcnkiOjE2NTI3NzQ0MDAsImlzU3ViZG9tYWluIjp0cnVlLCJpc1RoaXJkUGFydHkiOnRydWV9\" http-equiv=\"origin-trial\"/><meta content=\"AxBHdr0J44vFBQtZUqX9sjiqf5yWZ/OcHRcRMN3H9TH+t90V/j3ENW6C8+igBZFXMJ7G3Pr8Dd13632aLng42wgAAACBeyJvcmlnaW4iOiJodHRwczovL2dvb2dsZXN5bmRpY2F0aW9uLmNvbTo0NDMiLCJmZWF0dXJlIjoiVHJ1c3RUb2tlbnMiLCJleHBpcnkiOjE2NTI3NzQ0MDAsImlzU3ViZG9tYWluIjp0cnVlLCJpc1RoaXJkUGFydHkiOnRydWV9\" http-equiv=\"origin-trial\"/><meta content=\"A88BWHFjcawUfKU3lIejLoryXoyjooBXLgWmGh+hNcqMK44cugvsI5YZbNarYvi3roc1fYbHA1AVbhAtuHZflgEAAAB2eyJvcmlnaW4iOiJodHRwczovL2dvb2dsZS5jb206NDQzIiwiZmVhdHVyZSI6IlRydXN0VG9rZW5zIiwiZXhwaXJ5IjoxNjUyNzc0NDAwLCJpc1N1YmRvbWFpbiI6dHJ1ZSwiaXNUaGlyZFBhcnR5Ijp0cnVlfQ==\" http-equiv=\"origin-trial\"/><meta content=\"A8FHS1NmdCwGqD9DwOicnHHY+y27kdWfxKa0YHSGDfv0CSpDKRHTQdQmZVPDUdaFWUsxdgVxlwAd6o+dhJykPA0AAACWeyJvcmlnaW4iOiJodHRwczovL2RvdWJsZWNsaWNrLm5ldDo0NDMiLCJmZWF0dXJlIjoiQ29udmVyc2lvbk1lYXN1cmVtZW50IiwiZXhwaXJ5IjoxNjQzMTU1MTk5LCJpc1N1YmRvbWFpbiI6dHJ1ZSwiaXNUaGlyZFBhcnR5Ijp0cnVlLCJ1c2FnZSI6InN1YnNldCJ9\" http-equiv=\"origin-trial\"/><meta content=\"A8zdXi6dr1hwXEUjQrYiyYQGlU3557y5QWDnN0Lwgj9ePt66XMEvNkVWOEOWPd7TP9sBQ25X0Q15Lr1Nn4oGFQkAAACceyJvcmlnaW4iOiJodHRwczovL2dvb2dsZXN5bmRpY2F0aW9uLmNvbTo0NDMiLCJmZWF0dXJlIjoiQ29udmVyc2lvbk1lYXN1cmVtZW50IiwiZXhwaXJ5IjoxNjQzMTU1MTk5LCJpc1N1YmRvbWFpbiI6dHJ1ZSwiaXNUaGlyZFBhcnR5Ijp0cnVlLCJ1c2FnZSI6InN1YnNldCJ9\" http-equiv=\"origin-trial\"/><meta content=\"A4/Htern2udN9w3yJK9QgWQxQFruxOXsXL7cW60DyCl0EZFGCSme/J33Q/WzF7bBkVvhEWDlcBiUyZaim5CpFQwAAACceyJvcmlnaW4iOiJodHRwczovL2dvb2dsZXRhZ3NlcnZpY2VzLmNvbTo0NDMiLCJmZWF0dXJlIjoiQ29udmVyc2lvbk1lYXN1cmVtZW50IiwiZXhwaXJ5IjoxNjQzMTU1MTk5LCJpc1N1YmRvbWFpbiI6dHJ1ZSwiaXNUaGlyZFBhcnR5Ijp0cnVlLCJ1c2FnZSI6InN1YnNldCJ9\" http-equiv=\"origin-trial\"/><link as=\"script\" href=\"https://adservice.google.co.in/adsid/integrator.js?domain=www.shabdkosh.com\" rel=\"preload\"/><script src=\"https://adservice.google.co.in/adsid/integrator.js?domain=www.shabdkosh.com\" type=\"text/javascript\"></script><link as=\"script\" href=\"https://adservice.google.com/adsid/integrator.js?domain=www.shabdkosh.com\" rel=\"preload\"/><script src=\"https://adservice.google.com/adsid/integrator.js?domain=www.shabdkosh.com\" type=\"text/javascript\"></script><meta content=\"AxujKG9INjsZ8/gUq8+dTruNvk7RjZQ1oFhhgQbcTJKDnZfbzSTE81wvC2Hzaf3TW4avA76LTZEMdiedF1vIbA4AAABueyJvcmlnaW4iOiJodHRwczovL2ltYXNkay5nb29nbGVhcGlzLmNvbTo0NDMiLCJmZWF0dXJlIjoiVHJ1c3RUb2tlbnMiLCJleHBpcnkiOjE2NTI3NzQ0MDAsImlzVGhpcmRQYXJ0eSI6dHJ1ZX0=\" http-equiv=\"origin-trial\"/><meta content=\"Azuce85ORtSnWe1MZDTv68qpaW3iHyfL9YbLRy0cwcCZwVnePnOmkUJlG8HGikmOwhZU22dElCcfrfX2HhrBPAkAAAB7eyJvcmlnaW4iOiJodHRwczovL2RvdWJsZWNsaWNrLm5ldDo0NDMiLCJmZWF0dXJlIjoiVHJ1c3RUb2tlbnMiLCJleHBpcnkiOjE2NTI3NzQ0MDAsImlzU3ViZG9tYWluIjp0cnVlLCJpc1RoaXJkUGFydHkiOnRydWV9\" http-equiv=\"origin-trial\"/><meta content=\"A16nvcdeoOAqrJcmjLRpl1I6f3McDD8EfofAYTt/P/H4/AWwB99nxiPp6kA0fXoiZav908Z8etuL16laFPUdfQsAAACBeyJvcmlnaW4iOiJodHRwczovL2dvb2dsZXRhZ3NlcnZpY2VzLmNvbTo0NDMiLCJmZWF0dXJlIjoiVHJ1c3RUb2tlbnMiLCJleHBpcnkiOjE2NTI3NzQ0MDAsImlzU3ViZG9tYWluIjp0cnVlLCJpc1RoaXJkUGFydHkiOnRydWV9\" http-equiv=\"origin-trial\"/><meta content=\"AxBHdr0J44vFBQtZUqX9sjiqf5yWZ/OcHRcRMN3H9TH+t90V/j3ENW6C8+igBZFXMJ7G3Pr8Dd13632aLng42wgAAACBeyJvcmlnaW4iOiJodHRwczovL2dvb2dsZXN5bmRpY2F0aW9uLmNvbTo0NDMiLCJmZWF0dXJlIjoiVHJ1c3RUb2tlbnMiLCJleHBpcnkiOjE2NTI3NzQ0MDAsImlzU3ViZG9tYWluIjp0cnVlLCJpc1RoaXJkUGFydHkiOnRydWV9\" http-equiv=\"origin-trial\"/><meta content=\"A88BWHFjcawUfKU3lIejLoryXoyjooBXLgWmGh+hNcqMK44cugvsI5YZbNarYvi3roc1fYbHA1AVbhAtuHZflgEAAAB2eyJvcmlnaW4iOiJodHRwczovL2dvb2dsZS5jb206NDQzIiwiZmVhdHVyZSI6IlRydXN0VG9rZW5zIiwiZXhwaXJ5IjoxNjUyNzc0NDAwLCJpc1N1YmRvbWFpbiI6dHJ1ZSwiaXNUaGlyZFBhcnR5Ijp0cnVlfQ==\" http-equiv=\"origin-trial\"/><meta content=\"A8FHS1NmdCwGqD9DwOicnHHY+y27kdWfxKa0YHSGDfv0CSpDKRHTQdQmZVPDUdaFWUsxdgVxlwAd6o+dhJykPA0AAACWeyJvcmlnaW4iOiJodHRwczovL2RvdWJsZWNsaWNrLm5ldDo0NDMiLCJmZWF0dXJlIjoiQ29udmVyc2lvbk1lYXN1cmVtZW50IiwiZXhwaXJ5IjoxNjQzMTU1MTk5LCJpc1N1YmRvbWFpbiI6dHJ1ZSwiaXNUaGlyZFBhcnR5Ijp0cnVlLCJ1c2FnZSI6InN1YnNldCJ9\" http-equiv=\"origin-trial\"/><meta content=\"A8zdXi6dr1hwXEUjQrYiyYQGlU3557y5QWDnN0Lwgj9ePt66XMEvNkVWOEOWPd7TP9sBQ25X0Q15Lr1Nn4oGFQkAAACceyJvcmlnaW4iOiJodHRwczovL2dvb2dsZXN5bmRpY2F0aW9uLmNvbTo0NDMiLCJmZWF0dXJlIjoiQ29udmVyc2lvbk1lYXN1cmVtZW50IiwiZXhwaXJ5IjoxNjQzMTU1MTk5LCJpc1N1YmRvbWFpbiI6dHJ1ZSwiaXNUaGlyZFBhcnR5Ijp0cnVlLCJ1c2FnZSI6InN1YnNldCJ9\" http-equiv=\"origin-trial\"/><meta content=\"A4/Htern2udN9w3yJK9QgWQxQFruxOXsXL7cW60DyCl0EZFGCSme/J33Q/WzF7bBkVvhEWDlcBiUyZaim5CpFQwAAACceyJvcmlnaW4iOiJodHRwczovL2dvb2dsZXRhZ3NlcnZpY2VzLmNvbTo0NDMiLCJmZWF0dXJlIjoiQ29udmVyc2lvbk1lYXN1cmVtZW50IiwiZXhwaXJ5IjoxNjQzMTU1MTk5LCJpc1N1YmRvbWFpbiI6dHJ1ZSwiaXNUaGlyZFBhcnR5Ijp0cnVlLCJ1c2FnZSI6InN1YnNldCJ9\" http-equiv=\"origin-trial\"/><script async=\"\" src=\"https://securepubads.g.doubleclick.net/gpt/pubads_impl_2021120601.js\"></script><script async=\"\" src=\"https://fundingchoicesmessages.google.com/i/30573161?ers=3\"></script><script async=\"\" src=\"https://fundingchoicesmessages.google.com/f/AGSKWxVmdryPZ9730MvHcBa8W0VGP4aanvvvfEY0oT_GexlouWrRoaiiu7VSCnzxKByVKnE8JtrgFozrZkSeZR33j7o=?fccs=W1siQUtzUm9sX240VVB6dHVDblBCaG1yX2hlTVNLOW1BYVJhWHZhZEItSnhrY2RraWpETjdpbjZpSFZZdnBEN0ZoT2JQNnUwdkFRSzlnMjFCbGotczdJRVFEZ0s5WlIxdUNKQTdYOV9uZHlXSVVBaXVJODJtR0JFVkJFZ0k0SHVzenRLTWFxQnQ0T3Z2TzZXM2c3QzhjN2RHeVIyTHgtSFRyUDh3PT0iXSxudWxsLG51bGwsbnVsbCxudWxsLG51bGwsWzE2NDAzNjMyOTcsOTI1MDAwMDAwXSwiQTg5Q0E0MUQtNzIyNy00QUE1LUE1NDAtNTJBQjBBNkY3OTcwIiwiQTcyNEQxRUYtRjc4NC00Q0M0LUFDNDgtNDUxNTNBQUZGNDBFIixudWxsLFtudWxsLFs3XV0sImh0dHBzOi8vd3d3LnNoYWJka29zaC5jb20vc2VhcmNoLWRpY3Rpb25hcnkiLG51bGwsW11d\"></script><link as=\"script\" href=\"https://adservice.google.co.in/adsid/integrator.js?domain=www.shabdkosh.com\" rel=\"preload\"/><script src=\"https://adservice.google.co.in/adsid/integrator.js?domain=www.shabdkosh.com\" type=\"text/javascript\"></script><link as=\"script\" href=\"https://adservice.google.com/adsid/integrator.js?domain=www.shabdkosh.com\" rel=\"preload\"/><script src=\"https://adservice.google.com/adsid/integrator.js?domain=www.shabdkosh.com\" type=\"text/javascript\"></script><script async=\"\" src=\"https://fundingchoicesmessages.google.com/f/AGSKWxV7aJOWu0QN1InzGGn94DPzjNasLRZ6AQK56bbPg_jeDU2G3yRNSO7qUnIt6fRhjCpcJ6MkN27UrWMEV0mIGbTNUD54xd3Qchutbx6_rLyK3d0FaeTGYNjm-HhfswSN7SaghjglPRXtO3eR2tRpZ3LKxKeqfOKMPLQ3irn2uHcleg524AcZ0CO9wa1V?fccs=W1siQUtzUm9sX240VVB6dHVDblBCaG1yX2hlTVNLOW1BYVJhWHZhZEItSnhrY2RraWpETjdpbjZpSFZZdnBEN0ZoT2JQNnUwdkFRSzlnMjFCbGotczdJRVFEZ0s5WlIxdUNKQTdYOV9uZHlXSVVBaXVJODJtR0JFVkJFZ0k0SHVzenRLTWFxQnQ0T3Z2TzZXM2c3QzhjN2RHeVIyTHgtSFRyUDh3PT0iXSxudWxsLG51bGwsbnVsbCxudWxsLG51bGwsWzE2NDAzNjMyOTgsMjAyMDAwMDAwXSxudWxsLG51bGwsbnVsbCxbbnVsbCxbNyw5XSxudWxsLDJdLCJodHRwczovL3d3dy5zaGFiZGtvc2guY29tL3NlYXJjaC1kaWN0aW9uYXJ5IixudWxsLFtdXQ\"></script><link as=\"script\" href=\"https://adservice.google.co.in/adsid/integrator.js?domain=www.shabdkosh.com\" rel=\"preload\"/><script src=\"https://adservice.google.co.in/adsid/integrator.js?domain=www.shabdkosh.com\" type=\"text/javascript\"></script><link as=\"script\" href=\"https://adservice.google.com/adsid/integrator.js?domain=www.shabdkosh.com\" rel=\"preload\"/><script src=\"https://adservice.google.com/adsid/integrator.js?domain=www.shabdkosh.com\" type=\"text/javascript\"></script><script async=\"\" src=\"https://fundingchoicesmessages.google.com/f/AGSKWxXl8PfQEqsft47i9w4aJV2ZinxgBQd-WqB1aJHZO2zLwQ2uOE1ECpS9Nrmb6iBGmKdAndwGnclSVP2V79QmxJu37HwWJMGBZbkibBNgrKci0zv0vmN2uGnfBdaqgMF4_mNh_otDZAdzyZdCr8uDnw1So06bT13Gle2n4XmLqo6wKKx6GUxRQ81c57Vt?fccs=W1siQUtzUm9sX240VVB6dHVDblBCaG1yX2hlTVNLOW1BYVJhWHZhZEItSnhrY2RraWpETjdpbjZpSFZZdnBEN0ZoT2JQNnUwdkFRSzlnMjFCbGotczdJRVFEZ0s5WlIxdUNKQTdYOV9uZHlXSVVBaXVJODJtR0JFVkJFZ0k0SHVzenRLTWFxQnQ0T3Z2TzZXM2c3QzhjN2RHeVIyTHgtSFRyUDh3PT0iXSxudWxsLG51bGwsbnVsbCxudWxsLG51bGwsWzE2NDAzNjMyOTksNTI5MDAwMDAwXSxudWxsLG51bGwsbnVsbCxbbnVsbCxbNyw5LDZdLG51bGwsMixudWxsLG51bGwsbnVsbCxudWxsLG51bGwsbnVsbCxudWxsLDFdLCJodHRwczovL3d3dy5zaGFiZGtvc2guY29tL3NlYXJjaC1kaWN0aW9uYXJ5IixudWxsLFtdXQ\"></script></head>\n",
       "<body aria-hidden=\"false\" class=\"sa\" id=\"sa\" sl=\"en\" sln=\"english\" tl=\"sa\" tln=\"Sanskrit\">\n",
       "<!-- Language Bar -->\n",
       "<nav class=\"navbar navbar-default navbar-expand-md bg-light p-0 mb-0\">\n",
       "<div class=\"navbar w-100 blc d-md-none p-1\">\n",
       "<button aria-controls=\"navbarCollapse\" aria-expanded=\"false\" aria-label=\"Toggle navigation\" class=\"navbar-toggler p-1\" data-bs-target=\"#navbar-main\" data-bs-toggle=\"collapse\" type=\"button\">\n",
       "<span class=\"navbar-toggler-icon text-white\" style=\"background-image:none;\"><svg class=\"icon icon-menu\"><use xlink:href=\"#icon-menu\"></use></svg></span>\n",
       "</button>\n",
       "<a class=\"navbar-brand d-lg-none text-white text-uppercase\" href=\"https://www.shabdkosh.com/\" title=\"Online Dictionaries and Langugage Learning - SHABDKOSH.COM\">Shabdkosh<sup>®</sup></a>\n",
       "<button aria-controls=\"navbarCollapse\" aria-expanded=\"false\" aria-label=\"Toggle navigation\" class=\"navbar-toggler p-1\" data-bs-target=\"#navbar-lang\" data-bs-toggle=\"collapse\" type=\"button\">\n",
       "<span class=\"navbar-toggler-icon text-white\" style=\"background-image:none;\"><svg class=\"icon icon-sphere\"><use xlink:href=\"#icon-sphere\"></use></svg></span>\n",
       "</button>\n",
       "</div>\n",
       "<div class=\"collapse navbar-collapse justify-content-md-center\" id=\"navbar-lang\">\n",
       "<ul class=\"navbar-nav text-center\">\n",
       "<li class=\"nav-item bbbn llc px-3\"><a class=\"bn nav-link\" href=\"/dictionary/english-bengali/\" title=\"English Bangla Dictionary\">বাংলা</a></li>\n",
       "<li class=\"nav-item bbgu llc px-3\"><a class=\"gu nav-link\" href=\"/dictionary/english-gujarati/\" title=\"English Gujarati Dictionary\">ગુજરાતી</a></li>\n",
       "<li class=\"nav-item bbhi llc px-3\"><a class=\"hi nav-link\" href=\"/dictionary/english-hindi/\" title=\"English Hindi Dictionary\">हिन्दी</a></li>\n",
       "<li class=\"nav-item bbkn llc px-3\"><a class=\"kn nav-link\" href=\"/dictionary/english-kannada/\" title=\"English Kannada Dictionary\">ಕನ್ನಡ</a></li>\n",
       "<li class=\"nav-item bbkok llc px-3\"><a class=\"kok nav-link\" href=\"/dictionary/english-konkani/\" title=\"English Konkani Dictionary\">कोंकणी</a></li>\n",
       "<li class=\"nav-item bbml llc px-3\"><a class=\"ml nav-link\" href=\"/dictionary/english-malayalam/\" title=\"English Malayalam Dictionary\">മലയാളം</a></li>\n",
       "<li class=\"nav-item bbmr llc px-3\"><a class=\"mr nav-link\" href=\"/dictionary/english-marathi/\" title=\"English Marathi Dictionary\">मराठी</a></li>\n",
       "<li class=\"nav-item bbpa llc px-3\"><a class=\"pa nav-link\" href=\"/dictionary/english-punjabi/\" title=\"English Punjabi Dictionary\">ਪੰਜਾਬੀ</a></li>\n",
       "<li class=\"nav-item bbsa llc px-3\"><a class=\"sa nav-link\" href=\"/dictionary/english-sanskrit/\" title=\"English Sanskrit Dictionary\">संस्कृतम्</a></li>\n",
       "<li class=\"nav-item bbta llc px-3\"><a class=\"ta nav-link\" href=\"/dictionary/english-tamil/\" title=\"English Tamil Dictionary\">தமிழ்</a></li>\n",
       "<li class=\"nav-item bbte llc px-3\"><a class=\"te nav-link\" href=\"/dictionary/english-telugu/\" title=\"English Telugu Dictionary\">తెలుగు</a></li>\n",
       "</ul>\n",
       "</div>\n",
       "</nav>\n",
       "<!-- Brand and Search Form -->\n",
       "<div id=\"display-onscroll\">\n",
       "<div class=\"container-lg\">\n",
       "<div class=\"row\">\n",
       "<div class=\"d-none d-md-block col-md-6\">\n",
       "<div class=\"mt-1 py-1 float-start\">\n",
       "<img alt=\"SHABDKOSH Logo\" loading=\"lazy\" src=\"//www.shabdkosh.net/images/sk_icon_64.png\" style=\"height:64px;width:64px;\"/>\n",
       "</div>\n",
       "<div class=\"ms-2 mb-2\">\n",
       "<span class=\"title mt-2 mb-1\">\n",
       "<a class=\"title flc text-decoration-none text-uppercase\" href=\"/\" id=\"flc\" title=\"English Sanskrit Dictionary and Translation\">Shabdkosh<sup class=\"title flc\" style=\"font-size:0.7em;\">®</sup></a>\n",
       "</span>\n",
       "<p class=\"mb-1\">English Sanskrit Dictionary | आंग्लभाषा संस्कृतम् शब्दकोशः</p>\n",
       "</div>\n",
       "</div>\n",
       "<div class=\"col-md-5 px-3\" id=\"sform\">\n",
       "<form action=\"/search-dictionary\" class=\"mt-2 mb-1\" id=\"dict_search_form\" method=\"get\" role=\"search\">\n",
       "<input id=\"l\" name=\"lc\" type=\"hidden\" value=\"sa\"/>\n",
       "<input id=\"sl\" name=\"sl\" type=\"hidden\" value=\"en\"/>\n",
       "<input id=\"tl\" name=\"tl\" type=\"hidden\" value=\"sa\"/>\n",
       "<div class=\"input-group\">\n",
       "<span class=\"input-group-text\"><svg class=\"icon s-input-icon svg-icon icon-search\" style=\"stroke:current-color;\"><use xlink:href=\"#icon-search2\"></use></svg></span>\n",
       "<input autocomplete=\"off\" class=\"ps-2 form-control xlit hi1\" id=\"e\" lc=\"sa\" lname=\"Sanskrit\" lnucf=\"Sanskrit\" name=\"e\" placeholder=\"English or Sanskrit\" size=\"40\" type=\"search\" value=\"again\"/>\n",
       "<button class=\"search-submit btn btn-primary\" type=\"submit\">Search</button>\n",
       "</div>\n",
       "</form>\n",
       "<div class=\"ps-0\" id=\"acloc\"></div>\n",
       "<span class=\"xltlegend small fw-light\">Keyboard</span>\n",
       "<span class=\"xltb rounded-pill px-2 text-uppercase\" id=\"kbdsnh\" title=\"Show or Hide Keyboard\">off</span>\n",
       "<span class=\"xltb rounded-pill px-2 text-uppercase\" id=\"ins_kbd\" title=\"Change Language\">English</span>\n",
       "</div>\n",
       "</div>\n",
       "<!-- OSK -->\n",
       "<div class=\"mb-1\" id=\"keyboard\" style=\"display:none;\">\n",
       "<!--\n",
       "        <div id=\"kbdhelp\" class=\"d-inline-block col-lg-5\">\n",
       "          <strong>Tips</strong>\n",
       "          <ol>\n",
       "            <li>Note that 'matra' is added after the consonant.</li>\n",
       "            <li>For half letters, type halant ('d' key) after the consonant in the INSCRIPT keyboard.</li>\n",
       "          </ol>\n",
       "        </div>\n",
       "   -->\n",
       "<div id=\"kbd0\"></div>\n",
       "</div>\n",
       "</div>\n",
       "<!-- Menu Bar -->\n",
       "<div class=\"container-lg\" id=\"respnav\">\n",
       "<nav class=\"navbar navbar-default navbar-expand-md p-0\">\n",
       "<div class=\"collapse navbar-collapse blc\" id=\"navbar-main\">\n",
       "<ul class=\"navbar-nav lc text-center\" id=\"nl\">\n",
       "<li class=\"nav-item\"><a class=\"nav-link\" href=\"/\" title=\"Go to home page\"><svg class=\"icon icon-home2\"><use xlink:href=\"#icon-home2\"></use></svg></a></li>\n",
       "<!--li class=\"nav-item\"><a class=\"nav-link \" title=\"About this site\" href=\"/about\">About</a></li-->\n",
       "<li class=\"nav-item dropdown\">\n",
       "<a aria-expanded=\"false\" class=\"nav-link dropdown-toggle\" data-bs-toggle=\"dropdown\" href=\"#\" role=\"button\">Utilities</a>\n",
       "<ul class=\"dropdown-menu bg-secondary\">\n",
       "<li><a class=\"dropdown-item\" href=\"/utilities/ocr\">OCR</a></li>\n",
       "<li><a class=\"dropdown-item\" href=\"/utilities/translator\">Text translator</a></li>\n",
       "<!--        <li><a class=\"dropdown-item\" href=\"#\"></a></li>\n",
       "            <li><a class=\"dropdown-item\" href=\"#\"></a></li>\n",
       "            <li><hr class=\"dropdown-divider\"></li>\n",
       "            <li><a class=\"dropdown-item\" href=\"#\"></a></li>-->\n",
       "</ul>\n",
       "</li>\n",
       "<li class=\"nav-item\"><a class=\"nav-link\" href=\"/browse/english-sanskrit\" title=\"Browse Dictionary\">Browse</a></li>\n",
       "<li class=\"nav-item\"><a class=\"nav-link\" href=\"/vocabulary/english-sanskrit\" title=\"Vocabulary\">Vocabulary</a></li>\n",
       "<li class=\"nav-item\"><a class=\"nav-link\" href=\"/classroom/student\" title=\"Classroom\">Classroom</a></li>\n",
       "<li class=\"nav-item\"><a class=\"nav-link\" href=\"/games/\" title=\"Play and Learn with Word Games\">Games</a></li>\n",
       "<li class=\"nav-item\"><a class=\"nav-link\" href=\"/word-of-the-day/english-sanskrit\" title=\"Word of the Day\">Word of the Day</a></li>\n",
       "<li class=\"nav-item\"><a class=\"nav-link\" href=\"/quote-of-the-day/english-sanskrit\" title=\"Motivational Quote of the Day\">Quote of the Day</a></li>\n",
       "<li class=\"nav-item d-md-none d-lg-block\"><a class=\"nav-link\" href=\"/payments\"><svg class=\"bi bi-gem\" fill=\"currentColor\" height=\"16\" viewbox=\"0 0 16 16\" width=\"16\" xmlns=\"http://www.w3.org/2000/svg\">\n",
       "<path d=\"M3.1.7a.5.5 0 0 1 .4-.2h9a.5.5 0 0 1 .4.2l2.976 3.974c.149.185.156.45.01.644L8.4 15.3a.5.5 0 0 1-.8 0L.1 5.3a.5.5 0 0 1 0-.6l3-4zm11.386 3.785-1.806-2.41-.776 2.413 2.582-.003zm-3.633.004.961-2.989H4.186l.963 2.995 5.704-.006zM5.47 5.495 8 13.366l2.532-7.876-5.062.005zm-1.371-.999-.78-2.422-1.818 2.425 2.598-.003zM1.499 5.5l5.113 6.817-2.192-6.82L1.5 5.5zm7.889 6.817 5.123-6.83-2.928.002-2.195 6.828z\"></path>\n",
       "</svg> Premium</a></li>\n",
       "<!--\n",
       "        <li class=\"nav-item\"><a class=\"nav-link\" title=\"Contribute to Dictionary Development\" href=\"/contribute/english-sanskrit\">Contribute</a></li>\n",
       " -->\n",
       "<li class=\"nav-item\"><a class=\"nav-link\" href=\"/forums\" title=\"Language Support Forums\">Forums</a></li>\n",
       "<!--li><a  href=\"/careers\">Careers</a></li-->\n",
       "</ul>\n",
       "</div>\n",
       "</nav>\n",
       "</div>\n",
       "</div>\n",
       "<div class=\"container-lg\" id=\"content\" role=\"main\" style=\"height: auto !important;\">\n",
       "<div class=\"pt-2\" editor=\"0\" id=\"ehresults\" indic=\"0\" latin=\"1\" n=\"1\" roman=\"0\" rsl=\"en\" rsln=\"english\" rtl=\"sa\" rtln=\"sanskrit\" sl=\"en\" style=\"height: auto !important;\" tl=\"sa\" uid=\"0\"><div class=\"row\" style=\"height: auto !important;\"><div class=\"col-lg-8 col-md-9 pt-2\"><ins class=\"adsbygoogle\" data-ad-client=\"ca-pub-2804136533585134\" data-ad-slot=\"5910715814\" data-ad-status=\"filled\" data-adsbygoogle-status=\"done\" style=\"display: inline-block; min-width: 360px; max-width: 970px; width: 560.25px; height: 100px;\"><ins aria-label=\"Advertisement\" id=\"aswift_0_expand\" style=\"border: none; height: 100px; width: 560px; margin: 0px; padding: 0px; position: relative; visibility: visible; background-color: transparent; display: inline-table;\" tabindex=\"0\" title=\"Advertisement\"><ins id=\"aswift_0_anchor\" style=\"border: none; height: 100px; width: 560px; margin: 0px; padding: 0px; position: relative; visibility: visible; background-color: transparent; display: block;\"><iframe allow=\"attribution-reporting\" allowfullscreen=\"true\" allowtransparency=\"true\" data-google-container-id=\"a!1\" data-google-query-id=\"COmRw73t_PQCFQNTKwod8fECyA\" data-load-complete=\"true\" frameborder=\"0\" height=\"100\" hspace=\"0\" id=\"aswift_0\" marginheight=\"0\" marginwidth=\"0\" name=\"aswift_0\" sandbox=\"allow-forms allow-popups allow-popups-to-escape-sandbox allow-same-origin allow-scripts allow-top-navigation-by-user-activation\" scrolling=\"no\" src=\"https://googleads.g.doubleclick.net/pagead/ads?client=ca-pub-2804136533585134&amp;output=html&amp;h=100&amp;slotname=5910715814&amp;adk=3558875857&amp;adf=1882389772&amp;pi=t.ma~as.5910715814&amp;w=560&amp;lmt=1640363297&amp;rafmt=12&amp;psa=0&amp;format=560x100&amp;url=https%3A%2F%2Fwww.shabdkosh.com%2Fsearch-dictionary%3Flc%3Dsa%26sl%3Den%26tl%3Dsa%26e%3Dagain&amp;flash=0&amp;wgl=1&amp;uach=WyIiLCIiLCIiLCIiLCIiLFtdLG51bGwsbnVsbCwiIl0.&amp;dt=1640363297046&amp;bpp=3&amp;bdt=78&amp;idt=82&amp;shv=r20211207&amp;mjsv=m202112060101&amp;ptt=9&amp;saldr=aa&amp;abxe=1&amp;cookie=ID%3D686e932df5163ce7-2236bb5986cf0066%3AT%3D1640363294%3AS%3DALNI_MYRLyy2ZqqRSgXlIdrFtb9rwYS4vw&amp;correlator=6564073985598&amp;frm=20&amp;pv=2&amp;ga_vid=1142453384.1640363293&amp;ga_sid=1640363297&amp;ga_hid=1392668344&amp;ga_fc=1&amp;u_tz=330&amp;u_his=3&amp;u_h=600&amp;u_w=800&amp;u_ah=600&amp;u_aw=800&amp;u_cd=24&amp;dmc=8&amp;adx=12&amp;ady=208&amp;biw=779&amp;bih=579&amp;scr_x=0&amp;scr_y=0&amp;eid=31063825&amp;oid=2&amp;pvsid=3587301692309787&amp;pem=297&amp;tmod=453&amp;ref=https%3A%2F%2Fwww.shabdkosh.com%2Fdictionary%2Fenglish-sanskrit%2F&amp;eae=0&amp;fc=640&amp;brdim=0%2C0%2C0%2C0%2C800%2C0%2C800%2C600%2C800%2C600&amp;vis=1&amp;rsz=%7Cd%7CeE%7C&amp;abl=NS&amp;pfx=0&amp;fu=1280&amp;bc=31&amp;ifi=1&amp;uci=a!1&amp;fsb=1&amp;xpc=XIgS3iCRGK&amp;p=https%3A//www.shabdkosh.com&amp;dtd=98\" style=\"left:0;position:absolute;top:0;border:0;width:560px;height:100px;\" vspace=\"0\" width=\"560\"></iframe></ins></ins></ins><script async=\"\" src=\"//pagead2.googlesyndication.com/pagead/js/adsbygoogle.js\"></script><!-- ad_dict_top --><script> (adsbygoogle = window.adsbygoogle || []).push({}); </script><div id=\"navbar\"><ul class=\"nav-tabs px-0 mb-1 mb-3\" style=\"overflow-x: auto; overflow-y:hidden; white-space: nowrap;background-color:#f7f7f7;\"><li class=\"dnav nav-item active\" style=\"display:inline-block;\"><a class=\"nav-link px-2\" href=\"/dictionary/english-sanskrit/again/again-meaning-in-sanskrit\"><svg class=\"icon me-1\" style=\"stroke:current-color;\"><use xlink:href=\"#icon-search2\"></use></svg>Dictionary</a></li><li class=\"dnav nav-item\" style=\"display:inline-block;\"><a class=\"nav-link px-2\" href=\"/pronunciation/english-sanskrit/again\"><svg class=\"icon me-1\" height=\"24px\" viewbox=\"0 0 24 24\" width=\"24px\" xmlns=\"http://www.w3.org/2000/svg\"><path d=\"M0 0h24v24H0V0z\" fill=\"none\"></path><path d=\"M9 13c2.21 0 4-1.79 4-4s-1.79-4-4-4-4 1.79-4 4 1.79 4 4 4zm0-6c1.1 0 2 .9 2 2s-.9 2-2 2-2-.9-2-2 .9-2 2-2zm0 8c-2.67 0-8 1.34-8 4v2h16v-2c0-2.66-5.33-4-8-4zm-6 4c.22-.72 3.31-2 6-2 2.7 0 5.8 1.29 6 2H3zM15.08 7.05c.84 1.18.84 2.71 0 3.89l1.68 1.69c2.02-2.02 2.02-5.07 0-7.27l-1.68 1.69zM20.07 2l-1.63 1.63c2.77 3.02 2.77 7.56 0 10.74L20.07 16c3.9-3.89 3.91-9.95 0-14z\"></path></svg>Pronunciation</a></li><li class=\"dnav nav-item\" style=\"display:inline-block;\"><a class=\"nav-link px-2\" href=\"/thesaurus/english-sanskrit/again\"><svg class=\"icon me-1\" style=\"stroke:current-color;\"><use xlink:href=\"#icon-copy\"></use></svg>Thesaurus</a></li><li class=\"dnav nav-item\" style=\"display:inline-block;\"><a class=\"nav-link px-2\" href=\"/example-sentences/english-sanskrit/again\"><svg class=\"icon me-1\"><use xlink:href=\"#icon-chat1\"></use></svg>Examples</a></li><li class=\"dnav nav-item\" style=\"display:inline-block;\"><a class=\"nav-link px-2\" href=\"/rhyming-dictionary/english-sanskrit/again\"><svg class=\"icon me-1\"><use xlink:href=\"#icon-rhyme\"></use></svg>Rhymes</a></li></ul></div><h1 class=\"pagehead fs-6\" id=\"eil\">again - Meaning in Sanskrit</h1><div class=\"result-header\"><div class=\"list-tools px-2 float-end\"><span data-bs-target=\"#list-modal\" data-bs-toggle=\"modal\" data-keyboard=\"true\" title=\"Add to favourite\"><svg class=\"icon icon-md icon-heart nofill\"><use xlink:href=\"#icon-heart\"></use></svg></span><span data-bs-target=\"#list-modal\" data-bs-toggle=\"modal\" data-keyboard=\"true\" title=\"Add to collection\"><svg class=\"ms-2 ms-2 icon icon-md icon-collection\"><use xlink:href=\"#icon-collection\"></use></svg></span><span><a alt=\"Discuss in Forums\" href=\"/forums/viewforum/15\" title=\"Discuss in Forums\"><svg class=\"ms-2 ms-2 icon icon-md icon-chat\" style=\"color:darkgreen;\"><use xlink:href=\"#icon-chat\"></use></svg></a></span><span data-bs-target=\"#share-modal\" data-bs-toggle=\"modal\" title=\"Share\"><svg class=\"ms-2 icon icon-md icon-share flc\"><use xlink:href=\"#icon-share3\"></use></svg></span></div><h2 class=\"fs-1\" id=\"dicthead\">again</h2></div><div class=\"d-flex flex-wrap align-items-center\"><div>Popularity: <span aria-label=\"Word Popularity\" class=\"psc pe-2\" id=\"pscore\" style=\"--ps: 5;\" title=\"Word Popularity\"></span></div><div>Difficulty: <span aria-label=\"Word Difficulty\" class=\"dsc\" id=\"dscore\" style=\"--ds: 0.3;\" title=\"Word Difficulty\"></span></div></div><div class=\"page-header\"><h2 class=\"ehr\">Pronunciation</h2><div class=\"mb-2\"><span class=\"in me-3\">IPA: əgɛn</span><span class=\"in\">Sanskrit: अगेन / अगैन</span></div><div class=\"d-flex\"><div class=\"aup aust rounded-pill ps-2 pe-1 py-1 mb-1 me-1\" id=\"en00124677\"><img aria-label=\"Pronunciation Accent\" class=\"in\" height=\"25\" style=\"margin-right:-0.5em;\" width=\"25\"/><img alt=\"\" aria-label=\"Audio pronunciation\" class=\"audio\" height=\"25\" width=\"25\"/></div><div class=\"aup aust rounded-pill ps-2 pe-1 py-1 mb-1 me-1\" id=\"en20124677\"><img aria-label=\"Pronunciation Accent\" class=\"in\" height=\"25\" style=\"margin-right:-0.5em;\" width=\"25\"/><img alt=\"\" aria-label=\"Audio pronunciation\" class=\"audio\" height=\"25\" width=\"25\"/></div><div class=\"aup aust rounded-pill ps-2 pe-1 py-1 mb-1 me-1\" id=\"en40124677\"><img aria-label=\"Pronunciation Accent\" class=\"gb\" height=\"25\" style=\"margin-right:-0.5em;\" width=\"25\"/><img alt=\"\" aria-label=\"Audio pronunciation\" class=\"audio\" height=\"25\" width=\"25\"/></div><div class=\"aup aust rounded-pill ps-2 pe-1 py-1 mb-1 me-1\" id=\"en50124677\"><img aria-label=\"Pronunciation Accent\" class=\"us\" height=\"25\" style=\"margin-right:-0.5em;\" width=\"25\"/><img alt=\"\" aria-label=\"Audio pronunciation\" class=\"audio\" height=\"25\" width=\"25\"/></div><div class=\"aust rounded-pill d-flex align-items-center mb-1\"><a class=\"px-3\" href=\"/pronunciation/english-sanskrit/again\" title=\"Practice Pronunciation\"><svg fill=\"var(--c5lc)\" height=\"24px\" viewbox=\"0 0 24 24\" width=\"24px\" xmlns=\"http://www.w3.org/2000/svg\"><path d=\"M0 0h24v24H0V0z\" fill=\"none\"></path><path d=\"M9 13c2.21 0 4-1.79 4-4s-1.79-4-4-4-4 1.79-4 4 1.79 4 4 4zm0-6c1.1 0 2 .9 2 2s-.9 2-2 2-2-.9-2-2 .9-2 2-2zm0 8c-2.67 0-8 1.34-8 4v2h16v-2c0-2.66-5.33-4-8-4zm-6 4c.22-.72 3.31-2 6-2 2.7 0 5.8 1.29 6 2H3zM15.08 7.05c.84 1.18.84 2.71 0 3.89l1.68 1.69c2.02-2.02 2.02-5.07 0-7.27l-1.68 1.69zM20.07 2l-1.63 1.63c2.77 3.02 2.77 7.56 0 10.74L20.07 16c3.9-3.89 3.91-9.95 0-14z\"></path></svg></a></div></div></div><div class=\"page-header\"><div class=\"list-tools px-2 float-end\"><small><a href=\"/dictionary/english-sanskrit/again/again-meaning-in-sanskrit\" id=\"txlt\" s=\"0\">Transliterate</a></small></div><h2 class=\"ehr\">Meanings of <a href=\"/dictionary/english-sanskrit/again/again-meaning-in-sanskrit\" id=\"sref\" title=\"again meaning in Sanskrit\">again</a> in Sanskrit</h2></div><div class=\"row\"><div class=\"col-sm-12 dc\"><h3 class=\"mt-1 adverb\"><em>adverb </em></h3><ol class=\"eirol\"><li pos=\"adverb\" tid=\"5750\" tll=\"पुनरेकवारम्\"><a class=\"e in l ms-2\" href=\"/dictionary/sanskrit-english/पुनरेकवारम्/पुनरेकवारम्-meaning-in-english\">पुनरेकवारम्</a><svg class=\"ms-3\" data-bs-target=\"#premium-login-modal\" data-bs-toggle=\"modal\" fill=\"none\" height=\"24px\" stroke=\"#207dd9\" style=\"opacity: 0.15; cursor:pointer;\" width=\"24px\"><use xlink:href=\"#icon-copy\"></use></svg> <span class=\"latin\" style=\"font-size:0.7em;display:none;\">[punarēkavāram]</span></li></ol></div></div><div style=\"margin-top:5px;padding-top:5px;\"><script async=\"\" src=\"//pagead2.googlesyndication.com/pagead/js/adsbygoogle.js\"></script><ins class=\"adsbygoogle\" data-ad-client=\"ca-pub-2804136533585134\" data-ad-slot=\"4555667203\" data-ad-status=\"unfilled\" data-adsbygoogle-status=\"done\" style=\"display: block; width: 560.25px; height: 0px;\"><ins aria-label=\"Advertisement\" id=\"aswift_1_expand\" style=\"border: none; height: 0px; width: 560px; margin: 0px; padding: 0px; position: relative; visibility: visible; background-color: transparent; display: inline-table;\" tabindex=\"0\" title=\"Advertisement\"><ins id=\"aswift_1_anchor\" style=\"border: none; height: 0px; width: 560px; margin: 0px; padding: 0px; position: relative; visibility: visible; background-color: transparent; display: block; overflow: hidden; opacity: 0;\"><iframe allow=\"attribution-reporting\" allowfullscreen=\"true\" allowtransparency=\"true\" data-google-container-id=\"a!2\" data-google-query-id=\"CJ_nxb3t_PQCFYhFKwodoSIBxA\" data-load-complete=\"true\" frameborder=\"0\" height=\"0\" hspace=\"0\" id=\"aswift_1\" marginheight=\"0\" marginwidth=\"0\" name=\"aswift_1\" sandbox=\"allow-forms allow-popups allow-popups-to-escape-sandbox allow-same-origin allow-scripts allow-top-navigation-by-user-activation\" scrolling=\"no\" src=\"https://googleads.g.doubleclick.net/pagead/ads?client=ca-pub-2804136533585134&amp;output=html&amp;h=100&amp;slotname=4555667203&amp;adk=4287061027&amp;adf=92274426&amp;pi=t.ma~as.4555667203&amp;w=560&amp;lmt=1640363297&amp;rafmt=12&amp;psa=0&amp;format=560x100&amp;url=https%3A%2F%2Fwww.shabdkosh.com%2Fsearch-dictionary%3Flc%3Dsa%26sl%3Den%26tl%3Dsa%26e%3Dagain&amp;flash=0&amp;wgl=1&amp;uach=WyIiLCIiLCIiLCIiLCIiLFtdLG51bGwsbnVsbCwiIl0.&amp;dt=1640363297049&amp;bpp=2&amp;bdt=81&amp;idt=129&amp;shv=r20211207&amp;mjsv=m202112060101&amp;ptt=9&amp;saldr=aa&amp;abxe=1&amp;cookie=ID%3D686e932df5163ce7-2236bb5986cf0066%3AT%3D1640363294%3AS%3DALNI_MYRLyy2ZqqRSgXlIdrFtb9rwYS4vw&amp;prev_fmts=560x100%2C0x0&amp;nras=1&amp;correlator=6564073985598&amp;frm=20&amp;pv=1&amp;ga_vid=1142453384.1640363293&amp;ga_sid=1640363297&amp;ga_hid=1392668344&amp;ga_fc=1&amp;u_tz=330&amp;u_his=3&amp;u_h=600&amp;u_w=800&amp;u_ah=600&amp;u_aw=800&amp;u_cd=24&amp;dmc=8&amp;adx=12&amp;ady=711&amp;biw=779&amp;bih=579&amp;scr_x=0&amp;scr_y=0&amp;eid=31063825&amp;oid=2&amp;pvsid=3587301692309787&amp;pem=297&amp;tmod=453&amp;ref=https%3A%2F%2Fwww.shabdkosh.com%2Fdictionary%2Fenglish-sanskrit%2F&amp;eae=0&amp;fc=896&amp;brdim=0%2C0%2C0%2C0%2C800%2C0%2C800%2C600%2C800%2C600&amp;vis=1&amp;rsz=%7C%7CeEbr%7C&amp;abl=CS&amp;pfx=0&amp;fu=1280&amp;bc=31&amp;ifi=2&amp;uci=a!2&amp;btvi=1&amp;fsb=1&amp;xpc=qHTQsNaIq3&amp;p=https%3A//www.shabdkosh.com&amp;dtd=134\" style=\"left: 0px; position: absolute; top: 0px; border: 0px; width: 560px; height: 0px;\" vspace=\"0\" width=\"560\"></iframe></ins></ins></ins><script>(adsbygoogle = window.adsbygoogle || []).push({});</script></div><h2 class=\"ehr\">Definitions and Meaning of again in English</h2><h3 class=\"\">again<span class=\"ms-2 border border-secondary bg-light rounded-pill px-2 py-0 mb-2 me-1 fs-5\"><em>adverb</em></span></h3><ol class=\"wnol mt-2\"><li><span class=\"definition\"><span>anew</span></span><br/><span class=\"synonyms-list d-flex flex-wrap align-items-center\"><u>Synonyms</u> : <span class=\"cursyn\">once again, once more, over again</span><a class=\"0 synonyms btn\" data-bs-target=\"#add_synonyms\" data-bs-toggle=\"modal\" data-keyboard=\"true\" def=\"anew\" did=\"400040777\" pos=\"adverb\" title=\"Add synonyms\" value=\"Add Synonyms\"><svg class=\"bi bi-plus-square\" fill=\"var(--c5lc)\" height=\"18\" viewbox=\"0 0 16 16\" width=\"18\" xmlns=\"http://www.w3.org/2000/svg\">\n",
       "<path d=\"M14 1a1 1 0 0 1 1 1v12a1 1 0 0 1-1 1H2a1 1 0 0 1-1-1V2a1 1 0 0 1 1-1h12zM2 0a2 2 0 0 0-2 2v12a2 2 0 0 0 2 2h12a2 2 0 0 0 2-2V2a2 2 0 0 0-2-2H2z\"></path>\n",
       "<path d=\"M8 4a.5.5 0 0 1 .5.5v3h3a.5.5 0 0 1 0 1h-3v3a.5.5 0 0 1-1 0v-3h-3a.5.5 0 0 1 0-1h3v-3A.5.5 0 0 1 8 4z\"></path>\n",
       "</svg></a></span><u><em>Examples</em></u><br/>- she tried again<br/>- they rehearsed the scene again<br/></li></ol><h2 class=\"ehr\">Synonyms of again</h2><p><a href=\"/dictionary/english-sanskrit/once+again/once+again-meaning-in-sanskrit\">once again</a>, <a href=\"/dictionary/english-sanskrit/once+more/once+more-meaning-in-sanskrit\">once more</a>, <a href=\"/dictionary/english-sanskrit/over+again/over+again-meaning-in-sanskrit\">over again</a></p><div class=\"m-2 text-center d-flex flex-wrap\"><div class=\"m-1 p-1 bg-light border border-secondary rounded\"><a class=\"nav-link px-2\" href=\"/forums/viewforum/15\"><svg \"=\"\" class=\"me-1 icon\"><use xlink:href=\"#icon-chat\"></use></svg>Forum</a></div>\n",
       "<div class=\"m-1 p-1 bg-light border border-secondary rounded\"><a class=\"nav-link px-2\" href=\"/example-sentences/english-sanskrit/again\"><svg class=\"icon me-1\"><use xlink:href=\"#icon-chat1\"></use></svg>Examples</a></div>\n",
       "<div class=\"m-1 p-1 bg-light border border-secondary rounded\"><a class=\"nav-link px-2\" href=\"/conjugation/english-sanskrit/again\"><svg class=\"me-1\" fill=\"none\" height=\"22px\" stroke=\"currentColor\" viewbox=\"0 0 24 24\" xmlns=\"http://www.w3.org/2000/svg\"><path d=\"M7 21a4 4 0 01-4-4V5a2 2 0 012-2h4a2 2 0 012 2v12a4 4 0 01-4 4zm0 0h12a2 2 0 002-2v-4a2 2 0 00-2-2h-2.343M11 7.343l1.657-1.657a2 2 0 012.828 0l2.829 2.829a2 2 0 010 2.828l-8.486 8.485M7 17h.01\" stroke-linecap=\"round\" stroke-linejoin=\"round\" stroke-width=\"2\"></path></svg>Conjugation</a></div>\n",
       "<div class=\"m-1 p-1 bg-light border border-secondary rounded\"><a class=\"nav-link px-2\" href=\"/thesaurus/english-sanskrit/again\"><svg class=\"icon me-1\" style=\"stroke:current-color;\"><use xlink:href=\"#icon-copy\"></use></svg>Thesaurus</a></div>\n",
       "</div><h2 class=\"ehr\">More matches for again</h2><h3 class=\"adverb\">adverb </h3><table class=\"ehr\" style=\"width:100%;\"><tbody><tr><td class=\"l\" style=\"width:40%\"><a class=\"in l\" href=\"/dictionary/english-sanskrit/again and again/again and again-meaning-in-sanskrit\">again and again</a></td><td class=\"l\"><a class=\"in l\" href=\"/dictionary/sanskrit-english/भूयो भूयः/भूयो भूयः-meaning-in-english\">भूयो भूयः</a></td></tr><tr><td class=\"l\" style=\"width:40%\"><a class=\"in l\" href=\"/dictionary/english-sanskrit/against/against-meaning-in-sanskrit\">against</a></td><td class=\"l\"><a class=\"in l\" href=\"/dictionary/sanskrit-english/प्रत्यक्/प्रत्यक्-meaning-in-english\">प्रत्यक्</a></td></tr><tr><td class=\"l\" style=\"width:40%\"><a class=\"in l\" href=\"/dictionary/english-sanskrit/against the enemy/against the enemy-meaning-in-sanskrit\">against the enemy</a></td><td class=\"l\"><a class=\"in l\" href=\"/dictionary/sanskrit-english/अभ्यमित्रम्/अभ्यमित्रम्-meaning-in-english\">अभ्यमित्रम्</a></td></tr><tr><td class=\"l\" style=\"width:40%\"><a class=\"in l\" href=\"/dictionary/english-sanskrit/against the wind/against the wind-meaning-in-sanskrit\">against the wind</a></td><td class=\"l\"><a class=\"in l\" href=\"/dictionary/sanskrit-english/अभिमारुतम्/अभिमारुतम्-meaning-in-english\">अभिमारुतम्</a></td></tr></tbody></table><h2>Sponsored Links</h2><div class=\"my-3\"><script type=\"text/javascript\">amzn_assoc_ad_type =\"responsive_search_widget\"; amzn_assoc_tracking_id =\"s057a-21\"; amzn_assoc_marketplace =\"amazon\"; amzn_assoc_region =\"IN\"; amzn_assoc_placement =\"\"; amzn_assoc_search_type = \"search_widget\";amzn_assoc_width =\"auto\"; amzn_assoc_height =\"auto\"; amzn_assoc_default_search_category =\"\"; amzn_assoc_default_search_key =\"again\";amzn_assoc_theme =\"light\"; amzn_assoc_bg_color =\"FFFFFF\"; </script><script src=\"//z-in.amazon-adsystem.com/widgets/q?ServiceVersion=20070822&amp;Operation=GetScript&amp;ID=OneJS&amp;WS=1&amp;Marketplace=IN\"></script><div id=\"amzn_assoc_ad_div_adunit_0\"><style type=\"text/css\">#__mobileAssociatesSearchWidget_adunit_0.__mobile-associates-search-widget,#__mobileAssociatesSearchWidget_adunit_0.__mobile-associates-search-widget *{margin:0;padding:0;border:0;font-size:12px;font:inherit;vertical-align:middle;font-family:arial,verdana,helvetica,sans-serif;position:relative;color:#333}#__mobileAssociatesSearchWidget_adunit_0.__mobile-associates-search-widget{width:99%;height:auto;display:inline-block;text-align:left;vertical-align:middle}#__mobileAssociatesSearchWidget_adunit_0.__mobile-associates-search-widget .__ma-sw-category-selection{position:absolute;right:10px;top:25px;z-index:1000;padding:5px 0;margin:2px 0 0;background-color:#fff;border:1px solid #ccc;border:1px solid rgba(0,0,0,.15);border-radius:4px;box-shadow:0 6px 12px rgba(0,0,0,.175);-webkit-box-shadow:0 6px 12px rgba(0,0,0,.175);background-clip:padding-box}#__mobileAssociatesSearchWidget_adunit_0.__mobile-associates-search-widget .__ma-sw-category-selection ul.__ma-sw-category-items{display:block;width:200px;height:230px;overflow-y:scroll;list-style:none}#__mobileAssociatesSearchWidget_adunit_0.__mobile-associates-search-widget .__ma-sw-category-selection ul.__ma-sw-category-items::-webkit-scrollbar{-webkit-appearance:none;width:7px}#__mobileAssociatesSearchWidget_adunit_0.__mobile-associates-search-widget .__ma-sw-category-selection ul.__ma-sw-category-items::-webkit-scrollbar-thumb{border-radius:4px;background-color:rgba(0,0,0,.5);-webkit-box-shadow:0 0 1px rgba(255,255,255,.5)}#__mobileAssociatesSearchWidget_adunit_0.__mobile-associates-search-widget .__ma-sw-category-selection ul.__ma-sw-category-items li{cursor:pointer;display:list-item;text-align:left;text-align:-webkit-match-parent;list-style:none;font-size:13px;padding:3px 20px;clear:both;font-weight:400;line-height:1.42857143;color:#333;white-space:nowrap;overflow:hidden;text-overflow:ellipsis}#__mobileAssociatesSearchWidget_adunit_0.__mobile-associates-search-widget .__ma-sw-category-selection ul.__ma-sw-category-items li:after,#__mobileAssociatesSearchWidget_adunit_0.__mobile-associates-search-widget .__ma-sw-category-selection ul.__ma-sw-category-items li:before{box-sizing:border-box;-webkit-box-sizing:border-box;-moz-box-sizing:border-box}#__mobileAssociatesSearchWidget_adunit_0.__mobile-associates-search-widget .__ma-sw-category-selection ul.__ma-sw-category-items li.current{background:#eee}#__mobileAssociatesSearchWidget_adunit_0.__mobile-associates-search-widget .__ma-sw-category-selection ul.__ma-sw-category-items li.outline{background:#f8f8f8}#__mobileAssociatesSearchWidget_adunit_0.__mobile-associates-search-widget .__ma-sw-category-selection ul.__ma-sw-category-items li:hover{color:#262626;background-color:#f8f8f8}#__mobileAssociatesSearchWidget_adunit_0.__mobile-associates-search-widget .__ma-sw-suggestion-wrapper{width:99%;position:absolute;z-index:9999;top:68px;text-align:left}#__mobileAssociatesSearchWidget_adunit_0.__mobile-associates-search-widget .__ma-sw-autcomplete{background:#fff;display:none;width:100%;height:auto;border:1px solid #ccc;border:1px solid rgba(0,0,0,.15);border-radius:0 0 4px 4px;box-shadow:0 6px 12px rgba(0,0,0,.175);-webkit-box-shadow:0 6px 12px rgba(0,0,0,.175);background-clip:padding-box}#__mobileAssociatesSearchWidget_adunit_0.__mobile-associates-search-widget .__ma-sw-autcomplete .__ma-sw-suggestion{padding:3px 5px;font-size:12px;color:#333}#__mobileAssociatesSearchWidget_adunit_0.__mobile-associates-search-widget .__ma-sw-autcomplete .__ma-sw-suggestion .cat-wrapper{color:#a9a9a9;cursor:default}#__mobileAssociatesSearchWidget_adunit_0.__mobile-associates-search-widget .__ma-sw-autcomplete .__ma-sw-suggestion:last-child{border-radius:0 0 4px 4px}#__mobileAssociatesSearchWidget_adunit_0.__mobile-associates-search-widget .__ma-sw-autcomplete .__ma-sw-suggestion.selected{background:#eee;border:0}</style> <div class=\"__mobile-associates-search-widget\" id=\"__mobileAssociatesSearchWidget_adunit_0\"> <div class=\"__ma-sw-category-selection\" style=\"display: none;\"> <ul class=\"__ma-sw-category-items\"> <li class=\"current\" data-index=\"0\" data-search=\"All\" data-value=\"aps\">Amazon.in</li><li data-index=\"1\" data-search=\"Apparel\" data-value=\"apparel\">Apparel &amp; Accessories</li><li data-index=\"2\" data-search=\"Baby\" data-value=\"baby\">Baby Products</li><li data-index=\"3\" data-search=\"Books\" data-value=\"stripbooks\">Books</li><li data-index=\"4\" data-search=\"PCHardware\" data-value=\"computers\">Computers</li><li data-index=\"5\" data-search=\"DVD\" data-value=\"dvd\">Blu-Ray &amp; DVD</li><li data-index=\"6\" data-search=\"Electronics\" data-value=\"electronics\">Electronics</li><li data-index=\"7\" data-search=\"HealthPersonalCare\" data-value=\"hpc\">Health, Household &amp; Personal Care</li><li data-index=\"8\" data-search=\"Jewelry\" data-value=\"jewelry\">Jewelry</li><li data-index=\"9\" data-search=\"Luggage\" data-value=\"popular\">Luggage</li><li data-index=\"10\" data-search=\"Music\" data-value=\"popular\">CDs &amp; Vinyl</li><li data-index=\"11\" data-search=\"PetSupplies\" data-value=\"pets\">Pet Supplies</li><li data-index=\"12\" data-search=\"HomeGarden\" data-value=\"kitchen\">Kitchen &amp; Dining</li><li data-index=\"13\" data-search=\"Shoes\" data-value=\"shoes\">Shoes</li><li data-index=\"14\" data-search=\"SportingGoods\" data-value=\"sporting\">Sports &amp; Fitness</li><li data-index=\"15\" data-search=\"Toys\" data-value=\"toys\">Toys &amp; Games</li><li data-index=\"16\" data-search=\"VideoGames\" data-value=\"videogames\">Video Games</li><li data-index=\"17\" data-search=\"Watches\" data-value=\"watches\">Watches</li></ul> </div> <div class=\"__ma-sw-suggestion-wrapper\"> <div style=\"padding: 0 15px; width:auto; border: none\"> <div class=\"__ma-sw-autcomplete\" style=\"display: none;\"> </div> </div> </div> <div style=\"display: none;\"> <form class=\"__ma-sw-search-form\"> <select class=\"__ma-sw-search-category\"><option selected=\"\" value=\"aps\">Amazon.in</option> <option value=\"apparel\">Apparel &amp; Accessories</option> <option value=\"baby\">Baby Products</option> <option value=\"stripbooks\">Books</option> <option value=\"computers\">Computers</option> <option value=\"dvd\">Blu-Ray &amp; DVD</option> <option value=\"electronics\">Electronics</option> <option value=\"hpc\">Health, Household &amp; Personal Care</option> <option value=\"jewelry\">Jewelry</option> <option value=\"popular\">Luggage</option> <option value=\"popular\">CDs &amp; Vinyl</option> <option value=\"pets\">Pet Supplies</option> <option value=\"kitchen\">Kitchen &amp; Dining</option> <option value=\"shoes\">Shoes</option> <option value=\"sporting\">Sports &amp; Fitness</option> <option value=\"toys\">Toys &amp; Games</option> <option value=\"videogames\">Video Games</option> <option value=\"watches\">Watches</option></select> <select class=\"__ma-sw-search-term\" name=\"select2\"><option value=\"All\">Amazon.in</option><option value=\"Apparel\">Apparel &amp; Accessories</option><option value=\"Baby\">Baby Products</option><option value=\"Books\">Books</option><option value=\"PCHardware\">Computers</option><option value=\"DVD\">Blu-Ray &amp; DVD</option><option value=\"Electronics\">Electronics</option><option value=\"HealthPersonalCare\">Health, Household &amp; Personal Care</option><option value=\"Jewelry\">Jewelry</option><option value=\"Luggage\">Luggage</option><option value=\"Music\">CDs &amp; Vinyl</option><option value=\"PetSupplies\">Pet Supplies</option><option value=\"HomeGarden\">Kitchen &amp; Dining</option><option value=\"Shoes\">Shoes</option><option value=\"SportingGoods\">Sports &amp; Fitness</option><option value=\"Toys\">Toys &amp; Games</option><option value=\"VideoGames\">Video Games</option><option value=\"Watches\">Watches</option></select> </form> </div> <iframe height=\"254px\" src=\"https://ws-in.amazon-adsystem.com/widgets/q?ServiceVersion=20070822&amp;MarketPlace=IN&amp;Operation=GetWidgetFrame&amp;OneJS=1&amp;ad_type=responsive_search_widget&amp;region=IN&amp;marketplace=amazon&amp;tracking_id=s057a-21&amp;auto_complete=true&amp;org_reco_count=0&amp;axf_treatment=&amp;search_type=search_widget&amp;linkid=&amp;width=555&amp;height=252&amp;default_search_category=&amp;default_search_key=again&amp;widgetId=__mobileAssociatesSearchWidget_adunit_0&amp;default_category_html=&amp;default_category_value=&amp;default_category_search=&amp;isresponsive=true&amp;theme=light&amp;bg_color=FFFFFF&amp;slotNum=0&amp;debug=&amp;viewerCountry=IN\" style=\"border: none;\" width=\"100%\"></iframe></div></div></div></div><div class=\"col-lg-4 col-md-3\" style=\"height: auto !important;\"><h2 class=\"ehr\">SHABDKOSH Apps</h2><div class=\"border-bottom border-top p-1 clearfix d-flex align-items-center\"><svg height=\"2.4em\" id=\"Layer_1\" viewbox=\"-29.45 0 466.9 466.9\" width=\"2.4em\" xmlns=\"http://www.w3.org/2000/svg\"><style>.st0{fill:url(#SVGID_1_)}.st1{fill:url(#SVGID_2_)}.st2{fill:url(#SVGID_3_)}.st3{fill:url(#SVGID_4_)}</style><lineargradient gradientunits=\"userSpaceOnUse\" id=\"SVGID_1_\" x2=\"261.746\" y1=\"112.094\" y2=\"112.094\"><stop offset=\"0\" stop-color=\"#63be6b\"></stop><stop offset=\".506\" stop-color=\"#5bbc6a\"></stop><stop offset=\"1\" stop-color=\"#4ab96a\"></stop></lineargradient><path class=\"st0\" d=\"M261.7 142.3L15 1.3C11.9-.5 8-.4 5 1.4c-3.1 1.8-5 5-5 8.6 0 0 .1 13 .2 34.4l179.7 179.7 81.8-81.8z\"></path><lineargradient gradientunits=\"userSpaceOnUse\" id=\"SVGID_2_\" x1=\".152\" x2=\"179.896\" y1=\"223.393\" y2=\"223.393\"><stop offset=\"0\" stop-color=\"#3ec6f2\"></stop><stop offset=\"1\" stop-color=\"#45afe3\"></stop></lineargradient><path class=\"st1\" d=\"M.2 44.4C.5 121.6 1.4 309 1.8 402.3L180 224.1.2 44.4z\"></path><lineargradient gradientunits=\"userSpaceOnUse\" id=\"SVGID_3_\" x1=\"179.896\" x2=\"407.976\" y1=\"229.464\" y2=\"229.464\"><stop offset=\"0\" stop-color=\"#faa51a\"></stop><stop offset=\".387\" stop-color=\"#fab716\"></stop><stop offset=\".741\" stop-color=\"#fac412\"></stop><stop offset=\"1\" stop-color=\"#fac80f\"></stop></lineargradient><path class=\"st2\" d=\"M402.9 223l-141.2-80.7-81.9 81.8 92.4 92.4L403 240.3c3.1-1.8 5-5.1 5-8.6 0-3.6-2-6.9-5.1-8.7z\"></path><lineargradient gradientunits=\"userSpaceOnUse\" id=\"SVGID_4_\" x1=\"1.744\" x2=\"272.296\" y1=\"345.521\" y2=\"345.521\"><stop offset=\"0\" stop-color=\"#ec3b50\"></stop><stop offset=\"1\" stop-color=\"#e7515b\"></stop></lineargradient><path class=\"st3\" d=\"M1.7 402.3c.2 33.3.3 54.6.3 54.6 0 3.6 1.9 6.9 5 8.6 3.1 1.8 6.9 1.8 10 0l255.3-148.9-92.4-92.4L1.7 402.3z\"></path></svg><div class=\"ps-3\"><a href=\"//play.google.com/store/apps/details?id=com.shabdkosh.android&amp;referrer=utm_source%3Dsite%26utm_medium%3Dapplnk%26utm_term%3Ddhome\">English Sanskrit Dictionary for Android</a></div></div><div class=\"border-bottom p-1 clearfix d-flex align-items-center\"><svg class=\"icon icon-appleinc me-3 float-start\" style=\"height:2em;width:2em;\"><use xlink:href=\"#icon-appleinc\"></use></svg><div class=\"\"><a href=\"//apps.apple.com/app/id863035886\">English Sanskrit Dictionary for iOS</a></div></div><div class=\"border rounded mt-3 bg-light py-1\">\n",
       "<div class=\"pt-1 d-flex justify-content-center\">\n",
       "<img alt=\"SHABDKOSH Logo\" loading=\"lazy\" src=\"//www.shabdkosh.net/images/sk_icon_256_t.png\" style=\"height:52px;width:52px;\"/>\n",
       "<span class=\"d-flex align-items-center\" style=\"font-size: 24px; font-weight: 600;\"><span class=\"text-uppercase\">Shabdkosh </span> Premium</span>\n",
       "</div>\n",
       "<p class=\"text-center lead fs-5\">Ad-free experience &amp; much more</p>\n",
       "<div class=\"d-flex justify-content-center my-2\"><a class=\"btn btn-outline-primary btn\" href=\"/payments\"><svg class=\"bi bi-gem me-2\" fill=\"Gold\" height=\"24\" viewbox=\"0 0 16 16\" width=\"24\" xmlns=\"http://www.w3.org/2000/svg\">\n",
       "<path d=\"M3.1.7a.5.5 0 0 1 .4-.2h9a.5.5 0 0 1 .4.2l2.976 3.974c.149.185.156.45.01.644L8.4 15.3a.5.5 0 0 1-.8 0L.1 5.3a.5.5 0 0 1 0-.6l3-4zm11.386 3.785-1.806-2.41-.776 2.413 2.582-.003zm-3.633.004.961-2.989H4.186l.963 2.995 5.704-.006zM5.47 5.495 8 13.366l2.532-7.876-5.062.005zm-1.371-.999-.78-2.422-1.818 2.425 2.598-.003zM1.499 5.5l5.113 6.817-2.192-6.82L1.5 5.5zm7.889 6.817 5.123-6.83-2.928.002-2.195 6.828z\"></path>\n",
       "</svg>Subscribe Now</a>\n",
       "</div>\n",
       "</div><div class=\"google-auto-placed\" style=\"width: 100%; height: auto; clear: both; text-align: center;\"><ins class=\"adsbygoogle adsbygoogle-noablate\" data-ad-client=\"ca-pub-2804136533585134\" data-ad-format=\"auto\" data-ad-status=\"unfilled\" data-adsbygoogle-status=\"done\" style=\"display: block; margin: 10px auto; background-color: transparent; height: 0px;\"><ins aria-label=\"Advertisement\" id=\"aswift_4_expand\" style=\"border: none; height: 0px; width: 171px; margin: 0px; padding: 0px; position: relative; visibility: visible; background-color: transparent; display: inline-table;\" tabindex=\"0\" title=\"Advertisement\"><ins id=\"aswift_4_anchor\" style=\"border: none; height: 0px; width: 171px; margin: 0px; padding: 0px; position: relative; visibility: visible; background-color: transparent; display: block; overflow: hidden; opacity: 0;\"><iframe allow=\"attribution-reporting\" allowfullscreen=\"true\" allowtransparency=\"true\" data-google-container-id=\"a!5\" data-google-query-id=\"CIma873t_PQCFVcHcgodTlgM-Q\" data-load-complete=\"true\" frameborder=\"0\" height=\"0\" hspace=\"0\" id=\"aswift_4\" marginheight=\"0\" marginwidth=\"0\" name=\"aswift_4\" sandbox=\"allow-forms allow-popups allow-popups-to-escape-sandbox allow-same-origin allow-scripts allow-top-navigation-by-user-activation\" scrolling=\"no\" src=\"https://googleads.g.doubleclick.net/pagead/ads?gdpr=0&amp;client=ca-pub-2804136533585134&amp;output=html&amp;h=600&amp;adk=3698334102&amp;adf=1845566653&amp;pi=t.aa~a.1422118204~rp.4&amp;w=171&amp;fwrn=4&amp;fwrnh=100&amp;lmt=1640363297&amp;rafmt=1&amp;to=qs&amp;pwprc=2117107507&amp;psa=1&amp;format=171x600&amp;url=https%3A%2F%2Fwww.shabdkosh.com%2Fsearch-dictionary%3Flc%3Dsa%26sl%3Den%26tl%3Dsa%26e%3Dagain&amp;flash=0&amp;fwr=0&amp;pra=3&amp;rpe=1&amp;resp_fmts=4&amp;wgl=1&amp;fa=40&amp;uach=WyIiLCIiLCIiLCIiLCIiLFtdLG51bGwsbnVsbCwiIl0.&amp;dt=1640363297865&amp;bpp=3&amp;bdt=897&amp;idt=-M&amp;shv=r20211207&amp;mjsv=m202112060101&amp;ptt=9&amp;saldr=aa&amp;abxe=1&amp;cookie=ID%3D686e932df5163ce7-2236bb5986cf0066%3AT%3D1640363294%3AS%3DALNI_MYRLyy2ZqqRSgXlIdrFtb9rwYS4vw&amp;prev_fmts=560x100%2C0x0%2C560x100%2C182x280&amp;nras=2&amp;correlator=6564073985598&amp;frm=20&amp;pv=1&amp;ga_vid=1142453384.1640363293&amp;ga_sid=1640363297&amp;ga_hid=1392668344&amp;ga_fc=1&amp;u_tz=330&amp;u_his=3&amp;u_h=600&amp;u_w=800&amp;u_ah=600&amp;u_aw=800&amp;u_cd=24&amp;dmc=8&amp;adx=596&amp;ady=610&amp;biw=779&amp;bih=579&amp;scr_x=0&amp;scr_y=0&amp;eid=31063825&amp;oid=2&amp;pvsid=3587301692309787&amp;pem=297&amp;tmod=453&amp;ref=https%3A%2F%2Fwww.shabdkosh.com%2Fdictionary%2Fenglish-sanskrit%2F&amp;eae=0&amp;fc=896&amp;brdim=0%2C0%2C0%2C0%2C800%2C0%2C800%2C600%2C800%2C600&amp;vis=1&amp;rsz=%7C%7Cs%7C&amp;abl=NS&amp;fu=1152&amp;bc=31&amp;ifi=5&amp;uci=a!5&amp;btvi=3&amp;fsb=1&amp;xpc=EAXyYabqtO&amp;p=https%3A//www.shabdkosh.com&amp;dtd=65\" style=\"left: 0px; position: absolute; top: 0px; border: 0px; width: 171px; height: 0px;\" vspace=\"0\" width=\"171\"></iframe></ins></ins></ins></div>\n",
       "<div class=\"adbox pt-2\"><h2>Sponsored Links</h2><script async=\"\" src=\"//pagead2.googlesyndication.com/pagead/js/adsbygoogle.js\"></script><!-- ad_dict_336x280 --><ins class=\"adsbygoogle\" data-ad-client=\"ca-pub-2804136533585134\" data-ad-slot=\"6311602001\" data-ad-status=\"unfilled\" data-adsbygoogle-status=\"done\" style=\"display: inline-block; width: 182px; height: 0px;\"><ins aria-label=\"Advertisement\" id=\"aswift_2_expand\" style=\"border: none; height: 0px; width: 182px; margin: 0px; padding: 0px; position: relative; visibility: visible; background-color: transparent; display: inline-table;\" tabindex=\"0\" title=\"Advertisement\"><ins id=\"aswift_2_anchor\" style=\"border: none; height: 0px; width: 182px; margin: 0px; padding: 0px; position: relative; visibility: visible; background-color: transparent; display: block; overflow: hidden; opacity: 0;\"><iframe allow=\"attribution-reporting\" allowfullscreen=\"true\" allowtransparency=\"true\" data-google-container-id=\"a!3\" data-google-query-id=\"CI6uxr3t_PQCFZAecgod3msB-g\" data-load-complete=\"true\" frameborder=\"0\" height=\"0\" hspace=\"0\" id=\"aswift_2\" marginheight=\"0\" marginwidth=\"0\" name=\"aswift_2\" sandbox=\"allow-forms allow-popups allow-popups-to-escape-sandbox allow-same-origin allow-scripts allow-top-navigation-by-user-activation\" scrolling=\"no\" src=\"https://googleads.g.doubleclick.net/pagead/ads?client=ca-pub-2804136533585134&amp;output=html&amp;h=280&amp;twa=1&amp;slotname=6311602001&amp;adk=2095979207&amp;adf=1845566653&amp;pi=t.ma~as.6311602001&amp;w=182&amp;fwrn=4&amp;fwrnh=100&amp;lmt=1640363297&amp;psa=0&amp;format=182x280&amp;url=https%3A%2F%2Fwww.shabdkosh.com%2Fsearch-dictionary%3Flc%3Dsa%26sl%3Den%26tl%3Dsa%26e%3Dagain&amp;flash=0&amp;fwr=0&amp;rh=280&amp;rw=182&amp;wgl=1&amp;uach=WyIiLCIiLCIiLCIiLCIiLFtdLG51bGwsbnVsbCwiIl0.&amp;dt=1640363297084&amp;bpp=2&amp;bdt=115&amp;idt=105&amp;shv=r20211207&amp;mjsv=m202112060101&amp;ptt=9&amp;saldr=aa&amp;abxe=1&amp;cookie=ID%3D686e932df5163ce7-2236bb5986cf0066%3AT%3D1640363294%3AS%3DALNI_MYRLyy2ZqqRSgXlIdrFtb9rwYS4vw&amp;prev_fmts=560x100%2C0x0%2C560x100&amp;nras=1&amp;correlator=6564073985598&amp;frm=20&amp;pv=1&amp;ga_vid=1142453384.1640363293&amp;ga_sid=1640363297&amp;ga_hid=1392668344&amp;ga_fc=1&amp;u_tz=330&amp;u_his=3&amp;u_h=600&amp;u_w=800&amp;u_ah=600&amp;u_aw=800&amp;u_cd=24&amp;dmc=8&amp;adx=596&amp;ady=644&amp;biw=779&amp;bih=579&amp;scr_x=0&amp;scr_y=0&amp;eid=31063825&amp;oid=2&amp;pvsid=3587301692309787&amp;pem=297&amp;tmod=453&amp;ref=https%3A%2F%2Fwww.shabdkosh.com%2Fdictionary%2Fenglish-sanskrit%2F&amp;eae=0&amp;fc=896&amp;brdim=0%2C0%2C0%2C0%2C800%2C0%2C800%2C600%2C800%2C600&amp;vis=1&amp;rsz=%7C%7CeEbr%7C&amp;abl=CS&amp;pfx=0&amp;fu=1024&amp;bc=31&amp;ifi=3&amp;uci=a!3&amp;btvi=2&amp;fsb=1&amp;xpc=QEBU4NDlK7&amp;p=https%3A//www.shabdkosh.com&amp;dtd=110\" style=\"left: 0px; position: absolute; top: 0px; border: 0px; width: 182px; height: 0px;\" vspace=\"0\" width=\"182\"></iframe></ins></ins></ins><script>(adsbygoogle = window.adsbygoogle || []).push({});</script></div><div class=\"skhistory\"><h2 class=\"ehr skhistory\">Recent Search History</h2><div class=\"skhistory\" edit=\"0\" id=\"recent\"></div><a class=\"skhistory\" href=\"/search-history/english-sanskrit\">See and manage history</a><h2 class=\"pt-5\">Articles</h2>\n",
       "<div class=\"col-lg-12\">\n",
       "<div class=\"row g-0 overflow-hidden flex-md-row mb-1 h-md-250 position-relative\">\n",
       "<div class=\"col p-0 d-flex flex-column\">\n",
       "<div class=\"my-2\" style=\"font-size:small;\">14 Sep 2021</div>\n",
       "<a href=\"/topic/important-words-and-phrases-in-marathi-for-beginners\">\n",
       "<h3 class=\"entry title\">Important words and phrases in Marathi (For beginners)</h3>\n",
       "</a>\n",
       "<!-- <div class=\"p-3\"> -->\n",
       "<p style=\"text-align: justify;\">\n",
       "<img class=\"w-40 mt-1 me-2 float-start rounded\" src=\"//www.shabdkosh.net/images/cover/_sm/370886-PBCQU0-801.jpg\"/>\n",
       "        \n",
       "        Learning a new language can be difficult. But with constant practice and learning it can be easy. Starting to talk in the language you are trying to learn needs a lot of courage and support. Learn these phrases and words and use them in your everyday…\n",
       "        <a class=\"btn btn-outline-primary rounded-pill btn-sm me-2 mb-2\" href=\"/topic/important-words-and-phrases-in-marathi-for-beginners\">Read more\n",
       "        <svg class=\"bi bi-chevron-double-right\" fill=\"currentColor\" height=\"14\" viewbox=\"0 0 16 16\" width=\"14\" xmlns=\"http://www.w3.org/2000/svg\">\n",
       "<path d=\"M3.646 1.646a.5.5 0 0 1 .708 0l6 6a.5.5 0 0 1 0 .708l-6 6a.5.5 0 0 1-.708-.708L9.293 8 3.646 2.354a.5.5 0 0 1 0-.708z\" fill-rule=\"evenodd\"></path>\n",
       "<path d=\"M7.646 1.646a.5.5 0 0 1 .708 0l6 6a.5.5 0 0 1 0 .708l-6 6a.5.5 0 0 1-.708-.708L13.293 8 7.646 2.354a.5.5 0 0 1 0-.708z\" fill-rule=\"evenodd\"></path>\n",
       "</svg></a></p>\n",
       "<!-- </div> -->\n",
       "</div>\n",
       "</div>\n",
       "</div><div class=\"col-lg-12\">\n",
       "<div class=\"row g-0 overflow-hidden flex-md-row mb-1 h-md-250 position-relative\">\n",
       "<div class=\"col p-0 d-flex flex-column\">\n",
       "<div class=\"my-2\" style=\"font-size:small;\">31 Aug 2021</div>\n",
       "<a href=\"/topic/tips-to-improve-your-spellings\">\n",
       "<h3 class=\"entry title\">Tips to improve your spellings</h3>\n",
       "</a>\n",
       "<!-- <div class=\"p-3\"> -->\n",
       "<p style=\"text-align: justify;\">\n",
       "<img class=\"w-40 mt-1 me-2 float-start rounded\" src=\"//www.shabdkosh.net/images/cover/_sm/23959.jpg\"/>\n",
       "        \n",
       "        Writing in English is as important as speaking. To learn to write correctly might seem like a difficult task. There are always some tips that you need to master while you learn a new language. Read the article below to know a few tips while learning…\n",
       "        <a class=\"btn btn-outline-primary rounded-pill btn-sm me-2 mb-2\" href=\"/topic/tips-to-improve-your-spellings\">Read more\n",
       "        <svg class=\"bi bi-chevron-double-right\" fill=\"currentColor\" height=\"14\" viewbox=\"0 0 16 16\" width=\"14\" xmlns=\"http://www.w3.org/2000/svg\">\n",
       "<path d=\"M3.646 1.646a.5.5 0 0 1 .708 0l6 6a.5.5 0 0 1 0 .708l-6 6a.5.5 0 0 1-.708-.708L9.293 8 3.646 2.354a.5.5 0 0 1 0-.708z\" fill-rule=\"evenodd\"></path>\n",
       "<path d=\"M7.646 1.646a.5.5 0 0 1 .708 0l6 6a.5.5 0 0 1 0 .708l-6 6a.5.5 0 0 1-.708-.708L13.293 8 7.646 2.354a.5.5 0 0 1 0-.708z\" fill-rule=\"evenodd\"></path>\n",
       "</svg></a></p>\n",
       "<!-- </div> -->\n",
       "</div>\n",
       "</div>\n",
       "</div><div class=\"col-lg-12\">\n",
       "<div class=\"row g-0 overflow-hidden flex-md-row mb-1 h-md-250 position-relative\">\n",
       "<div class=\"col p-0 d-flex flex-column\">\n",
       "<div class=\"my-2\" style=\"font-size:small;\">24 Aug 2021</div>\n",
       "<a href=\"/topic/active-voice-and-passive-voice\">\n",
       "<h3 class=\"entry title\">Active Voice and Passive Voice</h3>\n",
       "</a>\n",
       "<!-- <div class=\"p-3\"> -->\n",
       "<p style=\"text-align: justify;\">\n",
       "<img class=\"w-40 mt-1 me-2 float-start rounded\" src=\"//www.shabdkosh.net/images/cover/_sm/passive_income_2-02.jpg\"/>\n",
       "        \n",
       "        This article will help you understand the difference between active and passive voice and make your written and spoken skills of language better. \n",
       "        <a class=\"btn btn-outline-primary rounded-pill btn-sm me-2 mb-2\" href=\"/topic/active-voice-and-passive-voice\">Read more\n",
       "        <svg class=\"bi bi-chevron-double-right\" fill=\"currentColor\" height=\"14\" viewbox=\"0 0 16 16\" width=\"14\" xmlns=\"http://www.w3.org/2000/svg\">\n",
       "<path d=\"M3.646 1.646a.5.5 0 0 1 .708 0l6 6a.5.5 0 0 1 0 .708l-6 6a.5.5 0 0 1-.708-.708L9.293 8 3.646 2.354a.5.5 0 0 1 0-.708z\" fill-rule=\"evenodd\"></path>\n",
       "<path d=\"M7.646 1.646a.5.5 0 0 1 .708 0l6 6a.5.5 0 0 1 0 .708l-6 6a.5.5 0 0 1-.708-.708L13.293 8 7.646 2.354a.5.5 0 0 1 0-.708z\" fill-rule=\"evenodd\"></path>\n",
       "</svg></a></p>\n",
       "<!-- </div> -->\n",
       "</div>\n",
       "</div>\n",
       "</div>\n",
       "<a class=\"d-flex btn btn-primary justify-content-center align-items-center\" href=\"/topic\">\n",
       "Read more articles\n",
       "<svg class=\"bi bi-chevron-double-right\" fill=\"currentColor\" height=\"16\" viewbox=\"0 0 16 16\" width=\"16\" xmlns=\"http://www.w3.org/2000/svg\">\n",
       "<path d=\"M3.646 1.646a.5.5 0 0 1 .708 0l6 6a.5.5 0 0 1 0 .708l-6 6a.5.5 0 0 1-.708-.708L9.293 8 3.646 2.354a.5.5 0 0 1 0-.708z\" fill-rule=\"evenodd\"></path>\n",
       "<path d=\"M7.646 1.646a.5.5 0 0 1 .708 0l6 6a.5.5 0 0 1 0 .708l-6 6a.5.5 0 0 1-.708-.708L13.293 8 7.646 2.354a.5.5 0 0 1 0-.708z\" fill-rule=\"evenodd\"></path>\n",
       "</svg></a>\n",
       "</div></div></div><hr/><h3>English to Sanskrit Dictionary: again</h3><p style=\"font-size:0.9em;\">Meaning and definitions of again, translation of again in Sanskrit language with similar and opposite words. Spoken pronunciation of again in English and in Sanskrit. </p><h3>Tags for the entry \"again\"</h3><p style=\"font-size:0.9em;\">What again means in Sanskrit, again meaning in Sanskrit, again definition, explanation, pronunciations and examples of again in Sanskrit.</p><p class=\"tag\"><strong>Also see: </strong><a href=\"/dictionary/english-hindi/again/again-meaning-in-hindi\">again in Hindi</a></p></div>\n",
       "<audio id=\"au0\"></audio>\n",
       "<audio id=\"au1\"></audio>\n",
       "<div id=\"audio\"></div>\n",
       "<div class=\"modal fade\" id=\"list-modal\" role=\"dialog\" src=\"\" tabindex=\"-1\">\n",
       "<div class=\"modal-dialog\">\n",
       "<div class=\"modal-content\">\n",
       "<div class=\"modal-header\">\n",
       "<h4 class=\"title modal-title\">Vocabulary Lists</h4>\n",
       "<button aria-label=\"Close\" class=\"btn-close\" data-bs-dismiss=\"modal\" type=\"button\"></button>\n",
       "</div>\n",
       "<div class=\"modal-body\">\n",
       "<p>We provide a facility to save words in lists.</p>\n",
       "<div class=\"py-1\">\n",
       "<h6>Basic Word Lists</h6>\n",
       "<button class=\"btn btn-outline-primary mb-1\" type=\"button\"><svg class=\"icon icon-heart me-1\"><use xlink:href=\"#icon-heart\"></use></svg>Favourite Words</button>\n",
       "<button class=\"btn btn-outline-primary mb-1\" type=\"button\"><svg class=\"icon icon-history me-1\"><use xlink:href=\"#icon-history\"></use></svg>Recent Searches</button>\n",
       "</div>\n",
       "<div class=\"py-1\">\n",
       "<h6>Custom Word Lists</h6>\n",
       "<p>You can create your own lists to words based on topics.</p>\n",
       "<button class=\"btn btn-outline-primary mb-1\" id=\"listmaker-open\" type=\"button\"><svg class=\"icon icon-collection me-1\"><use xlink:href=\"#icon-collection\"></use></svg>Create a new list</button>\n",
       "</div>\n",
       "<div class=\"py-1\">\n",
       "<h6>Login/Register</h6>\n",
       "<p>To manage lists, a member account is necessary.</p>\n",
       "<div class=\"row\">\n",
       "<div class=\"col-auto border rounded border-1 p-2 my-2\">\n",
       "<h3>Social Sign-in</h3>\n",
       "<a class=\"form-button form-button-oauth-google\" href=\"/login?idp=Google&amp;ret=/forums\"><img height=\"46\" loading=\"lazy\" src=\"//www.shabdkosh.net/images/btn_gsign.png\" width=\"191\"/></a>\n",
       "</div>\n",
       "<div class=\"col-auto login-form border rounded border-1 p-2 my-2 g-1\">\n",
       "<h3>Member Account.</h3>\n",
       "<form action=\"https://www.shabdkosh.com/\" class=\"row gx-1\" method=\"post\">\n",
       "<div class=\"hiddenFields\">\n",
       "<input name=\"ACT\" type=\"hidden\" value=\"9\"/>\n",
       "<input name=\"RET\" type=\"hidden\" value=\"https://www.shabdkosh.com/search-dictionary?lc=sa&amp;sl=en&amp;tl=sa&amp;e=again\"/>\n",
       "<input name=\"site_id\" type=\"hidden\" value=\"1\"/>\n",
       "<input name=\"csrf_token\" type=\"hidden\" value=\"f4228f8e263a551a826579d363e07d57ffeafe85\"/>\n",
       "</div>\n",
       "<div class=\"col\">\n",
       "<label class=\"visually-hidden\" for=\"username\">Email</label>\n",
       "<input class=\"form-control\" maxlength=\"64\" name=\"username\" placeholder=\"Username\" size=\"16\" type=\"text\" value=\"\"/>\n",
       "</div>\n",
       "<div class=\"col\">\n",
       "<label class=\"visually-hidden\" for=\"password\">Password</label>\n",
       "<input class=\"form-control\" maxlength=\"64\" name=\"password\" placeholder=\"Password\" size=\"16\" type=\"password\" value=\"\"/>\n",
       "</div>\n",
       "<div class=\"col\">\n",
       "<button class=\"btn btn-primary mb-3\" type=\"submit\">Login</button>\n",
       "</div>\n",
       "<div>\n",
       "<input checked=\"checked\" class=\"form-check-input ms-1\" name=\"auto_login\" type=\"checkbox\" value=\"1\"/>\n",
       "<label class=\"form-check-label ms-1 me-2\" for=\"autoSizingCheck2\">Remember Me</label>\n",
       "<a class=\"fst-italic fw-light\" href=\"https://www.shabdkosh.com/forums/member/forgot_password\">Forgot password?</a> \n",
       "      <a class=\"fst-italic fw-light\" href=\"https://www.shabdkosh.com/forums/member/register\">New user?</a>\n",
       "</div>\n",
       "</form>\n",
       "</div>\n",
       "</div>\n",
       "</div>\n",
       "</div>\n",
       "</div>\n",
       "</div>\n",
       "</div>\n",
       "</div>\n",
       "<div aria-hidden=\"true\" aria-labelledby=\"exampleModalLabel\" class=\"modal fade\" data-bs-keyboard=\"true\" id=\"premium-login-modal\" tabindex=\"-1\">\n",
       "<div class=\"modal-dialog modal-dialog-centered modal-lg\">\n",
       "<div class=\"modal-content\">\n",
       "<div class=\"row\">\n",
       "<button aria-label=\"Close\" class=\"btn-close\" data-bs-dismiss=\"modal\" style=\"position: absolute; top: 5px; right: 5px;\" type=\"button\"></button>\n",
       "<div class=\"col-lg-6 col-md-6 col-sm-12\">\n",
       "<div class=\"mt-2 py-1 d-flex justify-content-center\">\n",
       "<img alt=\"SHABDKOSH Logo\" loading=\"lazy\" src=\"//www.shabdkosh.net/images/sk_icon.png\" style=\"height:92px;width:92px;\"/>\n",
       "</div>\n",
       "<h1 class=\"text-center lead\" style=\"font-size: 30px; font-weight: 600;\"><span class=\"text-uppercase\">Shabdkosh</span> Premium</h1>\n",
       "<br/>\n",
       "<h3 class=\"text-center lead\">This is a Premium feature.</h3>\n",
       "<!-- <p class=\"fst-italic text-center text-primary lead\" style=\"font-size: 16px; font-weight: 400;\">@ &#8377; 75\n",
       "            for 3 months</p> -->\n",
       "<div class=\"d-flex justify-content-center my-3\"><a class=\"btn btn-outline-primary btn-lg\" href=\"/payments\"><svg class=\"bi bi-gem me-2\" fill=\"Gold\" height=\"32\" viewbox=\"0 0 16 16\" width=\"32\" xmlns=\"http://www.w3.org/2000/svg\">\n",
       "<path d=\"M3.1.7a.5.5 0 0 1 .4-.2h9a.5.5 0 0 1 .4.2l2.976 3.974c.149.185.156.45.01.644L8.4 15.3a.5.5 0 0 1-.8 0L.1 5.3a.5.5 0 0 1 0-.6l3-4zm11.386 3.785-1.806-2.41-.776 2.413 2.582-.003zm-3.633.004.961-2.989H4.186l.963 2.995 5.704-.006zM5.47 5.495 8 13.366l2.532-7.876-5.062.005zm-1.371-.999-.78-2.422-1.818 2.425 2.598-.003zM1.499 5.5l5.113 6.817-2.192-6.82L1.5 5.5zm7.889 6.817 5.123-6.83-2.928.002-2.195 6.828z\"></path>\n",
       "</svg>Subscribe Now</a></div>\n",
       "</div>\n",
       "<div class=\"col-lg-6 col-md-6 col-sm-12 order-lg-2\">\n",
       "<div class=\"p-2 bg-light\">\n",
       "<h2>Already a premium user</h2>\n",
       "<a class=\"form-button form-button-oauth-google\" href=\"/login?idp=Google&amp;ret=/forums\"><img height=\"46\" loading=\"lazy\" src=\"//www.shabdkosh.net/images/btn_gsign.png\" width=\"191\"/></a>\n",
       "<h3 class=\"mt-3\">Sign In</h3>\n",
       "<form action=\"https://www.shabdkosh.com/\" class=\"row gx-1\" method=\"post\">\n",
       "<div class=\"hiddenFields\">\n",
       "<input name=\"ACT\" type=\"hidden\" value=\"9\"/>\n",
       "<input name=\"RET\" type=\"hidden\" value=\"https://www.shabdkosh.com/search-dictionary?lc=sa&amp;sl=en&amp;tl=sa&amp;e=again\"/>\n",
       "<input name=\"site_id\" type=\"hidden\" value=\"1\"/>\n",
       "<input name=\"csrf_token\" type=\"hidden\" value=\"f4228f8e263a551a826579d363e07d57ffeafe85\"/>\n",
       "</div>\n",
       "<div class=\"mb-2\">\n",
       "<label class=\"visually-hidden\" for=\"username\">Email</label>\n",
       "<input class=\"form-control\" maxlength=\"64\" name=\"username\" placeholder=\"Username\" size=\"16\" type=\"text\" value=\"\"/>\n",
       "</div>\n",
       "<div class=\"mb-2\">\n",
       "<label class=\"visually-hidden\" for=\"password\">Password</label>\n",
       "<input class=\"form-control\" maxlength=\"64\" name=\"password\" placeholder=\"Password\" size=\"16\" type=\"password\" value=\"\"/>\n",
       "</div>\n",
       "<div>\n",
       "<input checked=\"checked\" class=\"form-check-input ms-1\" name=\"auto_login\" type=\"checkbox\" value=\"1\"/>\n",
       "<label class=\"form-check-label ms-1 me-2\" for=\"autoSizingCheck2\">Remember Me</label>\n",
       "<a class=\"fst-italic fw-light\" href=\"https://www.shabdkosh.com/forums/member/forgot_password\">Forgot\n",
       "                password?</a> \n",
       "              \n",
       "            </div>\n",
       "<div class=\"d-lg-flex mt-3 mb-1\">\n",
       "<button class=\"btn btn-primary px-4 me-3\" type=\"submit\">Login</button>\n",
       "<a class=\"btn btn-primary\" href=\"https://www.shabdkosh.com/forums/member/register\">New user?</a>\n",
       "</div>\n",
       "</form>\n",
       "</div>\n",
       "</div>\n",
       "</div>\n",
       "</div>\n",
       "</div>\n",
       "</div>\n",
       "<div aria-hidden=\"true\" aria-labelledby=\"staticBackdropLabel\" class=\"modal fade\" data-bs-backdrop=\"static\" data-bs-keyboard=\"true\" id=\"share-modal\" tabindex=\"-1\">\n",
       "<div class=\"modal-dialog\">\n",
       "<div class=\"modal-content\">\n",
       "<div class=\"modal-header\">\n",
       "<h5 class=\"modal-title\" id=\"staticBackdropLabel\">\n",
       "<svg class=\"ms-2 icon icon-md icon-share\" style=\"color:black;\">\n",
       "<use height=\"35\" width=\"25\" xlink:href=\"#icon-share3\"></use>\n",
       "</svg>Share with friends\n",
       "                </h5>\n",
       "<button aria-label=\"Close\" class=\"btn-close\" data-bs-dismiss=\"modal\" type=\"button\"></button>\n",
       "</div>\n",
       "<div class=\"modal-body\">\n",
       "<script>\n",
       "                    var myModalEl = document.getElementById('share-modal');\n",
       "                    myModalEl.addEventListener('shown.bs.modal', function (event) {\n",
       "                        var word_link = document.querySelector('link[rel=canonical]').href;\n",
       "                        document.getElementById(\"mytext\").value = word_link;\n",
       "                        console.log(word_link);\n",
       "                    })\n",
       "                    function share(e) {\n",
       "                        const link = document.querySelector('link[rel=canonical]').href;\n",
       "                        const final_link = e + link;\n",
       "                        console.log(final_link);\n",
       "                        window.open(final_link);\n",
       "                    }\n",
       "                    function copy() {\n",
       "                        var copyText = document.getElementById(\"mytext\");\n",
       "                        copyText.select();\n",
       "                        copyText.setSelectionRange(0, 99999);\n",
       "                        document.execCommand(\"copy\");\n",
       "                        document.getElementById(\"button-addon2\").innerHTML = \"Copied\";\n",
       "                    }\n",
       "                </script>\n",
       "<div class=\"d-flex justify-content-around\">\n",
       "<a class=\"d-lg-none d-md-block\" onclick=\"share('whatsapp://send?text=')\" title=\"Share on Whatsapp\"><svg class=\"ms-2 icon icon-md icon-whatsapp\" style=\"color:#43d854;\">\n",
       "<use xlink:href=\"#icon-whatsapp\"></use>\n",
       "</svg></a>\n",
       "<a class=\"d-none d-lg-block\" data-action=\"share/whatsapp/share\" onclick=\"share('https://web.whatsapp.com/send?text=')\" title=\"Share on Whatsapp\"><svg class=\"ms-2 icon icon-md icon-whatsapp\" style=\"color:#43d854;\">\n",
       "<use xlink:href=\"#icon-whatsapp\"></use>\n",
       "</svg></a>\n",
       "<a onclick=\"share('https://www.facebook.com/sharer/sharer.php?u=')\" title=\"Share on Facebook\"><svg class=\"ms-2 icon icon-md icon-facebook\" style=\"color:#3b5998;\">\n",
       "<use xlink:href=\"#icon-facebook\"></use>\n",
       "</svg></a>\n",
       "<a onclick=\"share('https://twitter.com/intent/tweet?url=')\" title=\"Share on Twitter\"><svg class=\"ms-2 icon icon-md icon-twitter\" style=\"color:#55acee;\">\n",
       "<use xlink:href=\"#icon-twitter\"></use>\n",
       "</svg></a>\n",
       "<a onclick=\"share('https://www.linkedin.com/shareArticle?mini=true&amp;url=')\" title=\"Share on LinkedIn\"><svg class=\"ms-2 icon icon-md icon-linkedin\" style=\"color:#0077b5;\">\n",
       "<use xlink:href=\"#icon-linkedin\"></use>\n",
       "</svg></a>\n",
       "<a onclick=\"share('mailto:info@example.com?&amp;subject=&amp;cc=&amp;bcc=&amp;body=')\" title=\"Share on Email\"><svg class=\"ms-2 icon icon-md icon-mail\" style=\"color:#cb4154;\">\n",
       "<use xlink:href=\"#icon-mail\"></use>\n",
       "</svg></a>\n",
       "</div>\n",
       "<hr/>\n",
       "<div class=\"input-group mb-3\">\n",
       "<input aria-describedby=\"button-addon2\" class=\"form-control\" id=\"mytext\" type=\"text\"/>\n",
       "<button class=\"btn btn-primary\" id=\"button-addon2\" onclick=\"copy()\" type=\"button\">Copy link</button>\n",
       "</div>\n",
       "</div>\n",
       "</div>\n",
       "</div>\n",
       "</div>\n",
       "<div aria-hidden=\"true\" class=\"modal\" id=\"add_synonyms\" tabindex=\"-1\">\n",
       "<div class=\"modal-dialog modal-dialog-scrollable\">\n",
       "<div class=\"modal-content\">\n",
       "<div class=\"modal-header\">\n",
       "<h5 class=\"modal-title\" id=\"staticBackdropLabel\">\n",
       "                    Assign Synonyms\n",
       "                    <a href=\"/help\" title=\"Help\"><svg class=\"bi bi-info-circle ms-2\" fill=\"currentColor\" height=\"16\" viewbox=\"0 0 16 16\" width=\"16\" xmlns=\"http://www.w3.org/2000/svg\">\n",
       "<path d=\"M8 15A7 7 0 1 1 8 1a7 7 0 0 1 0 14zm0 1A8 8 0 1 0 8 0a8 8 0 0 0 0 16z\"></path>\n",
       "<path d=\"m8.93 6.588-2.29.287-.082.38.45.083c.294.07.352.176.288.469l-.738 3.468c-.194.897.105 1.319.808 1.319.545 0 1.178-.252 1.465-.598l.088-.416c-.2.176-.492.246-.686.246-.275 0-.375-.193-.304-.533L8.93 6.588zM9 4.5a1 1 0 1 1-2 0 1 1 0 0 1 2 0z\"></path>\n",
       "</svg></a>\n",
       "</h5>\n",
       "<button aria-label=\"Close\" class=\"btn-close\" data-bs-dismiss=\"modal\" type=\"button\"></button>\n",
       "</div>\n",
       "<div class=\"modal-body\" id=\"modal-bodyid\">\n",
       "<input id=\"login-status\" type=\"hidden\" value=\"0\"/>\n",
       "<div>Please log in first to assign synonyms.</div>\n",
       "<div class=\"mx-3\"><div class=\"row\">\n",
       "<div class=\"col-auto border rounded border-1 p-2 my-2\">\n",
       "<h3>Social Sign-in</h3>\n",
       "<a class=\"form-button form-button-oauth-google\" href=\"/login?idp=Google&amp;ret=/forums\"><img height=\"46\" loading=\"lazy\" src=\"//www.shabdkosh.net/images/btn_gsign.png\" width=\"191\"/></a>\n",
       "</div>\n",
       "<div class=\"col-auto login-form border rounded border-1 p-2 my-2 g-1\">\n",
       "<h3>Member Account.</h3>\n",
       "<form action=\"https://www.shabdkosh.com/\" class=\"row gx-1\" method=\"post\">\n",
       "<div class=\"hiddenFields\">\n",
       "<input name=\"ACT\" type=\"hidden\" value=\"9\"/>\n",
       "<input name=\"RET\" type=\"hidden\" value=\"https://www.shabdkosh.com/search-dictionary?lc=sa&amp;sl=en&amp;tl=sa&amp;e=again\"/>\n",
       "<input name=\"site_id\" type=\"hidden\" value=\"1\"/>\n",
       "<input name=\"csrf_token\" type=\"hidden\" value=\"f4228f8e263a551a826579d363e07d57ffeafe85\"/>\n",
       "</div>\n",
       "<div class=\"col\">\n",
       "<label class=\"visually-hidden\" for=\"username\">Email</label>\n",
       "<input class=\"form-control\" maxlength=\"64\" name=\"username\" placeholder=\"Username\" size=\"16\" type=\"text\" value=\"\"/>\n",
       "</div>\n",
       "<div class=\"col\">\n",
       "<label class=\"visually-hidden\" for=\"password\">Password</label>\n",
       "<input class=\"form-control\" maxlength=\"64\" name=\"password\" placeholder=\"Password\" size=\"16\" type=\"password\" value=\"\"/>\n",
       "</div>\n",
       "<div class=\"col\">\n",
       "<button class=\"btn btn-primary mb-3\" type=\"submit\">Login</button>\n",
       "</div>\n",
       "<div>\n",
       "<input checked=\"checked\" class=\"form-check-input ms-1\" name=\"auto_login\" type=\"checkbox\" value=\"1\"/>\n",
       "<label class=\"form-check-label ms-1 me-2\" for=\"autoSizingCheck2\">Remember Me</label>\n",
       "<a class=\"fst-italic fw-light\" href=\"https://www.shabdkosh.com/forums/member/forgot_password\">Forgot password?</a> \n",
       "      <a class=\"fst-italic fw-light\" href=\"https://www.shabdkosh.com/forums/member/register\">New user?</a>\n",
       "</div>\n",
       "</form>\n",
       "</div>\n",
       "</div>\n",
       "</div>\n",
       "</div>\n",
       "<div class=\"d-none alert alert-success text-center p-0 mx-0 mb-1 text-center rounded-0\" id=\"esmsgsyn\" role=\"alert\"></div>\n",
       "<div class=\"d-none alert alert-warning text-center p-0 mx-0 mb-1 text-center rounded-0\" id=\"efmsgsyn\" role=\"alert\"></div>\n",
       "</div>\n",
       "</div>\n",
       "</div>\n",
       "<div aria-hidden=\"true\" aria-labelledby=\"staticBackdropLabel\" class=\"modal\" data-bs-keyboard=\"true\" id=\"translate\" tabindex=\"-1\">\n",
       "<div class=\"modal-dialog\">\n",
       "<div class=\"modal-content\">\n",
       "<div class=\"modal-header py-2\">\n",
       "<h5 class=\"modal-title\" id=\"staticBackdropLabel\">\n",
       "                    \n",
       "                    Translation\n",
       "                </h5>\n",
       "<button aria-label=\"Close\" class=\"btn-close\" data-bs-dismiss=\"modal\" type=\"button\"></button>\n",
       "</div>\n",
       "<div class=\"modal-body\">\n",
       "<div class=\"border rounded p-1 mb-3\" id=\"engtext\"></div>\n",
       "<textarea class=\"form-control\" id=\"output\" rows=\"3\"></textarea>\n",
       "<div class=\"text-muted\"><em><small>Note: Automatic translation by <a href=\"/utilities/translator\">SHABDKOSH translator</a>.</small></em></div>\n",
       "</div>\n",
       "<div class=\"d-none alert alert-success text-center p-0 mx-0 mb-1 text-center rounded-0\" id=\"esmsgtran\" role=\"alert\"></div>\n",
       "<div class=\"d-none alert alert-warning text-center p-0 mx-0 mb-1 text-center rounded-0\" id=\"efmsgtran\" role=\"alert\"></div>\n",
       "</div>\n",
       "</div>\n",
       "</div>\n",
       "<div id=\"snackbar\"></div>\n",
       "<div class=\"row py-2\">\n",
       "<div class=\"col-12\">\n",
       "<span><svg class=\"icon icon-circle-up\"><use xlink:href=\"#icon-circle-up\"></use></svg> <a href=\"#top\">Back to top</a></span>\n",
       "</div>\n",
       "</div>\n",
       "<!-- <div class=\"footer bg-secondary py-2 text-white\">\n",
       "<div class=\"container-lg\">\n",
       "  <div class=\"row\">\n",
       "    <div class=\"d-lg-flex d-md-flex flex-wrap fw-light\" style=\"font-size: 15px; line-height: 16px;\">\n",
       "      <li class=\"list-group-item blbn\"><a title=\"Bengali English Dictionary and Translator\" href=\"/dictionary/english-bengali/\">Bengali English Dictionary</a></li>\n",
       "<li class=\"list-group-item blgu\"><a title=\"Gujarati English Dictionary and Translator\" href=\"/dictionary/english-gujarati/\">Gujarati English Dictionary</a></li>\n",
       "<li class=\"list-group-item blhi\"><a title=\"Hindi English Dictionary and Translator\" href=\"/dictionary/english-hindi/\">Hindi English Dictionary</a></li>\n",
       "<li class=\"list-group-item blkn\"><a title=\"Kannada English Dictionary and Translator\" href=\"/dictionary/english-kannada/\">Kannada English Dictionary</a></li>\n",
       "<li class=\"list-group-item blkn\"><a title=\"Konkani English Dictionary and Translator\" href=\"/dictionary/english-konkani/\">Konkani English Dictionary</a></li>\n",
       "<li class=\"list-group-item blml\"><a title=\"English Malayalam Dictionary and Translator\" href=\"/dictionary/english-malayalam/\">Malayalam English Dictionary</a></li>\n",
       "<li class=\"list-group-item blmr\"><a title=\"Marathi English Dictionary and Translator\" href=\"/dictionary/english-marathi/\">Marathi English Dictionary</a></li>\n",
       "<li class=\"list-group-item blpa\"><a title=\"Punjabi English Dictionary and Translator\" href=\"/dictionary/english-punjabi/\">Punjabi English Dictionary</a></li>\n",
       "<li class=\"list-group-item blta\"><a title=\"Tamil English Dictionary and Translator\" href=\"/dictionary/english-tamil/\">Tamil English Dictionary</a></li>\n",
       "<li class=\"list-group-item blte\"><a title=\"Telugu English Dictionary and Translator\" href=\"/dictionary/english-telugu/\">Telugu English Dictionary</a></li>\n",
       "\n",
       "    </div>\n",
       "  </div>\n",
       "</div>\n",
       "</div> -->\n",
       "<div class=\"footer blc py-2 text-white\">\n",
       "<div class=\"container-lg\">\n",
       "<div class=\"row\">\n",
       "<div class=\"col-12 col-sm-4\">\n",
       "<h3>Support</h3>\n",
       "<div class=\"row\">\n",
       "<div class=\"col-12 d-flex\">\n",
       "<svg fill=\"none\" height=\"22\" stroke=\"currentColor\" viewbox=\"0 0 24 24\" width=\"26\" xmlns=\"http://www.w3.org/2000/svg\">\n",
       "<path d=\"M17 20h5v-2a3 3 0 00-5.356-1.857M17 20H7m10 0v-2c0-.656-.126-1.283-.356-1.857M7 20H2v-2a3 3 0 015.356-1.857M7 20v-2c0-.656.126-1.283.356-1.857m0 0a5.002 5.002 0 019.288 0M15 7a3 3 0 11-6 0 3 3 0 016 0zm6 3a2 2 0 11-4 0 2 2 0 014 0zM7 10a2 2 0 11-4 0 2 2 0 014 0z\" stroke-linecap=\"round\" stroke-linejoin=\"round\" stroke-width=\"2\"></path>\n",
       "</svg><a class=\"ms-2\" href=\"/about\">About</a>\n",
       "</div>\n",
       "<div class=\"col-12 pt-2\">\n",
       "<svg class=\"icon icon-info me-1\" height=\"18\" width=\"18\"><use xlink:href=\"#icon-info\"></use></svg><a class=\"ms-2\" href=\"/help\">Help</a>\n",
       "</div>\n",
       "<div class=\"col-12 pt-2\">\n",
       "<svg class=\"icon icon-mail me-1\" height=\"18\" width=\"20\"><use xlink:href=\"#icon-mail\"></use></svg><a class=\"ms-2\" href=\"/contact\">Contact</a>\n",
       "</div>\n",
       "<div class=\"col-12 pt-2\">\n",
       "<svg class=\"bi bi-cash-stack\" fill=\"currentColor\" height=\"24\" viewbox=\"0 0 16 16\" width=\"24\" xmlns=\"http://www.w3.org/2000/svg\">\n",
       "<path d=\"M1 3a1 1 0 0 1 1-1h12a1 1 0 0 1 1 1H1zm7 8a2 2 0 1 0 0-4 2 2 0 0 0 0 4z\"></path>\n",
       "<path d=\"M0 5a1 1 0 0 1 1-1h14a1 1 0 0 1 1 1v8a1 1 0 0 1-1 1H1a1 1 0 0 1-1-1V5zm3 0a2 2 0 0 1-2 2v4a2 2 0 0 1 2 2h10a2 2 0 0 1 2-2V7a2 2 0 0 1-2-2H3z\"></path>\n",
       "</svg><a class=\"ms-2\" href=\"/payments/donation\">Donate</a>\n",
       "</div>\n",
       "</div>\n",
       "</div>\n",
       "<div class=\"col-12 col-sm-4\">\n",
       "<h3>Keep in Touch</h3>\n",
       "<div class=\"row\">\n",
       "<div class=\"col-12\">\n",
       "<svg class=\"icon icon-facebook me-2\"><use xlink:href=\"#icon-facebook\"></use></svg><a href=\"//www.facebook.com/shabdkosh\" rel=\"noopener\" target=\"_blank\">Facebook</a>\n",
       "</div>\n",
       "<div class=\"col-12 pt-2\">\n",
       "<svg class=\"icon icon-linkedin me-2\"><use xlink:href=\"#icon-linkedin\"></use></svg><a href=\"//www.linkedin.com/company/shabdkosh\" rel=\"noopener\" target=\"_blank\">LinkedIn</a>\n",
       "</div>\n",
       "<div class=\"col-12 pt-2\">\n",
       "<svg class=\"icon icon-twitter me-2\"><use xlink:href=\"#icon-twitter\"></use></svg><a href=\"//www.twitter.com/shabdkosh\" rel=\"noopener\" target=\"_blank\">Twitter</a>\n",
       "</div>\n",
       "<div class=\"col-12 pt-2\">\n",
       "<svg class=\"icon icon-instagram me-2\"><use xlink:href=\"#icon-instagram\"></use></svg><a href=\"//www.instagram.com/shabdkosh\" rel=\"noopener\" target=\"_blank\">Instagram</a>\n",
       "</div>\n",
       "</div>\n",
       "</div>\n",
       "<div class=\"col-12 col-sm-4\">\n",
       "<h3>Get our Apps</h3>\n",
       "<div class=\"row\">\n",
       "<div class=\"col-12\">\n",
       "<svg aria-hidden=\"true\" class=\"me-1\" focusable=\"false\" height=\"1.3em\" preserveaspectratio=\"xMidYMid meet\" style=\"-ms-transform: rotate(360deg); -webkit-transform: rotate(360deg); transform: rotate(360deg);\" viewbox=\"0 0 512 512\" width=\"1.3em\" xmlns=\"http://www.w3.org/2000/svg\" xmlns:xlink=\"http://www.w3.org/1999/xlink\">\n",
       "<path d=\"M48 59.49v393a4.33 4.33 0 0 0 7.37 3.07L260 256L55.37 56.42A4.33 4.33 0 0 0 48 59.49z\" fill=\"white\"></path>\n",
       "<path d=\"M345.8 174L89.22 32.64l-.16-.09c-4.42-2.4-8.62 3.58-5 7.06l201.13 192.32z\" fill=\"white\"></path>\n",
       "<path d=\"M84.08 472.39c-3.64 3.48.56 9.46 5 7.06l.16-.09L345.8 338l-60.61-57.95z\" fill=\"white\"></path>\n",
       "<path d=\"M449.38 231l-71.65-39.46L310.36 256l67.37 64.43L449.38 281c19.49-10.77 19.49-39.23 0-50z\" fill=\"white\"></path>\n",
       "</svg><a href=\"//play.google.com/store/apps/details?id=com.shabdkosh.android\">English Sanskrit Dictionary on Play Store</a>\n",
       "</div>\n",
       "<div class=\"col-12 pt-2\">\n",
       "<svg class=\"icon icon-appleinc me-1\" height=\"1.3em\" width=\"1.3em\"><use xlink:href=\"#icon-appleinc\"></use></svg><a href=\"//apps.apple.com/app/id863035886\">English Sanskrit Dictionary on App Store</a>\n",
       "</div>\n",
       "<div class=\"col-12 pt-2\">\n",
       "<svg class=\"icon icon-windows8 me-1\" height=\"1.3em\" width=\"1.3em\"><use xlink:href=\"#icon-windows8\"></use></svg><a href=\"//apps.microsoft.com/windows/en-in/app/shabdkosh/5361d54d-62a4-40e7-80a5-8e0139024f76\">Windows Hindi App</a>\n",
       "</div>\n",
       "</div>\n",
       "</div>\n",
       "</div>\n",
       "<div class=\"row pb-5\">\n",
       "<ul class=\"list-group list-group-horizontal-md b-0 pb-5 d-flex justify-content-center\">\n",
       "<li class=\"list-group-item border-0 bg-transparent pb-0 text-white\">© 2021 Shabdkosh.com, All rights reserved.</li>\n",
       "<!--li class=\"list-group-item border-0 bg-transparent pb-0\"><a href=\"/careers\">Job Openings</a></li-->\n",
       "<li class=\"list-group-item border-0 bg-transparent pb-0\"><a href=\"/terms\">Terms of Use</a></li>\n",
       "<li class=\"list-group-item border-0 bg-transparent pb-0\"><a href=\"/terms\">Privacy Policy</a></li>\n",
       "</ul>\n",
       "</div>\n",
       "</div>\n",
       "</div>\n",
       "<script src=\"https://cdn.jsdelivr.net/npm/bootstrap@5.0.1/dist/js/bootstrap.bundle.min.js\"></script>\n",
       "<script src=\"//www.shabdkosh.net/r152a/js/sk_search.js\"></script>\n",
       "<!-- TODO script src=\"//www.shabdkosh.net/r151/js/ads.js\"></script -->\n",
       "<div class=\"modal fade\" id=\"app_modal\" role=\"dialog\" tabindex=\"-1\">\n",
       "<div class=\"modal-dialog modal-dialog-centered\" role=\"document\">\n",
       "<div class=\"modal-content\">\n",
       "<div class=\"modal-header py-2\">\n",
       "<h5 class=\"modal-title\" id=\"app_modal_title\">Get SHABDKOSH App</h5>\n",
       "<p class=\"text-light border border-warning rounded-lg mx-1 px-2 bg-warning lead\" id=\"newtag\">New!</p>\n",
       "<button aria-label=\"Close\" class=\"btn-close\" data-bs-dismiss=\"modal\" type=\"button\"></button>\n",
       "</div>\n",
       "<div class=\"modal-body py-2\">\n",
       "<div class=\"media\">\n",
       "<a class=\"appdl test-decoration-none\" href=\"#\"><img alt=\"App Download\" class=\"align-self-center\" id=\"appicon\" loading=\"lazy\" src=\"\" style=\"height:64px;width:64px;\"/></a>\n",
       "<div class=\"media-body\">\n",
       "<ul>\n",
       "<li>Fast, Free and Offline</li>\n",
       "<li>Over 100,000 words</li>\n",
       "<li>Audio Pronunciation</li>\n",
       "<li>Word Games</li>\n",
       "<li>Word &amp; Quote of the Day</li>\n",
       "</ul>\n",
       "</div>\n",
       "</div>\n",
       "<div aria-label=\"Rated 4.5 out of 5!\" class=\"stars d-flex justify-content-center\" id=\"appstars\" style=\"--rating: 4.5;\"><b>Highly Rated!<b></b></b></div><b><b>\n",
       "</b></b></div><b><b>\n",
       "<div class=\"modal-footer p-0 d-flex justify-content-center\">\n",
       "<a class=\"appdl my-2\" href=\"#\" style=\"width:70%;\"><img alt=\"App Download\" id=\"appbadge\" loading=\"lazy\" src=\"\" style=\"width:100%;\"/></a>\n",
       "</div>\n",
       "</b></b></div><b><b>\n",
       "</b></b></div><b><b>\n",
       "</b></b></div><b><b>\n",
       "<script type=\"text/javascript\">\n",
       "r=new XMLHttpRequest();\n",
       "r.open('POST','/utils/adbck.php');\n",
       "r.setRequestHeader('Content-type','application/x-www-form-urlencoded');\n",
       "if(document.getElementById('GmCH'))\n",
       "  r.send('block=0');\n",
       "else\n",
       "  r.send('block=1');\n",
       "\n",
       "function getCookie(cn){\n",
       "  var name = cn + \"=\";\n",
       "  var ca = document.cookie.split(';');\n",
       "  for (var i=0;i<ca.length;i++){\n",
       "    var c = ca[i];\n",
       "    while (c.charAt(0)==' ') c=c.substring(1,c.length);\n",
       "    if (c.indexOf(name)!=-1) return c.substring(name.length,c.length);\n",
       "  }\n",
       "  return '';\n",
       "}\n",
       "\n",
       "function setCookie(c,v,x) {\n",
       "    var d = new Date();\n",
       "    d.setTime(d.getTime() + (x * 3600 * 1000));\n",
       "    var expiry = \"expires=\" + d.toGMTString();\n",
       "    document.cookie = c + \"=\" + v + \"; \" + expiry;\n",
       "}\n",
       "\n",
       "function getMeta(n,c){\n",
       "   var content = (c==null)?'content':c;\n",
       "   return document.querySelector(\"meta[name='\"+n+\"']\").getAttribute(content);\n",
       "}\n",
       "\n",
       "window.onload = function() {\n",
       "  var ua = navigator.userAgent.toLowerCase();\n",
       "  var appid = '';\n",
       "  if(ua.indexOf(\"android\") > -1) {\n",
       "    appid = getMeta('google-play-app').substring(7);\n",
       "    applink = 'https://play.google.com/store/apps/details?id='+appid+'&referrer=utm_source%3Dsite%26utm_medium%3Dappmodal%26utm_campaign%3Dmodal';\n",
       "    appbadge = 'https://www.shabdkosh.net/images/play-store.jpg';\n",
       "  } else if((navigator.userAgent.match(/iPhone/i)) || (navigator.userAgent.match(/iPod/i))) {\n",
       "    appid = getMeta('apple-itunes-app').substring(7);\n",
       "    applink = 'https://apps.apple.com/app/id'+appid;\n",
       "    appbadge = 'https://www.shabdkosh.net/images/app-store.jpg';\n",
       "  }\n",
       "  if (appid.length<8){\n",
       "    console.warn(\"AppId too short. Will not open app modal\");\n",
       "    return;\n",
       "  }\n",
       "  var app_modal_shown = getCookie('app_modal');\n",
       "  if (app_modal_shown!=1){\n",
       "    var lc = document.body.getAttribute('id');\n",
       "    var x = document.getElementsByClassName('appdl')\n",
       "    for (var i=0;i<x.length;i++)\n",
       "      x[i].setAttribute('href', applink);\n",
       "    document.getElementById('appbadge').setAttribute('src', appbadge);\n",
       "    document.getElementById('appicon').setAttribute('src','//www.shabdkosh.net/images/sk_icon_64.png');\n",
       "    if (lc=='hi') document.getElementById('newtag').style.display = 'none';\n",
       "    if (lc!='hi') document.getElementById('appstars').remove();\n",
       "    document.getElementById('app_modal').addEventListener('hidden.bs.modal', function () {\n",
       "      setCookie('app_modal', 1, 168);\n",
       "    })\n",
       "    document.querySelector('a.appdl').addEventListener('click', function () {\n",
       "      if (typeof ga!=='undefined')  ga('send', 'event', { eventCategory:'app', eventAction: 'click_'+lc, eventLabel: 'modal', transport: 'beacon'});\n",
       "    });\n",
       "    setTimeout(function() {\n",
       "      var appmodalel = document.getElementById(\"app_modal\");\n",
       "      if (appmodalel!=null){\n",
       "        var appmodalptr = new bootstrap.Modal(appmodalel,{keyboard:false});\n",
       "        appmodalptr.show();\n",
       "      } else {\n",
       "        console.log(\"No app modal found. Cannot show\");\n",
       "      }\n",
       "      if (typeof ga !== 'undefined') ga('send', { hitType:'event', eventCategory:'app', eventAction:'open_'+lc, eventLabel:'modal'});\n",
       "    }, 20000);\n",
       "  }\n",
       "};\n",
       "</script>\n",
       "<!-- end appmodal -->\n",
       "<svg aria-hidden=\"true\" style=\"position: absolute; width: 0; height: 0; overflow: hidden;\" version=\"1.1\" xmlns=\"http://www.w3.org/2000/svg\" xmlns:xlink=\"http://www.w3.org/1999/xlink\">\n",
       "<defs>\n",
       "<symbol id=\"icon-home2\" viewbox=\"0 0 32 32\">\n",
       "<path d=\"M16 1l-16 16 3 3 3-3v13h8v-6h4v6h8v-13l3 3 3-3-16-16zM16 14c-1.105 0-2-0.895-2-2s0.895-2 2-2c1.105 0 2 0.895 2 2s-0.895 2-2 2z\"></path>\n",
       "</symbol>\n",
       "<symbol id=\"icon-pencil2\" viewbox=\"0 0 32 32\">\n",
       "<path d=\"M12 20l4-2 14-14-2-2-14 14-2 4zM9.041 27.097c-0.989-2.085-2.052-3.149-4.137-4.137l3.097-8.525 4-2.435 12-12h-6l-12 12-6 20 20-6 12-12v-6l-12 12-2.435 4z\"></path>\n",
       "</symbol>\n",
       "<symbol id=\"icon-mic\" viewbox=\"0 0 32 32\">\n",
       "<path d=\"M15 22c2.761 0 5-2.239 5-5v-12c0-2.761-2.239-5-5-5s-5 2.239-5 5v12c0 2.761 2.239 5 5 5zM22 14v3c0 3.866-3.134 7-7 7s-7-3.134-7-7v-3h-2v3c0 4.632 3.5 8.447 8 8.944v4.056h-4v2h10v-2h-4v-4.056c4.5-0.497 8-4.312 8-8.944v-3h-2z\"></path>\n",
       "</symbol>\n",
       "<symbol id=\"icon-book\" viewbox=\"0 0 32 32\">\n",
       "<path d=\"M28 4v26h-21c-1.657 0-3-1.343-3-3s1.343-3 3-3h19v-24h-20c-2.2 0-4 1.8-4 4v24c0 2.2 1.8 4 4 4h24v-28h-2z\"></path>\n",
       "<path d=\"M7.002 26v0c-0.001 0-0.001 0-0.002 0-0.552 0-1 0.448-1 1s0.448 1 1 1c0.001 0 0.001-0 0.002-0v0h18.997v-2h-18.997z\"></path>\n",
       "</symbol>\n",
       "<symbol id=\"icon-mail\" viewbox=\"0 0 16 16\">\n",
       "<path d=\"M0 4a2 2 0 0 1 2-2h12a2 2 0 0 1 2 2v8a2 2 0 0 1-2 2H2a2 2 0 0 1-2-2V4zm2-1a1 1 0 0 0-1 1v.217l7 4.2 7-4.2V4a1 1 0 0 0-1-1H2zm13 2.383l-4.758 2.855L15 11.114v-5.73zm-.034 6.878L9.271 8.82 8 9.583 6.728 8.82l-5.694 3.44A1 1 0 0 0 2 13h12a1 1 0 0 0 .966-.739zM1 11.114l4.758-2.876L1 5.383v5.73z\" fill-rule=\"evenodd\"></path>\n",
       "</symbol>\n",
       "<symbol id=\"icon-user\" viewbox=\"0 0 32 32\">\n",
       "<path d=\"M18 22.082v-1.649c2.203-1.241 4-4.337 4-7.432 0-4.971 0-9-6-9s-6 4.029-6 9c0 3.096 1.797 6.191 4 7.432v1.649c-6.784 0.555-12 3.888-12 7.918h28c0-4.030-5.216-7.364-12-7.918z\"></path>\n",
       "</symbol>\n",
       "<!--symbol id=\"icon-search\" viewBox=\"0 0 32 32\">\n",
       "<path d=\"M31.008 27.231l-7.58-6.447c-0.784-0.705-1.622-1.029-2.299-0.998 1.789-2.096 2.87-4.815 2.87-7.787 0-6.627-5.373-12-12-12s-12 5.373-12 12 5.373 12 12 12c2.972 0 5.691-1.081 7.787-2.87-0.031 0.677 0.293 1.515 0.998 2.299l6.447 7.58c1.104 1.226 2.907 1.33 4.007 0.23s0.997-2.903-0.23-4.007zM12 20c-4.418 0-8-3.582-8-8s3.582-8 8-8 8 3.582 8 8-3.582 8-8 8z\"/>\n",
       "</symbol-->\n",
       "<symbol id=\"icon-menu\" viewbox=\"0 0 32 32\">\n",
       "<path d=\"M2 6h28v6h-28zM2 14h28v6h-28zM2 22h28v6h-28z\"></path>\n",
       "</symbol>\n",
       "<symbol id=\"icon-sphere\" viewbox=\"0 0 32 32\">\n",
       "<path d=\"M15 2c-8.284 0-15 6.716-15 15s6.716 15 15 15c8.284 0 15-6.716 15-15s-6.716-15-15-15zM23.487 22c0.268-1.264 0.437-2.606 0.492-4h3.983c-0.104 1.381-0.426 2.722-0.959 4h-3.516zM6.513 12c-0.268 1.264-0.437 2.606-0.492 4h-3.983c0.104-1.381 0.426-2.722 0.959-4h3.516zM21.439 12c0.3 1.28 0.481 2.62 0.54 4h-5.979v-4h5.439zM16 10v-5.854c0.456 0.133 0.908 0.355 1.351 0.668 0.831 0.586 1.625 1.488 2.298 2.609 0.465 0.775 0.867 1.638 1.203 2.578h-4.852zM10.351 7.422c0.673-1.121 1.467-2.023 2.298-2.609 0.443-0.313 0.895-0.535 1.351-0.668v5.854h-4.852c0.336-0.94 0.738-1.803 1.203-2.578zM14 12v4h-5.979c0.059-1.38 0.24-2.72 0.54-4h5.439zM2.997 22c-0.533-1.278-0.854-2.619-0.959-4h3.983c0.055 1.394 0.224 2.736 0.492 4h-3.516zM8.021 18h5.979v4h-5.439c-0.3-1.28-0.481-2.62-0.54-4zM14 24v5.854c-0.456-0.133-0.908-0.355-1.351-0.668-0.831-0.586-1.625-1.488-2.298-2.609-0.465-0.775-0.867-1.638-1.203-2.578h4.852zM19.649 26.578c-0.673 1.121-1.467 2.023-2.298 2.609-0.443 0.312-0.895 0.535-1.351 0.668v-5.854h4.852c-0.336 0.94-0.738 1.802-1.203 2.578zM16 22v-4h5.979c-0.059 1.38-0.24 2.72-0.54 4h-5.439zM23.98 16c-0.055-1.394-0.224-2.736-0.492-4h3.516c0.533 1.278 0.855 2.619 0.959 4h-3.983zM25.958 10h-2.997c-0.582-1.836-1.387-3.447-2.354-4.732 1.329 0.636 2.533 1.488 3.585 2.54 0.671 0.671 1.261 1.404 1.766 2.192zM5.808 7.808c1.052-1.052 2.256-1.904 3.585-2.54-0.967 1.285-1.771 2.896-2.354 4.732h-2.997c0.504-0.788 1.094-1.521 1.766-2.192zM4.042 24h2.997c0.583 1.836 1.387 3.447 2.354 4.732-1.329-0.636-2.533-1.488-3.585-2.54-0.671-0.671-1.261-1.404-1.766-2.192zM24.192 26.192c-1.052 1.052-2.256 1.904-3.585 2.54 0.967-1.285 1.771-2.896 2.354-4.732h2.997c-0.504 0.788-1.094 1.521-1.766 2.192z\"></path>\n",
       "</symbol>\n",
       "<symbol id=\"icon-flag\" viewbox=\"0 0 32 32\">\n",
       "<path d=\"M0 0h4v32h-4v-32z\"></path>\n",
       "<path d=\"M26 20.094c2.582 0 4.83-0.625 6-1.547v-16c-1.17 0.922-3.418 1.547-6 1.547s-4.83-0.625-6-1.547v16c1.17 0.922 3.418 1.547 6 1.547z\"></path>\n",
       "<path d=\"M19 1.016c-1.466-0.623-3.61-1.016-6-1.016-3.012 0-5.635 0.625-7 1.547v16c1.365-0.922 3.988-1.547 7-1.547 2.39 0 4.534 0.393 6 1.016v-16z\"></path>\n",
       "</symbol>\n",
       "<symbol id=\"icon-question\" viewbox=\"0 0 32 32\">\n",
       "<path d=\"M14 22h4v4h-4zM22 8c1.105 0 2 0.895 2 2v6l-6 4h-4v-2l6-4v-2h-10v-4h12zM16 3c-3.472 0-6.737 1.352-9.192 3.808s-3.808 5.72-3.808 9.192c0 3.472 1.352 6.737 3.808 9.192s5.72 3.808 9.192 3.808c3.472 0 6.737-1.352 9.192-3.808s3.808-5.72 3.808-9.192c0-3.472-1.352-6.737-3.808-9.192s-5.72-3.808-9.192-3.808zM16 0v0c8.837 0 16 7.163 16 16s-7.163 16-16 16c-8.837 0-16-7.163-16-16s7.163-16 16-16z\"></path>\n",
       "</symbol>\n",
       "<symbol id=\"icon-info\" viewbox=\"0 0 32 32\">\n",
       "<path d=\"M14 9.5c0-0.825 0.675-1.5 1.5-1.5h1c0.825 0 1.5 0.675 1.5 1.5v1c0 0.825-0.675 1.5-1.5 1.5h-1c-0.825 0-1.5-0.675-1.5-1.5v-1z\"></path>\n",
       "<path d=\"M20 24h-8v-2h2v-6h-2v-2h6v8h2z\"></path>\n",
       "<path d=\"M16 0c-8.837 0-16 7.163-16 16s7.163 16 16 16 16-7.163 16-16-7.163-16-16-16zM16 29c-7.18 0-13-5.82-13-13s5.82-13 13-13 13 5.82 13 13-5.82 13-13 13z\"></path>\n",
       "</symbol>\n",
       "<symbol id=\"icon-cross\" viewbox=\"0 0 32 32\">\n",
       "<path d=\"M31.708 25.708c-0-0-0-0-0-0l-9.708-9.708 9.708-9.708c0-0 0-0 0-0 0.105-0.105 0.18-0.227 0.229-0.357 0.133-0.356 0.057-0.771-0.229-1.057l-4.586-4.586c-0.286-0.286-0.702-0.361-1.057-0.229-0.13 0.048-0.252 0.124-0.357 0.228 0 0-0 0-0 0l-9.708 9.708-9.708-9.708c-0-0-0-0-0-0-0.105-0.104-0.227-0.18-0.357-0.228-0.356-0.133-0.771-0.057-1.057 0.229l-4.586 4.586c-0.286 0.286-0.361 0.702-0.229 1.057 0.049 0.13 0.124 0.252 0.229 0.357 0 0 0 0 0 0l9.708 9.708-9.708 9.708c-0 0-0 0-0 0-0.104 0.105-0.18 0.227-0.229 0.357-0.133 0.355-0.057 0.771 0.229 1.057l4.586 4.586c0.286 0.286 0.702 0.361 1.057 0.229 0.13-0.049 0.252-0.124 0.357-0.229 0-0 0-0 0-0l9.708-9.708 9.708 9.708c0 0 0 0 0 0 0.105 0.105 0.227 0.18 0.357 0.229 0.356 0.133 0.771 0.057 1.057-0.229l4.586-4.586c0.286-0.286 0.362-0.702 0.229-1.057-0.049-0.13-0.124-0.252-0.229-0.357z\"></path>\n",
       "</symbol>\n",
       "<symbol id=\"icon-exit\" viewbox=\"0 0 32 32\">\n",
       "<path d=\"M24 20v-4h-10v-4h10v-4l6 6zM22 18v8h-10v6l-12-6v-26h22v10h-2v-8h-16l8 4v18h8v-6z\"></path>\n",
       "</symbol>\n",
       "<symbol id=\"icon-volume-medium\" viewbox=\"0 0 32 32\">\n",
       "<path d=\"M22.485 25.985c-0.384 0-0.768-0.146-1.061-0.439-0.586-0.586-0.586-1.535 0-2.121 4.094-4.094 4.094-10.755 0-14.849-0.586-0.586-0.586-1.536 0-2.121s1.536-0.586 2.121 0c2.55 2.55 3.954 5.94 3.954 9.546s-1.404 6.996-3.954 9.546c-0.293 0.293-0.677 0.439-1.061 0.439v0zM17.157 23.157c-0.384 0-0.768-0.146-1.061-0.439-0.586-0.586-0.586-1.535 0-2.121 2.534-2.534 2.534-6.658 0-9.192-0.586-0.586-0.586-1.536 0-2.121s1.535-0.586 2.121 0c3.704 3.704 3.704 9.731 0 13.435-0.293 0.293-0.677 0.439-1.061 0.439z\"></path>\n",
       "<path d=\"M13 30c-0.26 0-0.516-0.102-0.707-0.293l-7.707-7.707h-3.586c-0.552 0-1-0.448-1-1v-10c0-0.552 0.448-1 1-1h3.586l7.707-7.707c0.286-0.286 0.716-0.372 1.090-0.217s0.617 0.519 0.617 0.924v26c0 0.404-0.244 0.769-0.617 0.924-0.124 0.051-0.254 0.076-0.383 0.076z\"></path>\n",
       "</symbol>\n",
       "<symbol id=\"icon-circle-up\" viewbox=\"0 0 32 32\">\n",
       "<path d=\"M0 16c0 8.837 7.163 16 16 16s16-7.163 16-16-7.163-16-16-16-16 7.163-16 16zM29 16c0 7.18-5.82 13-13 13s-13-5.82-13-13 5.82-13 13-13 13 5.82 13 13z\"></path>\n",
       "<path d=\"M22.086 20.914l2.829-2.829-8.914-8.914-8.914 8.914 2.828 2.828 6.086-6.086z\"></path>\n",
       "</symbol>\n",
       "<symbol id=\"icon-share\" viewbox=\"0 0 32 32\">\n",
       "<path d=\"M8 20c0 0 1.838-6 12-6v6l12-8-12-8v6c-8 0-12 4.99-12 10zM22 24h-18v-12h3.934c0.315-0.372 0.654-0.729 1.015-1.068 1.374-1.287 3.018-2.27 4.879-2.932h-13.827v20h26v-8.395l-4 2.667v1.728z\"></path>\n",
       "</symbol>\n",
       "<symbol id=\"icon-share2\" viewbox=\"0 0 32 32\">\n",
       "<path d=\"M27 22c-1.411 0-2.685 0.586-3.594 1.526l-13.469-6.734c0.041-0.258 0.063-0.522 0.063-0.791s-0.022-0.534-0.063-0.791l13.469-6.734c0.909 0.94 2.183 1.526 3.594 1.526 2.761 0 5-2.239 5-5s-2.239-5-5-5-5 2.239-5 5c0 0.269 0.022 0.534 0.063 0.791l-13.469 6.734c-0.909-0.94-2.183-1.526-3.594-1.526-2.761 0-5 2.239-5 5s2.239 5 5 5c1.411 0 2.685-0.586 3.594-1.526l13.469 6.734c-0.041 0.258-0.063 0.522-0.063 0.791 0 2.761 2.239 5 5 5s5-2.239 5-5c0-2.761-2.239-5-5-5z\"></path>\n",
       "</symbol>\n",
       "<symbol class=\"bi bi-share-fill\" fill=\"currentColor\" id=\"icon-share3\" viewbox=\"0 0 16 16\">\n",
       "<path d=\"M11 2.5a2.5 2.5 0 1 1 .603 1.628l-6.718 3.12a2.499 2.499 0 0 1 0 1.504l6.718 3.12a2.5 2.5 0 1 1-.488.876l-6.718-3.12a2.5 2.5 0 1 1 0-3.256l6.718-3.12A2.5 2.5 0 0 1 11 2.5z\"></path>\n",
       "</symbol>\n",
       "<symbol id=\"icon-facebook\" viewbox=\"0 0 32 32\">\n",
       "<path d=\"M19 6h5v-6h-5c-3.86 0-7 3.14-7 7v3h-4v6h4v16h6v-16h5l1-6h-6v-3c0-0.542 0.458-1 1-1z\"></path>\n",
       "</symbol>\n",
       "<symbol id=\"icon-instagram\" viewbox=\"0 0 32 32\">\n",
       "<path d=\"M16 2.881c4.275 0 4.781 0.019 6.462 0.094 1.563 0.069 2.406 0.331 2.969 0.55 0.744 0.288 1.281 0.638 1.837 1.194 0.563 0.563 0.906 1.094 1.2 1.838 0.219 0.563 0.481 1.412 0.55 2.969 0.075 1.688 0.094 2.194 0.094 6.463s-0.019 4.781-0.094 6.463c-0.069 1.563-0.331 2.406-0.55 2.969-0.288 0.744-0.637 1.281-1.194 1.837-0.563 0.563-1.094 0.906-1.837 1.2-0.563 0.219-1.413 0.481-2.969 0.55-1.688 0.075-2.194 0.094-6.463 0.094s-4.781-0.019-6.463-0.094c-1.563-0.069-2.406-0.331-2.969-0.55-0.744-0.288-1.281-0.637-1.838-1.194-0.563-0.563-0.906-1.094-1.2-1.837-0.219-0.563-0.481-1.413-0.55-2.969-0.075-1.688-0.094-2.194-0.094-6.463s0.019-4.781 0.094-6.463c0.069-1.563 0.331-2.406 0.55-2.969 0.288-0.744 0.638-1.281 1.194-1.838 0.563-0.563 1.094-0.906 1.838-1.2 0.563-0.219 1.412-0.481 2.969-0.55 1.681-0.075 2.188-0.094 6.463-0.094zM16 0c-4.344 0-4.887 0.019-6.594 0.094-1.7 0.075-2.869 0.35-3.881 0.744-1.056 0.412-1.95 0.956-2.837 1.85-0.894 0.888-1.438 1.781-1.85 2.831-0.394 1.019-0.669 2.181-0.744 3.881-0.075 1.713-0.094 2.256-0.094 6.6s0.019 4.887 0.094 6.594c0.075 1.7 0.35 2.869 0.744 3.881 0.413 1.056 0.956 1.95 1.85 2.837 0.887 0.887 1.781 1.438 2.831 1.844 1.019 0.394 2.181 0.669 3.881 0.744 1.706 0.075 2.25 0.094 6.594 0.094s4.888-0.019 6.594-0.094c1.7-0.075 2.869-0.35 3.881-0.744 1.050-0.406 1.944-0.956 2.831-1.844s1.438-1.781 1.844-2.831c0.394-1.019 0.669-2.181 0.744-3.881 0.075-1.706 0.094-2.25 0.094-6.594s-0.019-4.887-0.094-6.594c-0.075-1.7-0.35-2.869-0.744-3.881-0.394-1.063-0.938-1.956-1.831-2.844-0.887-0.887-1.781-1.438-2.831-1.844-1.019-0.394-2.181-0.669-3.881-0.744-1.712-0.081-2.256-0.1-6.6-0.1v0z\"></path>\n",
       "<path d=\"M16 7.781c-4.537 0-8.219 3.681-8.219 8.219s3.681 8.219 8.219 8.219 8.219-3.681 8.219-8.219c0-4.537-3.681-8.219-8.219-8.219zM16 21.331c-2.944 0-5.331-2.387-5.331-5.331s2.387-5.331 5.331-5.331c2.944 0 5.331 2.387 5.331 5.331s-2.387 5.331-5.331 5.331z\"></path>\n",
       "<path d=\"M26.462 7.456c0 1.060-0.859 1.919-1.919 1.919s-1.919-0.859-1.919-1.919c0-1.060 0.859-1.919 1.919-1.919s1.919 0.859 1.919 1.919z\"></path>\n",
       "</symbol>\n",
       "<symbol id=\"icon-linkedin\" viewbox=\"0 0 32 32\">\n",
       "<path d=\"M4.98 3.5c0 1.381-1.11 2.5-2.48 2.5s-2.48-1.119-2.48-2.5c0-1.38 1.11-2.5 2.48-2.5s2.48 1.12 2.48 2.5zm.02 4.5h-5v16h5v-16zm7.982 0h-4.968v16h4.969v-8.399c0-4.67 6.029-5.052 6.029 0v8.399h4.988v-10.131c0-7.88-8.922-7.593-11.018-3.714v-2.155z\"></path>\n",
       "</symbol>\n",
       "<symbol id=\"icon-whatsapp\" viewbox=\"0 0 32 32\">\n",
       "<path d=\"M27.281 4.65c-2.994-3-6.975-4.65-11.219-4.65-8.738 0-15.85 7.112-15.85 15.856 0 2.794 0.731 5.525 2.119 7.925l-2.25 8.219 8.406-2.206c2.319 1.262 4.925 1.931 7.575 1.931h0.006c0 0 0 0 0 0 8.738 0 15.856-7.113 15.856-15.856 0-4.238-1.65-8.219-4.644-11.219zM16.069 29.050v0c-2.369 0-4.688-0.637-6.713-1.837l-0.481-0.288-4.987 1.306 1.331-4.863-0.313-0.5c-1.325-2.094-2.019-4.519-2.019-7.012 0-7.269 5.912-13.181 13.188-13.181 3.519 0 6.831 1.375 9.319 3.862 2.488 2.494 3.856 5.8 3.856 9.325-0.006 7.275-5.919 13.188-13.181 13.188zM23.294 19.175c-0.394-0.2-2.344-1.156-2.706-1.288s-0.625-0.2-0.894 0.2c-0.262 0.394-1.025 1.288-1.256 1.556-0.231 0.262-0.462 0.3-0.856 0.1s-1.675-0.619-3.188-1.969c-1.175-1.050-1.975-2.35-2.206-2.744s-0.025-0.613 0.175-0.806c0.181-0.175 0.394-0.463 0.594-0.694s0.262-0.394 0.394-0.662c0.131-0.262 0.069-0.494-0.031-0.694s-0.894-2.15-1.219-2.944c-0.319-0.775-0.65-0.669-0.894-0.681-0.231-0.012-0.494-0.012-0.756-0.012s-0.694 0.1-1.056 0.494c-0.363 0.394-1.387 1.356-1.387 3.306s1.419 3.831 1.619 4.1c0.2 0.262 2.794 4.269 6.769 5.981 0.944 0.406 1.681 0.65 2.256 0.837 0.95 0.3 1.813 0.256 2.494 0.156 0.762-0.113 2.344-0.956 2.675-1.881s0.331-1.719 0.231-1.881c-0.094-0.175-0.356-0.275-0.756-0.475z\"></path>\n",
       "</symbol>\n",
       "<symbol id=\"icon-twitter\" viewbox=\"0 0 32 32\">\n",
       "<path d=\"M32 7.075c-1.175 0.525-2.444 0.875-3.769 1.031 1.356-0.813 2.394-2.1 2.887-3.631-1.269 0.75-2.675 1.3-4.169 1.594-1.2-1.275-2.906-2.069-4.794-2.069-3.625 0-6.563 2.938-6.563 6.563 0 0.512 0.056 1.012 0.169 1.494-5.456-0.275-10.294-2.888-13.531-6.862-0.563 0.969-0.887 2.1-0.887 3.3 0 2.275 1.156 4.287 2.919 5.463-1.075-0.031-2.087-0.331-2.975-0.819 0 0.025 0 0.056 0 0.081 0 3.181 2.263 5.838 5.269 6.437-0.55 0.15-1.131 0.231-1.731 0.231-0.425 0-0.831-0.044-1.237-0.119 0.838 2.606 3.263 4.506 6.131 4.563-2.25 1.762-5.075 2.813-8.156 2.813-0.531 0-1.050-0.031-1.569-0.094 2.913 1.869 6.362 2.95 10.069 2.95 12.075 0 18.681-10.006 18.681-18.681 0-0.287-0.006-0.569-0.019-0.85 1.281-0.919 2.394-2.075 3.275-3.394z\"></path>\n",
       "</symbol>\n",
       "<symbol id=\"icon-appleinc\" viewbox=\"0 0 32 32\">\n",
       "<path d=\"M24.734 17.003c-0.040-4.053 3.305-5.996 3.454-6.093-1.88-2.751-4.808-3.127-5.851-3.171-2.492-0.252-4.862 1.467-6.127 1.467-1.261 0-3.213-1.43-5.28-1.392-2.716 0.040-5.221 1.579-6.619 4.012-2.822 4.897-0.723 12.151 2.028 16.123 1.344 1.944 2.947 4.127 5.051 4.049 2.026-0.081 2.793-1.311 5.242-1.311s3.138 1.311 5.283 1.271c2.18-0.041 3.562-1.981 4.897-3.931 1.543-2.255 2.179-4.439 2.216-4.551-0.048-0.022-4.252-1.632-4.294-6.473zM20.705 5.11c1.117-1.355 1.871-3.235 1.665-5.11-1.609 0.066-3.559 1.072-4.713 2.423-1.036 1.199-1.942 3.113-1.699 4.951 1.796 0.14 3.629-0.913 4.747-2.264z\"></path>\n",
       "</symbol>\n",
       "<symbol id=\"icon-android\" viewbox=\"0 0 32 32\">\n",
       "<path d=\"M28 12c-1.1 0-2 0.9-2 2v8c0 1.1 0.9 2 2 2s2-0.9 2-2v-8c0-1.1-0.9-2-2-2zM4 12c-1.1 0-2 0.9-2 2v8c0 1.1 0.9 2 2 2s2-0.9 2-2v-8c0-1.1-0.9-2-2-2zM7 23c0 1.657 1.343 3 3 3v0 4c0 1.1 0.9 2 2 2s2-0.9 2-2v-4h4v4c0 1.1 0.9 2 2 2s2-0.9 2-2v-4c1.657 0 3-1.343 3-3v-11h-18v11z\"></path>\n",
       "<path d=\"M24.944 10c-0.304-2.746-1.844-5.119-4.051-6.551l1.001-2.001c0.247-0.494 0.047-1.095-0.447-1.342s-1.095-0.047-1.342 0.447l-1.004 2.009-0.261-0.104c-0.893-0.297-1.848-0.458-2.84-0.458s-1.947 0.161-2.84 0.458l-0.261 0.104-1.004-2.009c-0.247-0.494-0.848-0.694-1.342-0.447s-0.694 0.848-0.447 1.342l1.001 2.001c-2.207 1.433-3.747 3.805-4.051 6.551v1h17.944v-1h-0.056zM13 8c-0.552 0-1-0.448-1-1s0.447-0.999 0.998-1c0.001 0 0.002 0 0.003 0s0.001-0 0.002-0c0.551 0.001 0.998 0.448 0.998 1s-0.448 1-1 1zM19 8c-0.552 0-1-0.448-1-1s0.446-0.999 0.998-1c0 0 0.001 0 0.002 0s0.002-0 0.003-0c0.551 0.001 0.998 0.448 0.998 1s-0.448 1-1 1z\"></path>\n",
       "</symbol>\n",
       "<symbol id=\"icon-windows\" viewbox=\"0 0 32 32\">\n",
       "<path d=\"M12.882 15.997c-1.491-0.766-2.94-1.155-4.309-1.155-0.186 0-0.373 0.006-0.561 0.022-1.746 0.145-3.341 0.605-4.367 0.963-0.272 0.1-0.551 0.205-0.838 0.322l-2.807 9.731c1.928-0.713 3.634-1.061 5.196-1.061 2.526 0 4.36 0.944 5.875 1.916 0.718-2.435 2.439-8.315 2.953-10.073-0.373-0.228-0.752-0.455-1.141-0.666zM16.511 18.471l-2.826 9.817c0.838 0.48 3.659 2.002 5.819 2.002 1.744 0 3.695-0.447 5.964-1.369l2.699-9.437c-1.832 0.591-3.59 0.891-5.233 0.891-2.998 0-5.097-0.972-6.422-1.905zM9.151 11.525c2.41 0.025 4.192 0.944 5.669 1.891l2.899-9.917c-0.611-0.35-2.213-1.222-3.371-1.519-0.762-0.178-1.563-0.269-2.413-0.269-1.619 0.030-3.387 0.436-5.403 1.244l-2.764 9.706c2.025-0.764 3.77-1.136 5.378-1.136 0.001 0 0.004 0 0.004 0zM32 6.191c-1.838 0.713-3.631 1.077-5.345 1.077-2.865 0-4.978-0.994-6.347-1.949l-2.873 9.945c1.93 1.241 4.009 1.871 6.191 1.871 1.78 0 3.623-0.427 5.483-1.271l-0.006-0.069 0.117-0.028 2.779-9.576z\"></path>\n",
       "</symbol>\n",
       "<symbol id=\"icon-windows8\" viewbox=\"0 0 32 32\">\n",
       "<path d=\"M0.011 16l-0.011-9.752 12-1.63v11.382zM14 4.328l15.996-2.328v14h-15.996zM30 18l-0.004 14-15.996-2.25v-11.75zM12 29.495l-11.99-1.644-0.001-9.851h11.991z\"></path>\n",
       "</symbol>\n",
       "<symbol id=\"icon-thumb-up\" viewbox=\"0 0 24 24\">\n",
       "<path d=\"M1 21h4V9H1v12zm22-11c0-1.1-.9-2-2-2h-6.31l.95-4.57.03-.32c0-.41-.17-.79-.44-1.06L14.17 1 7.59 7.59C7.22 7.95 7 8.45 7 9v10c0 1.1.9 2 2 2h9c.83 0 1.54-.5 1.84-1.22l3.02-7.05c.09-.23.14-.47.14-.73v-1.91l-.01-.01L23 10z\"></path>\n",
       "</symbol>\n",
       "<symbol id=\"icon-thumb-down\" viewbox=\"0 0 24 24\">\n",
       "<path d=\"M15 3H6c-.83 0-1.54.5-1.84 1.22l-3.02 7.05c-.09.23-.14.47-.14.73v1.91l.01.01L1 14c0 1.1.9 2 2 2h6.31l-.95 4.57-.03.32c0 .41.17.79.44 1.06L9.83 23l6.59-6.59c.36-.36.58-.86.58-1.41V5c0-1.1-.9-2-2-2zm4 0v12h4V3h-4z\"></path>\n",
       "</symbol>\n",
       "<symbol id=\"icon-pinterest\" viewbox=\"0 0 32 32\">\n",
       "<path d=\"M16 2.138c-7.656 0-13.863 6.206-13.863 13.863 0 5.875 3.656 10.887 8.813 12.906-0.119-1.094-0.231-2.781 0.050-3.975 0.25-1.081 1.625-6.887 1.625-6.887s-0.412-0.831-0.412-2.056c0-1.925 1.119-3.369 2.506-3.369 1.181 0 1.756 0.887 1.756 1.95 0 1.188-0.756 2.969-1.15 4.613-0.331 1.381 0.688 2.506 2.050 2.506 2.462 0 4.356-2.6 4.356-6.35 0-3.319-2.387-5.638-5.787-5.638-3.944 0-6.256 2.956-6.256 6.019 0 1.194 0.456 2.469 1.031 3.163 0.113 0.137 0.131 0.256 0.094 0.4-0.106 0.438-0.338 1.381-0.387 1.575-0.063 0.256-0.2 0.306-0.463 0.188-1.731-0.806-2.813-3.337-2.813-5.369 0-4.375 3.175-8.387 9.156-8.387 4.806 0 8.544 3.425 8.544 8.006 0 4.775-3.012 8.625-7.194 8.625-1.406 0-2.725-0.731-3.175-1.594 0 0-0.694 2.644-0.863 3.294-0.313 1.206-1.156 2.712-1.725 3.631 1.3 0.4 2.675 0.619 4.106 0.619 7.656 0 13.863-6.206 13.863-13.863 0-7.662-6.206-13.869-13.863-13.869z\"></path>\n",
       "</symbol>\n",
       "<symbol id=\"icon-floppy-disk\" viewbox=\"0 0 32 32\">\n",
       "<path d=\"M28 0h-28v32h32v-28l-4-4zM16 4h4v8h-4v-8zM28 28h-24v-24h2v10h18v-10h2.343l1.657 1.657v22.343z\"></path>\n",
       "</symbol>\n",
       "<symbol id=\"icon-chat\" viewbox=\"0 0 16 16\">\n",
       "<path d=\"M2.678 11.894a1 1 0 0 1 .287.801 10.97 10.97 0 0 1-.398 2c1.395-.323 2.247-.697 2.634-.893a1 1 0 0 1 .71-.074A8.06 8.06 0 0 0 8 14c3.996 0 7-2.807 7-6 0-3.192-3.004-6-7-6S1 4.808 1 8c0 1.468.617 2.83 1.678 3.894zm-.493 3.905a21.682 21.682 0 0 1-.713.129c-.2.032-.352-.176-.273-.362a9.68 9.68 0 0 0 .244-.637l.003-.01c.248-.72.45-1.548.524-2.319C.743 11.37 0 9.76 0 8c0-3.866 3.582-7 8-7s8 3.134 8 7-3.582 7-8 7a9.06 9.06 0 0 1-2.347-.306c-.52.263-1.639.742-3.468 1.105z\"></path>\n",
       "<path d=\"M4 5.5a.5.5 0 0 1 .5-.5h7a.5.5 0 0 1 0 1h-7a.5.5 0 0 1-.5-.5zM4 8a.5.5 0 0 1 .5-.5h7a.5.5 0 0 1 0 1h-7A.5.5 0 0 1 4 8zm0 2.5a.5.5 0 0 1 .5-.5h4a.5.5 0 0 1 0 1h-4a.5.5 0 0 1-.5-.5z\"></path>\n",
       "</symbol>\n",
       "<symbol class=\"w-6 h-6\" fill=\"none\" id=\"icon-search2\" stroke=\"currentColor\" viewbox=\"0 0 24 24\">\n",
       "<path d=\"M21 21l-6-6m2-5a7 7 0 11-14 0 7 7 0 0114 0z\" stroke-linecap=\"round\" stroke-linejoin=\"round\" stroke-width=\"2\"></path>\n",
       "</symbol>\n",
       "<symbol id=\"icon-heart\" viewbox=\"0 0 24 24\">\n",
       "<path d=\"M4.318 6.318a4.5 4.5 0 000 6.364L12 20.364l7.682-7.682a4.5 4.5 0 00-6.364-6.364L12 7.636l-1.318-1.318a4.5 4.5 0 00-6.364 0z\" stroke-linecap=\"round\" stroke-linejoin=\"round\" stroke-width=\"2\"></path>\n",
       "</symbol>\n",
       "<symbol id=\"icon-collection\" viewbox=\"0 0 24 24\">\n",
       "<path d=\"M19 11H5m14 0a2 2 0 012 2v6a2 2 0 01-2 2H5a2 2 0 01-2-2v-6a2 2 0 012-2m14 0V9a2 2 0 00-2-2M5 11V9a2 2 0 012-2m0 0V5a2 2 0 012-2h6a2 2 0 012 2v2M7 7h10\" stroke-linecap=\"round\" stroke-linejoin=\"round\" stroke-width=\"2\"></path>\n",
       "</symbol>\n",
       "<symbol fill=\"currentColor\" height=\"16\" id=\"icon-list\" viewbox=\"0 0 12 16\" width=\"12\">\n",
       "<path d=\"M2 13c0 .59 0 1-.59 1H.59C0 14 0 13.59 0 13c0-.59 0-1 .59-1h.81c.59 0 .59.41.59 1H2zm2.59-9h6.81c.59 0 .59-.41.59-1 0-.59 0-1-.59-1H4.59C4 2 4 2.41 4 3c0 .59 0 1 .59 1zM1.41 7H.59C0 7 0 7.41 0 8c0 .59 0 1 .59 1h.81c.59 0 .59-.41.59-1 0-.59 0-1-.59-1h.01zm0-5H.59C0 2 0 2.41 0 3c0 .59 0 1 .59 1h.81c.59 0 .59-.41.59-1 0-.59 0-1-.59-1h.01zm10 5H4.59C4 7 4 7.41 4 8c0 .59 0 1 .59 1h6.81c.59 0 .59-.41.59-1 0-.59 0-1-.59-1h.01zm0 5H4.59C4 12 4 12.41 4 13c0 .59 0 1 .59 1h6.81c.59 0 .59-.41.59-1 0-.59 0-1-.59-1h.01z\" fill-rule=\"evenodd\"></path>\n",
       "</symbol>\n",
       "<symbol fill=\"currentColor\" height=\"18\" id=\"icon-history\" viewbox=\"0 0 19 18\" width=\"19\">\n",
       "<path d=\"M2.99999 9C3.00107 7.22563 3.59201 5.50197 4.67985 4.10018C5.76769 2.6984 7.29069 1.69805 9.00924 1.25651C10.7278 0.814966 12.5444 0.957294 14.1732 1.6611C15.802 2.3649 17.1506 3.59024 18.0069 5.14434C18.8631 6.69844 19.1784 8.49311 18.9031 10.246C18.6278 11.9989 17.7776 13.6105 16.4862 14.8273C15.1948 16.0442 13.5355 16.7971 11.7694 16.9678C10.0032 17.1384 8.23048 16.7171 6.72999 15.77L8.19999 14.3C9.35976 14.9119 10.6881 15.1271 11.9817 14.9125C13.2753 14.698 14.4631 14.0655 15.3632 13.1119C16.2633 12.1584 16.8262 10.9362 16.9659 9.6323C17.1055 8.32844 16.8142 7.01475 16.1364 5.89218C15.4586 4.76961 14.4317 3.9 13.2129 3.41637C11.994 2.93274 10.6503 2.86174 9.3872 3.21422C8.12415 3.56669 7.01135 4.32324 6.21905 5.36813C5.42674 6.41301 4.99855 7.68869 4.99999 9L8.00999 8.99L4.00999 12.99L0.00999451 8.99H3.00999L2.99999 9ZM9.99999 5H11.01L11 9.36L14.22 11.46L13.62 12.39L9.99999 10V5Z\"></path>\n",
       "</symbol>\n",
       "<symbol fill=\"none\" height=\"24\" id=\"icon-delete\" stroke=\"currentColor\" stroke-linecap=\"round\" stroke-linejoin=\"round\" stroke-width=\"2\" viewbox=\"0 0 24 24\" width=\"24\">\n",
       "<path d=\"M19 7l-.867 12.142A2 2 0 0116.138 21H7.862a2 2 0 01-1.995-1.858L5 7m5 4v6m4-6v6m1-10V4a1 1 0 00-1-1h-4a1 1 0 00-1 1v3M4 7h16\"></path>\n",
       "</symbol>\n",
       "<symbol fill=\"none\" height=\"24\" id=\"icon-clipboard-check\" stroke=\"currentColor\" stroke-linecap=\"round\" stroke-linejoin=\"round\" stroke-width=\"2\" viewbox=\"0 0 24 24\" width=\"24\">\n",
       "<path d=\"M9 5H7a2 2 0 00-2 2v12a2 2 0 002 2h10a2 2 0 002-2V7a2 2 0 00-2-2h-2M9 5a2 2 0 002 2h2a2 2 0 002-2M9 5a2 2 0 012-2h2a2 2 0 012 2m-6 9l2 2 4-4\"></path>\n",
       "</symbol>\n",
       "<symbol fill=\"none\" height=\"24\" id=\"icon-pencil-alt\" stroke=\"currentColor\" stroke-linecap=\"round\" stroke-linejoin=\"round\" stroke-width=\"2\" viewbox=\"0 0 24 24\" width=\"24\">\n",
       "<path d=\"M11 5H6a2 2 0 00-2 2v11a2 2 0 002 2h11a2 2 0 002-2v-5m-1.414-9.414a2 2 0 112.828 2.828L11.828 15H9v-2.828l8.586-8.586z\"></path>\n",
       "</symbol>\n",
       "<symbol class=\"w-6 h-6\" fill=\"none\" id=\"icon-document-add\" stroke=\"currentColor\" viewbox=\"0 0 24 24\">\n",
       "<path d=\"M9 13h6m-3-3v6m5 5H7a2 2 0 01-2-2V5a2 2 0 012-2h5.586a1 1 0 01.707.293l5.414 5.414a1 1 0 01.293.707V19a2 2 0 01-2 2z\" stroke-linecap=\"round\" stroke-linejoin=\"round\" stroke-width=\"2\"></path>\n",
       "</symbol>\n",
       "<symbol fill=\"none\" id=\"icon-document-remove\" stroke=\"currentColor\" viewbox=\"0 0 24 24\"><path d=\"M9 13h6m2 8H7a2 2 0 01-2-2V5a2 2 0 012-2h5.586a1 1 0 01.707.293l5.414 5.414a1 1 0 01.293.707V19a2 2 0 01-2 2z\" stroke-linecap=\"round\" stroke-linejoin=\"round\" stroke-width=\"2\"></path></symbol>\n",
       "<symbol fill=\"none\" id=\"icon-folder-add\" stroke=\"currentColor\" viewbox=\"0 0 24 24\"><path d=\"M9 13h6m-3-3v6m-9 1V7a2 2 0 012-2h6l2 2h6a2 2 0 012 2v8a2 2 0 01-2 2H5a2 2 0 01-2-2z\" stroke-linecap=\"round\" stroke-linejoin=\"round\" stroke-width=\"2\"></path></symbol>\n",
       "<symbol fill=\"none\" id=\"icon-folder-open\" stroke=\"currentColor\" viewbox=\"0 0 24 24\"><path d=\"M5 19a2 2 0 01-2-2V7a2 2 0 012-2h4l2 2h4a2 2 0 012 2v1M5 19h14a2 2 0 002-2v-5a2 2 0 00-2-2H9a2 2 0 00-2 2v5a2 2 0 01-2 2z\" stroke-linecap=\"round\" stroke-linejoin=\"round\" stroke-width=\"2\"></path></symbol>\n",
       "<symbol fill=\"none\" id=\"icon-folder-remove\" stroke=\"currentColor\" viewbox=\"0 0 24 24\"><path d=\"M9 13h6M3 17V7a2 2 0 012-2h6l2 2h6a2 2 0 012 2v8a2 2 0 01-2 2H5a2 2 0 01-2-2z\" stroke-linecap=\"round\" stroke-linejoin=\"round\" stroke-width=\"2\"></path></symbol>\n",
       "<symbol fill=\"none\" id=\"icon-book-open\" stroke=\"currentColor\" viewbox=\"0 0 24 24\"><path d=\"M12 6.253v13m0-13C10.832 5.477 9.246 5 7.5 5S4.168 5.477 3 6.253v13C4.168 18.477 5.754 18 7.5 18s3.332.477 4.5 1.253m0-13C13.168 5.477 14.754 5 16.5 5c1.747 0 3.332.477 4.5 1.253v13C19.832 18.477 18.247 18 16.5 18c-1.746 0-3.332.477-4.5 1.253\" stroke-linecap=\"round\" stroke-linejoin=\"round\" stroke-width=\"2\"></path></symbol>\n",
       "<symbol fill=\"none\" id=\"icon-document-text\" stroke=\"currentColor\" viewbox=\"0 0 24 24\"><path d=\"M9 12h6m-6 4h6m2 5H7a2 2 0 01-2-2V5a2 2 0 012-2h5.586a1 1 0 01.707.293l5.414 5.414a1 1 0 01.293.707V19a2 2 0 01-2 2z\" stroke-linecap=\"round\" stroke-linejoin=\"round\" stroke-width=\"2\"></path></symbol>\n",
       "<symbol fill=\"none\" id=\"icon-translate\" stroke=\"currentColor\" viewbox=\"0 0 24 24\"><path d=\"M3 5h12M9 3v2m1.048 9.5A18.022 18.022 0 016.412 9m6.088 9h7M11 21l5-10 5 10M12.751 5C11.783 10.77 8.07 15.61 3 18.129\" stroke-linecap=\"round\" stroke-linejoin=\"round\" stroke-width=\"2\"></path></symbol>\n",
       "<symbol fill=\"currentColor\" id=\"icon-dict\" stroke=\"currentColor\" viewbox=\"0 0 24 24\"><path d=\"M3 0h10a2 2 0 0 1 2 2v12a2 2 0 0 1-2 2H3a2 2 0 0 1-2-2v-1h1v1a1 1 0 0 0 1 1h10a1 1 0 0 0 1-1V2a1 1 0 0 0-1-1H3a1 1 0 0 0-1 1v1H1V2a2 2 0 0 1 2-2z\"></path><path d=\"M1 5v-.5a.5.5 0 0 1 1 0V5h.5a.5.5 0 0 1 0 1h-2a.5.5 0 0 1 0-1H1zm0 3v-.5a.5.5 0 0 1 1 0V8h.5a.5.5 0 0 1 0 1h-2a.5.5 0 0 1 0-1H1zm0 3v-.5a.5.5 0 0 1 1 0v.5h.5a.5.5 0 0 1 0 1h-2a.5.5 0 0 1 0-1H1z\"></path></symbol>\n",
       "<symbol fill=\"none\" id=\"icon-rhyme\" stroke=\"currentColor\" viewbox=\"0 0 24 24\"><path d=\"M9 19V6l12-3v13M9 19c0 1.105-1.343 2-3 2s-3-.895-3-2 1.343-2 3-2 3 .895 3 2zm12-3c0 1.105-1.343 2-3 2s-3-.895-3-2 1.343-2 3-2 3 .895 3 2zM9 10l12-3\" stroke-linecap=\"round\" stroke-linejoin=\"round\" stroke-width=\"2\"></path></symbol>\n",
       "<symbol fill=\"none\" id=\"icon-chat1\" stroke=\"currentColor\" viewbox=\"0 0 24 24\"><path d=\"M8 12h.01M12 12h.01M16 12h.01M21 12c0 4.418-4.03 8-9 8a9.863 9.863 0 01-4.255-.949L3 20l1.395-3.72C3.512 15.042 3 13.574 3 12c0-4.418 4.03-8 9-8s9 3.582 9 8z\" stroke-linecap=\"round\" stroke-linejoin=\"round\" stroke-width=\"2\"></path></symbol>\n",
       "<symbol fill=\"none\" id=\"icon-copy\" stroke=\"currentColor\" viewbox=\"0 0 24 24\"><path d=\"M8 16H6a2 2 0 01-2-2V6a2 2 0 012-2h8a2 2 0 012 2v2m-6 12h8a2 2 0 002-2v-8a2 2 0 00-2-2h-8a2 2 0 00-2 2v8a2 2 0 002 2z\" stroke-linecap=\"round\" stroke-linejoin=\"round\" stroke-width=\"2\"></path></symbol>\n",
       "<symbol class=\"bi bi-plus-square-dotted\" fill=\"currentColor\" id=\"icon-plus-square\" viewbox=\"0 0 16 16\"><path d=\"M2.5 0c-.166 0-.33.016-.487.048l.194.98A1.51 1.51 0 0 1 2.5 1h.458V0H2.5zm2.292 0h-.917v1h.917V0zm1.833 0h-.917v1h.917V0zm1.833 0h-.916v1h.916V0zm1.834 0h-.917v1h.917V0zm1.833 0h-.917v1h.917V0zM13.5 0h-.458v1h.458c.1 0 .199.01.293.029l.194-.981A2.51 2.51 0 0 0 13.5 0zm2.079 1.11a2.511 2.511 0 0 0-.69-.689l-.556.831c.164.11.305.251.415.415l.83-.556zM1.11.421a2.511 2.511 0 0 0-.689.69l.831.556c.11-.164.251-.305.415-.415L1.11.422zM16 2.5c0-.166-.016-.33-.048-.487l-.98.194c.018.094.028.192.028.293v.458h1V2.5zM.048 2.013A2.51 2.51 0 0 0 0 2.5v.458h1V2.5c0-.1.01-.199.029-.293l-.981-.194zM0 3.875v.917h1v-.917H0zm16 .917v-.917h-1v.917h1zM0 5.708v.917h1v-.917H0zm16 .917v-.917h-1v.917h1zM0 7.542v.916h1v-.916H0zm15 .916h1v-.916h-1v.916zM0 9.375v.917h1v-.917H0zm16 .917v-.917h-1v.917h1zm-16 .916v.917h1v-.917H0zm16 .917v-.917h-1v.917h1zm-16 .917v.458c0 .166.016.33.048.487l.98-.194A1.51 1.51 0 0 1 1 13.5v-.458H0zm16 .458v-.458h-1v.458c0 .1-.01.199-.029.293l.981.194c.032-.158.048-.32.048-.487zM.421 14.89c.183.272.417.506.69.689l.556-.831a1.51 1.51 0 0 1-.415-.415l-.83.556zm14.469.689c.272-.183.506-.417.689-.69l-.831-.556c-.11.164-.251.305-.415.415l.556.83zm-12.877.373c.158.032.32.048.487.048h.458v-1H2.5c-.1 0-.199-.01-.293-.029l-.194.981zM13.5 16c.166 0 .33-.016.487-.048l-.194-.98A1.51 1.51 0 0 1 13.5 15h-.458v1h.458zm-9.625 0h.917v-1h-.917v1zm1.833 0h.917v-1h-.917v1zm1.834-1v1h.916v-1h-.916zm1.833 1h.917v-1h-.917v1zm1.833 0h.917v-1h-.917v1zM8.5 4.5a.5.5 0 0 0-1 0v3h-3a.5.5 0 0 0 0 1h3v3a.5.5 0 0 0 1 0v-3h3a.5.5 0 0 0 0-1h-3v-3z\"></path></symbol>\n",
       "<symbol class=\"bi bi-lock-fill\" fill=\"currentColor\" id=\"icon-lock\" viewbox=\"0 0 16 16\"><path d=\"M8 1a2 2 0 0 1 2 2v4H6V3a2 2 0 0 1 2-2zm3 6V3a3 3 0 0 0-6 0v4a2 2 0 0 0-2 2v5a2 2 0 0 0 2 2h6a2 2 0 0 0 2-2V9a2 2 0 0 0-2-2z\"></path></symbol>\n",
       "<symbol fill=\"none\" id=\"icon-chevron-right\" stroke=\"currentColor\" viewbox=\"0 0 24 24\"><path d=\"M13 5l7 7-7 7M5 5l7 7-7 7\" stroke-linecap=\"round\" stroke-linejoin=\"round\" stroke-width=\"2\"></path></symbol>\n",
       "<symbol class=\"bi bi-star-fill\" fill=\"currentColor\" id=\"icon-star\" viewbox=\"0 0 16 16\"><path d=\"M3.612 15.443c-.386.198-.824-.149-.746-.592l.83-4.73L.173 6.765c-.329-.314-.158-.888.283-.95l4.898-.696L7.538.792c.197-.39.73-.39.927 0l2.184 4.327 4.898.696c.441.062.612.636.282.95l-3.522 3.356.83 4.73c.078.443-.36.79-.746.592L8 13.187l-4.389 2.256z\"></path></symbol>\n",
       "<symbol class=\"bi bi-check2\" fill=\"currentColor\" id=\"icon-check\" viewbox=\"0 0 16 16\"><path d=\"M13.854 3.646a.5.5 0 0 1 0 .708l-7 7a.5.5 0 0 1-.708 0l-3.5-3.5a.5.5 0 1 1 .708-.708L6.5 10.293l6.646-6.647a.5.5 0 0 1 .708 0z\" stroke-width=\"2\"></path></symbol>\n",
       "<symbol class=\"bi bi-gem\" fill=\"currentColor\" id=\"icon-gem\" viewbox=\"0 0 16 16\"><path d=\"M3.1.7a.5.5 0 0 1 .4-.2h9a.5.5 0 0 1 .4.2l2.976 3.974c.149.185.156.45.01.644L8.4 15.3a.5.5 0 0 1-.8 0L.1 5.3a.5.5 0 0 1 0-.6l3-4zm11.386 3.785-1.806-2.41-.776 2.413 2.582-.003zm-3.633.004.961-2.989H4.186l.963 2.995 5.704-.006zM5.47 5.495 8 13.366l2.532-7.876-5.062.005zm-1.371-.999-.78-2.422-1.818 2.425 2.598-.003zM1.499 5.5l5.113 6.817-2.192-6.82L1.5 5.5zm7.889 6.817 5.123-6.83-2.928.002-2.195 6.828z\"></path></symbol>\n",
       "<symbol id=\"icon-right-arrow\" viewbox=\"0 0 24 24\"><path d=\"M14 5l7 7m0 0l-7 7m7-7H3\" stroke-linecap=\"round\" stroke-linejoin=\"round\" stroke-width=\"2\"></path></symbol>\n",
       "<symbol fill=\"none\" id=\"icon-question-circle\" stroke=\"currentColor\" viewbox=\"0 0 24 24\"><path d=\"M8.228 9c.549-1.165 2.03-2 3.772-2 2.21 0 4 1.343 4 3 0 1.4-1.278 2.575-3.006 2.907-.542.104-.994.54-.994 1.093m0 3h.01M21 12a9 9 0 11-18 0 9 9 0 0118 0z\" stroke-linecap=\"round\" stroke-linejoin=\"round\" stroke-width=\"2\"></path></symbol>\n",
       "</defs>\n",
       "</svg>\n",
       "<!--S:0/A:1-->\n",
       "<!--Ad0--><!-- Affinity HB Invocation -->\n",
       "<script>\n",
       "(function(){var o='script',s=top.document,a=s.createElement(o),m=s.getElementsByTagName(o)[0],d=new Date(),t=''+d.getDate()+d.getMonth()+d.getHours();a.async=1;a.src='https://cdn4-hbs.affinitymatrix.com/hbcnf/hvr_man_shabdkosh.com/'+t+'/affhb.data.js?t='+t;m.parentNode.insertBefore(a,m)})()\n",
       "</script>\n",
       "<!--Affinity HVR Invocation -->\n",
       "<script type=\"text/javascript\">\n",
       "(function(){var o='script',s=top.document,a=s.createElement(o),m=s.getElementsByTagName(o)[0],d=new Date();a.async=1;a.src='https://hbs.ph.affinity.com/v5/shabdkosh.com/index.php?t='+d.getDate()+d.getMonth()+d.getHours();m.parentNode.insertBefore(a,m)})()\n",
       "</script>\n",
       "<!--Affinity Sticky footer -->\n",
       "<script type=\"text/javascript\">\n",
       "!function(e,t){\"use strict\";window.googletag=window.top.googletag||{},window.googletag.cmd=window.top.googletag.cmd||[];var o=!1,i={dsk:{c:\"/42115163,30573161/IP_shabdkosh.com_Desk_728x90_Footer\",i:l(2)+l(10),w:728,h:90},mob:{c:\"/42115163,30573161/IP_shabdkosh.com_Mob_320x100_Footer\",i:l(2)+l(10),w:320,h:100,adim:[[320,50],[320,100]]}};function s(e){var o=\"readyState\",i=\"attachEvent\";\"interactive\"===t[o]||\"complete\"===t[o]?e():t[i]?t[i](\"onreadystatechange\",e):t.addEventListener(\"readystatechange\",e)}function l(e,t){var o=\"\",i=\"\";i=1==t?\"abcdefghijklmnopqrstuvwxyzABCDEFGHIJKLMNOPQRSTUVWXYZ\":\"0123456789abcdefghijklmnopqrstuvwxyzABCDEFGHIJKLMNOPQRSTUVWXYZ\";for(var s=e;s>0;--s)o+=i[Math.floor(Math.random()*i.length)];return o}function a(){t.getElementById(\"stickyunit\")&&t.getElementById(\"stickyunit\").remove();var s,l,a,d,n,g=i.dsk,c=[],r=[],p=15,y=5;e.screen.width>800?(g=i.dsk,n=.8,p=5):(o=!0,(g=i.mob).h,n=.8,y=3);var h=e.screen.width/2-g.w/2,u=h+g.w,m=g.h;(s=t.createElement(\"div\")).id=\"stickyunit\",s.style.position=\"fixed\",s.style.bottom=\"0px\",s.style.height=100+p+\"px\",s.style.width=\"100%\",s.style.backgroundColor=\"rgba(242,242,242,0.3)\",s.style.justifyContent=\"center\",s.style.display=\"none\",(l=t.createElement(\"div\")).id=g.i,l.className=g.i,l.style.zIndex=\"50\",l.style.position=\"fixed\",l.style.left=h+\"px\",l.style.bottom=\"0px\",l.style.height=g.h,l.style.width=g.w,(a=t.createElement(\"span\")).innerHTML=[\"&#x\",\"274E;\"].join(\"\"),a.style.display=\"none\",a.title=\"Close\",!0===o?a.style.right=\"0px\":a.style.left=u+\"px\",n>0&&(a.style.fontSize=n+\"em\"),a.style.cursor=\"pointer\",a.style.bottom=0+m-y+\"px\",a.style.fontWeight=\"bolder\",a.style.color=\"black\",a.style.position=\"fixed\",a.onclick=function(){t.getElementById(\"stickyunit\").style.display=\"none\",null!=r[0]&&googletag.destroySlots(r[0]),s.remove(),l.remove(),a.remove()},d=t.body,s.appendChild(a),s.appendChild(l),d.appendChild(s),googletag.cmd.push(function(){if(!0===o&&null!=g.adim)var e=googletag.defineSlot(g.c,g.adim,g.i).addService(googletag.pubads());else e=googletag.defineSlot(g.c,[g.w,g.h],g.i).addService(googletag.pubads());c.push(g.i),r.push(e),googletag.enableServices(),googletag.display(g.i),s.style.display=\"block\",a.style.display=\"block\",googletag.pubads().isInitialLoadDisabled()&&-1==googletag.pubads().refresh.toString().indexOf(\"refresh:\")&&(console.log(\"od : load was disabled\", googletag.pubads().refresh),googletag.pubads().refresh([e])),!0===o&&googletag.pubads().addEventListener(\"slotRenderEnded\",function(t){var o=t.slot;t,o.getAdUnitPath()==e.getAdUnitPath()&&void 0!==t.size&&void 0!==t.size[1]&&100!=t.size[1]&&(s.style.height=t.size[1]+p+\"px\",a.style.bottom=0+t.size[1]-y+\"px\")})})}googletag.cmd.push(function(){s(a)})}(window.top,window.top.document);\n",
       "</script>\n",
       "<script>\n",
       "  var tabbar = document.getElementById(\"navbar\");\n",
       "  var prevScrollpos = window.pageYOffset;\n",
       "  var sticky;\n",
       "  if(tabbar){\n",
       "    sticky = tabbar.offsetTop;\n",
       "    window.addEventListener('scroll',(e) => {handleScroll();});\n",
       "  }\n",
       "</script><iframe src=\"https://84bd2adae143c0c38de78e694430d2cd.safeframe.googlesyndication.com/safeframe/1-0-38/html/container.html\" style=\"visibility: hidden; display: none;\"></iframe>\n",
       "</b></b><ins class=\"adsbygoogle adsbygoogle-noablate\" data-ad-status=\"unfilled\" data-adsbygoogle-status=\"done\" style=\"display: none !important;\"><ins aria-label=\"Advertisement\" id=\"aswift_3_expand\" style=\"border: none; height: 0px; width: 0px; margin: 0px; padding: 0px; position: relative; visibility: visible; background-color: transparent; display: inline-table;\" tabindex=\"0\" title=\"Advertisement\"><ins id=\"aswift_3_anchor\" style=\"border: none; height: 0px; width: 0px; margin: 0px; padding: 0px; position: relative; visibility: visible; background-color: transparent; display: block;\"><iframe allow=\"attribution-reporting\" allowfullscreen=\"true\" allowtransparency=\"true\" data-google-container-id=\"a!4\" data-load-complete=\"true\" frameborder=\"0\" hspace=\"0\" id=\"aswift_3\" marginheight=\"0\" marginwidth=\"0\" name=\"aswift_3\" sandbox=\"allow-forms allow-popups allow-popups-to-escape-sandbox allow-same-origin allow-scripts allow-top-navigation-by-user-activation\" scrolling=\"no\" src=\"https://googleads.g.doubleclick.net/pagead/ads?client=ca-pub-2804136533585134&amp;output=html&amp;adk=88377146&amp;adf=3388895239&amp;lmt=1640363297&amp;plat=1%3A8%2C2%3A8%2C3%3A32%2C4%3A32%2C9%3A32776%2C16%3A8388608%2C17%3A32%2C24%3A32%2C25%3A32%2C30%3A1048576%2C32%3A32&amp;format=0x0&amp;url=https%3A%2F%2Fwww.shabdkosh.com%2Fsearch-dictionary%3Flc%3Dsa%26sl%3Den%26tl%3Dsa%26e%3Dagain&amp;ea=0&amp;flash=0&amp;pra=7&amp;wgl=1&amp;uach=WyIiLCIiLCIiLCIiLCIiLFtdLG51bGwsbnVsbCwiIl0.&amp;dt=1640363297161&amp;bpp=4&amp;bdt=192&amp;idt=4&amp;shv=r20211207&amp;mjsv=m202112060101&amp;ptt=9&amp;saldr=aa&amp;abxe=1&amp;cookie=ID%3D686e932df5163ce7-2236bb5986cf0066%3AT%3D1640363294%3AS%3DALNI_MYRLyy2ZqqRSgXlIdrFtb9rwYS4vw&amp;prev_fmts=560x100&amp;nras=1&amp;correlator=6564073985598&amp;frm=20&amp;pv=1&amp;ga_vid=1142453384.1640363293&amp;ga_sid=1640363297&amp;ga_hid=1392668344&amp;ga_fc=1&amp;u_tz=330&amp;u_his=3&amp;u_h=600&amp;u_w=800&amp;u_ah=600&amp;u_aw=800&amp;u_cd=24&amp;dmc=8&amp;adx=-12245933&amp;ady=-12245933&amp;biw=779&amp;bih=579&amp;scr_x=0&amp;scr_y=0&amp;eid=31063825&amp;oid=2&amp;pvsid=3587301692309787&amp;pem=297&amp;tmod=453&amp;ref=https%3A%2F%2Fwww.shabdkosh.com%2Fdictionary%2Fenglish-sanskrit%2F&amp;eae=2&amp;fc=896&amp;brdim=0%2C0%2C0%2C0%2C800%2C0%2C800%2C600%2C800%2C600&amp;vis=1&amp;rsz=%7C%7Cs%7C&amp;abl=NS&amp;fu=33792&amp;bc=31&amp;ifi=4&amp;uci=a!4&amp;fsb=1&amp;dtd=9\" style=\"left:0;position:absolute;top:0;border:0;width:undefinedpx;height:undefinedpx;\" vspace=\"0\"></iframe></ins></ins></ins><div class=\"autocomplete-suggestions\"></div><div id=\"stickyunit\" style=\"position: fixed; bottom: 0px; height: 115px; width: 100%; background-color: rgba(242, 242, 242, 0.3); justify-content: center; display: block;\"><span style=\"display: block; right: 0px; font-size: 0.8em; cursor: pointer; bottom: 97px; font-weight: bolder; color: black; position: fixed;\" title=\"Close\">❎</span><div class=\"JHtIIAbMsWdB\" data-google-query-id=\"CMHjkb7t_PQCFZVGKwodLNkOQw\" id=\"JHtIIAbMsWdB\" style=\"z-index: 50; position: fixed; left: 240px; bottom: 0px;\"><div id=\"google_ads_iframe_/42115163,30573161/IP_shabdkosh.com_Mob_320x100_Footer_0__container__\" style=\"border: 0pt none;\"><iframe allow=\"attribution-reporting\" aria-label=\"Advertisement\" data-google-container-id=\"1\" data-load-complete=\"true\" frameborder=\"0\" height=\"100\" id=\"google_ads_iframe_/42115163,30573161/IP_shabdkosh.com_Mob_320x100_Footer_0\" marginheight=\"0\" marginwidth=\"0\" name=\"google_ads_iframe_/42115163,30573161/IP_shabdkosh.com_Mob_320x100_Footer_0\" role=\"region\" scrolling=\"no\" srcdoc=\"\" style=\"border: 0px; vertical-align: bottom;\" tabindex=\"0\" title=\"3rd party ad content\" width=\"320\"></iframe></div></div></div><iframe name=\"googlefcPresent\" style=\"display: none; width: 0px; height: 0px; border: none; z-index: -1000; left: -1000px; top: -1000px;\"></iframe><iframe name=\"__tcfapiLocator\" src=\"about:blank\" style=\"display: none; width: 0px; height: 0px; border: none; z-index: -1000; left: -1000px; top: -1000px;\"></iframe><iframe name=\"googlefcInactive\" src=\"about:blank\" style=\"display: none; width: 0px; height: 0px; border: none; z-index: -1000; left: -1000px; top: -1000px;\"></iframe><iframe name=\"googlefcLoaded\" src=\"about:blank\" style=\"display: none; width: 0px; height: 0px; border: none; z-index: -1000; left: -1000px; top: -1000px;\"></iframe><iframe height=\"0\" src=\"https://tpc.googlesyndication.com/sodar/sodar2/225/runner.html\" style=\"display: none;\" width=\"0\"></iframe><iframe height=\"0\" src=\"https://www.google.com/recaptcha/api2/aframe\" style=\"display: none;\" width=\"0\"></iframe></body><iframe id=\"google_esf\" name=\"google_esf\" src=\"https://googleads.g.doubleclick.net/pagead/html/r20211207/r20190131/zrt_lookup.html\" style=\"display: none;\"></iframe><ins aria-hidden=\"true\" class=\"adsbygoogle adsbygoogle-noablate\" data-ad-status=\"filled\" data-adsbygoogle-status=\"done\" data-vignette-loaded=\"true\" style=\"display: none !important; width: 100vw !important; height: 100vh !important; inset: 0px auto auto 0px !important; clear: none !important; float: none !important; margin: 0px !important; max-height: none !important; max-width: none !important; opacity: 1 !important; overflow: visible !important; padding: 0px !important; position: fixed !important; vertical-align: baseline !important; visibility: visible !important; z-index: 2147483647 !important; background: transparent !important;\"><ins aria-label=\"Advertisement\" id=\"aswift_5_expand\" style=\"border: none !important; height: 100vh !important; width: 100vw !important; margin: 0px !important; padding: 0px !important; position: relative !important; visibility: visible !important; background-color: transparent !important; display: inline-table !important; inset: auto !important; clear: none !important; float: none !important; max-height: none !important; max-width: none !important; opacity: 1 !important; overflow: visible !important; vertical-align: baseline !important; z-index: auto !important;\" tabindex=\"0\" title=\"Advertisement\"><ins id=\"aswift_5_anchor\" style=\"border: none !important; height: 100vh !important; width: 100vw !important; margin: 0px !important; padding: 0px !important; position: relative !important; visibility: visible !important; background-color: transparent !important; display: block !important; inset: auto !important; clear: none !important; float: none !important; max-height: none !important; max-width: none !important; opacity: 1 !important; overflow: visible !important; vertical-align: baseline !important; z-index: auto !important;\"><iframe allow=\"attribution-reporting\" allowfullscreen=\"true\" allowtransparency=\"true\" data-google-container-id=\"a!6\" data-google-query-id=\"CL-Rxb3t_PQCFRWoSwUduzULtA\" data-load-complete=\"true\" frameborder=\"0\" height=\"\" hspace=\"0\" id=\"aswift_5\" marginheight=\"0\" marginwidth=\"0\" name=\"\" sandbox=\"allow-forms allow-popups allow-popups-to-escape-sandbox allow-same-origin allow-scripts allow-top-navigation-by-user-activation\" scrolling=\"no\" src=\"https://googleads.g.doubleclick.net/pagead/html/r20211207/r20110914/zrt_lookup.html?fsb=1#RS-0-&amp;adk=88377148&amp;client=ca-pub-2804136533585134&amp;fa=8&amp;ifi=6&amp;uci=a!6\" style=\"width: 100vw !important; height: 100vh !important; inset: 0px auto auto 0px !important; position: absolute !important; clear: none !important; display: inline !important; float: none !important; margin: 0px !important; max-height: none !important; max-width: none !important; opacity: 1 !important; overflow: visible !important; padding: 0px !important; vertical-align: baseline !important; visibility: visible !important; z-index: auto !important;\" vspace=\"0\" width=\"\"></iframe></ins></ins></ins></html>"
      ]
     },
     "execution_count": 19,
     "metadata": {},
     "output_type": "execute_result"
    }
   ],
   "source": [
    "word = \"again\"\n",
    "driver = webdriver.Chrome(\"chromedriver\",chrome_options=chrome_options)\n",
    "driver.implicitly_wait(0.5)\n",
    "driver.get(\"https://www.shabdkosh.com/dictionary/english-sanskrit/\")\n",
    "m = driver.find_element_by_name(\"e\")\n",
    "m.send_keys(word)\n",
    "time.sleep(0.2)\n",
    "m.send_keys(Keys.ENTER)\n",
    "time.sleep(0.2)\n",
    "#b = driver.find_element_by_name(\"Submit1\")\n",
    "#b.click()\n",
    "soup = BeautifulSoup(driver.page_source, 'html.parser')\n",
    "soup"
   ]
  },
  {
   "cell_type": "code",
   "execution_count": null,
   "metadata": {
    "ExecuteTime": {
     "end_time": "2021-12-24T16:23:00.639551Z",
     "start_time": "2021-12-24T16:22:15.112Z"
    },
    "colab": {
     "base_uri": "https://localhost:8080/",
     "height": 883
    },
    "executionInfo": {
     "elapsed": 130990,
     "status": "error",
     "timestamp": 1640193495814,
     "user": {
      "displayName": "Sarthak Rastogi",
      "photoUrl": "https://lh3.googleusercontent.com/a-/AOh14GgjV2l0bM183bdefu3PYpY3V0EEWbr7EAUJZfSsQyA=s64",
      "userId": "13011506269675720653"
     },
     "user_tz": -330
    },
    "id": "JtF3Brbu_Dde",
    "outputId": "f3e31333-88fe-437b-f2a7-06738991a803"
   },
   "outputs": [],
   "source": [
    "from selenium import webdriver\n",
    "from selenium.webdriver.common.keys import Keys\n",
    "import time\n",
    "\n",
    "driver = webdriver.Chrome(\"chromedriver\",chrome_options=chrome_options)\n",
    "driver.implicitly_wait(0.5)\n",
    "driver.get(\"https://www.shabdkosh.com/dictionary/english-sanskrit/\")\n",
    "driver.find_element_by_class(\"ps-2 form-control xlit hi1\")\n",
    "for word in tqdm(en_keys):\n",
    "    m = driver.find_element_by_name(\"e\")\n",
    "    m.send_keys(word)\n",
    "    time.sleep(0.2)\n",
    "    m.send_keys(Keys.ENTER)\n",
    "    time.sleep(0.2)\n",
    "    #b = driver.find_element_by_name(\"Submit1\")\n",
    "    #b.click()\n",
    "    soup = BeautifulSoup(driver.page_source, 'html.parser')\n",
    "\n",
    "    try:\n",
    "        divcontents = soup.find(\"div\", {\"id\": \"hlight\"}).text.replace('\\n', '').replace('\\t', '')\n",
    "        a = 'Close Match and Related Words'\n",
    "        if divcontents[29:].split(\" \")[0] == word and divcontents[29:].split(\" \")[1] == \":\":\n",
    "            print(divcontents[29:].split(\" \")[2])\n",
    "          \n",
    "        elif divcontents[29:].split(\" \")[3] == word and divcontents[29:].split(\" \")[1] == \":\":\n",
    "            print(divcontents[29:].split(\" \")[0])\n",
    "\n",
    "        else:\n",
    "            print('no')\n",
    "        \n",
    "    except AttributeError:\n",
    "        print('no')#translated_word = None\n",
    "\n",
    "    #print(translated_word)\n",
    "\n",
    "   # time.sleep(1)"
   ]
  },
  {
   "cell_type": "code",
   "execution_count": null,
   "metadata": {
    "ExecuteTime": {
     "end_time": "2021-12-24T16:23:00.645554Z",
     "start_time": "2021-12-24T16:22:15.115Z"
    },
    "executionInfo": {
     "elapsed": 46,
     "status": "aborted",
     "timestamp": 1640193326859,
     "user": {
      "displayName": "Sarthak Rastogi",
      "photoUrl": "https://lh3.googleusercontent.com/a-/AOh14GgjV2l0bM183bdefu3PYpY3V0EEWbr7EAUJZfSsQyA=s64",
      "userId": "13011506269675720653"
     },
     "user_tz": -330
    },
    "id": "qSPQy3p_P_Pv"
   },
   "outputs": [],
   "source": [
    "dataset_details_df"
   ]
  },
  {
   "cell_type": "code",
   "execution_count": null,
   "metadata": {
    "ExecuteTime": {
     "end_time": "2021-12-24T16:23:00.649555Z",
     "start_time": "2021-12-24T16:22:15.117Z"
    },
    "executionInfo": {
     "elapsed": 48,
     "status": "aborted",
     "timestamp": 1640193326861,
     "user": {
      "displayName": "Sarthak Rastogi",
      "photoUrl": "https://lh3.googleusercontent.com/a-/AOh14GgjV2l0bM183bdefu3PYpY3V0EEWbr7EAUJZfSsQyA=s64",
      "userId": "13011506269675720653"
     },
     "user_tz": -330
    },
    "id": "Xi77-KdudOIK"
   },
   "outputs": [],
   "source": [
    "#NOTEBOOK LINKS\n",
    "\n",
    "data = {}\n",
    "for dataset_link in tqdm(dataset_links):\n",
    "    data[dataset_link] = []\n",
    "    i = 1\n",
    "    while True:\n",
    "        notebook_links = []\n",
    "        driver = webdriver.Chrome(\"chromedriver\", chrome_options=chrome_options)\n",
    "        link = dataset_link + '/code?sortBy=voteCount' + '&page=' + str(i)\n",
    "        #print(link)\n",
    "        driver.get(link)\n",
    "        time.sleep(2)\n",
    "        soup = BeautifulSoup(driver.page_source, 'html.parser')\n",
    "        driver.quit()\n",
    "        notebooks_on_page = soup.find_all(\"li\",{\"class\":\"sc-bBjRSN cdTyhF\"})\n",
    "\n",
    "        for nb in notebooks_on_page:\n",
    "            try:\n",
    "                notebook_links.append('https://www.kaggle.com' + nb.find(\"a\", {\"class\":\"sc-hTRkXV enlJuL sc-hGsYiN hkzxwK\"}).get(\"href\"))\n",
    "            except AttributeError:\n",
    "                pass\n",
    "        data[dataset_link] += notebook_links\n",
    "        print(i)\n",
    "\n",
    "        i += 1\n",
    "        \n",
    "        if i == 20: #soup.find_all(\"span\", {\"class\":\"sc-bYwzuL sc-kLojOw sc-gtcfXJ bwxWTW iehvjW kGVMGk\"}) == []: #if you reach a page with 0 notebooks with medals,\n",
    "            break                                                                                       #stop"
   ]
  },
  {
   "cell_type": "code",
   "execution_count": null,
   "metadata": {
    "ExecuteTime": {
     "end_time": "2021-12-24T16:23:00.653550Z",
     "start_time": "2021-12-24T16:22:15.120Z"
    },
    "executionInfo": {
     "elapsed": 48,
     "status": "aborted",
     "timestamp": 1640193326862,
     "user": {
      "displayName": "Sarthak Rastogi",
      "photoUrl": "https://lh3.googleusercontent.com/a-/AOh14GgjV2l0bM183bdefu3PYpY3V0EEWbr7EAUJZfSsQyA=s64",
      "userId": "13011506269675720653"
     },
     "user_tz": -330
    },
    "id": "OoIXFRcMBdyF"
   },
   "outputs": [],
   "source": [
    "len(data['https://www.kaggle.com/sudalairajkumar/novel-corona-virus-2019-dataset'])"
   ]
  },
  {
   "cell_type": "code",
   "execution_count": null,
   "metadata": {
    "ExecuteTime": {
     "end_time": "2021-12-24T16:23:00.657551Z",
     "start_time": "2021-12-24T16:22:15.123Z"
    },
    "executionInfo": {
     "elapsed": 50,
     "status": "aborted",
     "timestamp": 1640193326864,
     "user": {
      "displayName": "Sarthak Rastogi",
      "photoUrl": "https://lh3.googleusercontent.com/a-/AOh14GgjV2l0bM183bdefu3PYpY3V0EEWbr7EAUJZfSsQyA=s64",
      "userId": "13011506269675720653"
     },
     "user_tz": -330
    },
    "id": "uKXrpDC3A2-v"
   },
   "outputs": [],
   "source": [
    "data"
   ]
  },
  {
   "cell_type": "code",
   "execution_count": null,
   "metadata": {
    "executionInfo": {
     "elapsed": 52,
     "status": "aborted",
     "timestamp": 1640193326866,
     "user": {
      "displayName": "Sarthak Rastogi",
      "photoUrl": "https://lh3.googleusercontent.com/a-/AOh14GgjV2l0bM183bdefu3PYpY3V0EEWbr7EAUJZfSsQyA=s64",
      "userId": "13011506269675720653"
     },
     "user_tz": -330
    },
    "id": "JbM2cyOmTikO"
   },
   "outputs": [],
   "source": []
  }
 ],
 "metadata": {
  "colab": {
   "collapsed_sections": [],
   "name": "translation_selenium.ipynb",
   "provenance": []
  },
  "kernelspec": {
   "display_name": "Python 3",
   "language": "python",
   "name": "python3"
  },
  "language_info": {
   "codemirror_mode": {
    "name": "ipython",
    "version": 3
   },
   "file_extension": ".py",
   "mimetype": "text/x-python",
   "name": "python",
   "nbconvert_exporter": "python",
   "pygments_lexer": "ipython3",
   "version": "3.8.5"
  }
 },
 "nbformat": 4,
 "nbformat_minor": 1
}
